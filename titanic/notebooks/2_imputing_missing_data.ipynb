{
 "cells": [
  {
   "attachments": {},
   "cell_type": "markdown",
   "metadata": {},
   "source": [
    "# 2. Managing Missing Data\n",
    "\n",
    "<span style=\"font-size:14px;font-family: Arial;line-height:1.5\">\n",
    "Having looked at the data in chapter 1, we can see that some variables of interest such as Age are sometimes missing from the ~20% of the dataset. Our exploration also hinted that this information could be a valuable predictor for whether someone survived and so we might be heavily incentivised to use that feature. <br>\n",
    "\n",
    "In this chapter, we'll answer three questions that are central to any data analysis:\n",
    "1. What is missing?\n",
    "2. Why is it missing?\n",
    "3. What are we going to do about it?\n",
    "\n",
    "Several methods for dealing with missing data exist, either using simple summary statistics or by devising more complex models for predicting missing values based on remaining features that are available. We'll also cover some statistical models that can handle missing data as part of the input, and what benefits that might offer.\n",
    "\n",
    "We'll load the data after the initial review and cleaning that took place in Chapter 1."
   ]
  },
  {
   "cell_type": "code",
   "execution_count": 1,
   "metadata": {},
   "outputs": [
    {
     "name": "stdout",
     "output_type": "stream",
     "text": [
      "Training data = 891 passengers\n",
      "Test data = 418 passengers\n"
     ]
    }
   ],
   "source": [
    "from pathlib import Path\n",
    "import pandas as pd\n",
    "\n",
    "data_dir = Path.cwd().parent / 'data/original'        \n",
    "train = pd.read_csv(data_dir / 'train.csv')\n",
    "test = pd.read_csv(data_dir / 'test.csv')\n",
    "\n",
    "print(f\"Training data = {train.shape[0]} passengers\")\n",
    "print(f\"Test data = {test.shape[0]} passengers\")"
   ]
  },
  {
   "attachments": {},
   "cell_type": "markdown",
   "metadata": {},
   "source": [
    "## 2.1. What's missing?\n",
    "\n",
    "<span style=\"font-size:14px;font-family: Arial;line-height:1.5\">\n",
    "In their book <i>Statistical Analysis with Missing Data</i> (3rd Edition, 2020), Little and Rubin distinguish between the patterns of missing data and the mechanisms of missing data. This distinction highlights that it's important to understand where and when data is missing, but also the reasons why data is absent. \n",
    "</span>\n",
    "\n",
    "### 2.1.1. Which columns have missing data\n",
    "<span style=\"font-size:14px;font-family: Arial;line-height:1.5\">\n",
    "For a simple dataset like the titanic files, where each column is supposed to be a distinct measurement, we can start by simply asking which columns have missing data in each dataset. Although methods such as describe() offer an way to identify columns with missing data, the output can be messy when there are a lot of columns, most of which have complete data. For that reason, I decided to write a quick function summarizing only those columns with missing data:\n",
    "</span>"
   ]
  },
  {
   "cell_type": "code",
   "execution_count": 2,
   "metadata": {},
   "outputs": [
    {
     "data": {
      "text/html": [
       "<div>\n",
       "<style scoped>\n",
       "    .dataframe tbody tr th:only-of-type {\n",
       "        vertical-align: middle;\n",
       "    }\n",
       "\n",
       "    .dataframe tbody tr th {\n",
       "        vertical-align: top;\n",
       "    }\n",
       "\n",
       "    .dataframe thead th {\n",
       "        text-align: right;\n",
       "    }\n",
       "</style>\n",
       "<table border=\"1\" class=\"dataframe\">\n",
       "  <thead>\n",
       "    <tr style=\"text-align: right;\">\n",
       "      <th></th>\n",
       "      <th>train</th>\n",
       "      <th>test</th>\n",
       "    </tr>\n",
       "  </thead>\n",
       "  <tbody>\n",
       "    <tr>\n",
       "      <th>Age</th>\n",
       "      <td>177.0</td>\n",
       "      <td>86.0</td>\n",
       "    </tr>\n",
       "    <tr>\n",
       "      <th>Cabin</th>\n",
       "      <td>687.0</td>\n",
       "      <td>327.0</td>\n",
       "    </tr>\n",
       "    <tr>\n",
       "      <th>Embarked</th>\n",
       "      <td>2.0</td>\n",
       "      <td>0.0</td>\n",
       "    </tr>\n",
       "    <tr>\n",
       "      <th>Fare</th>\n",
       "      <td>0.0</td>\n",
       "      <td>1.0</td>\n",
       "    </tr>\n",
       "  </tbody>\n",
       "</table>\n",
       "</div>"
      ],
      "text/plain": [
       "          train   test\n",
       "Age       177.0   86.0\n",
       "Cabin     687.0  327.0\n",
       "Embarked    2.0    0.0\n",
       "Fare        0.0    1.0"
      ]
     },
     "execution_count": 2,
     "metadata": {},
     "output_type": "execute_result"
    }
   ],
   "source": [
    "def report_columns_missing_data(df, label:str):\n",
    "\n",
    "    return (\n",
    "        pd.DataFrame(\n",
    "            df.isna().sum()\n",
    "            )\n",
    "        .rename({0:label}, axis=1)\n",
    "        .query(f\"{label} > 0\")\n",
    "    )\n",
    "\n",
    "# Report missing data for both test and train datasets\n",
    "pd.concat(\n",
    "    (\n",
    "        report_columns_missing_data(train, 'train'),\n",
    "        report_columns_missing_data(test, 'test')\n",
    "    ), \n",
    "    axis=1).fillna(0)"
   ]
  },
  {
   "attachments": {},
   "cell_type": "markdown",
   "metadata": {},
   "source": [
    "<span style=\"font-size:14px;font-family: Arial;line-height:1.5\">\n",
    "<p>\n",
    "We have missing rows for <i>Age</i> and <i>Cabin</i> in both test and train data, but we also have rare cases where the port of embarcation (<i>Embarked</i>) is missing from the training data and the <i>Fare</i> paid by one passenger is missing form the test dataset. One can also view the missing Surivival values in the test set as missing data, and thus the goal of the project of predicting survival can be viewed as an imputation problem.\n",
    "<p>\n",
    "<img src=\"./../img/missing_data.png\" alt=\"Tabular data shown as rectangles with missing sections indicating missing data\" width=\"500\">\n",
    "</p>\n",
    "<br></br>\n",
    "Leaving aside this perspective for the moment (we will get back to this in Chapter ???),  we can see how the pattern of missing data shapes our approach to model design. Either we ignore Age and Cabin, or we develop a strategy to deal with missing values. If the test data contained only complete-cases (i.e. no missing data), we could potentially remove those passengers with missing ages or cabins from the dataset and train our model on data from passengers without missing data. \n",
    "\n",
    "### 2.1.2. Complete case analysis: Why impute rather than delete?\n",
    "<span style=\"font-size:14px;font-family: Arial;line-height:1.5\">\n",
    "<p>\n",
    "In complete case analysis, we drop any rows or columns that contain missing data. This method is simple and easy to implement, but has several problems:   \n",
    "<br>(1) Dropping cases is inefficient as we reduce the number of data points we can use for model fitting, and we lose statistical power with the reduced sample size.\n",
    "<br>(2) Dropping missing data may bias the results if the missing data is not missing completely at random. (Consider the case where age data is missing specifically from passengers that perished)\n",
    "<br>(3) Dropping cases with missing data doesn't provide a useful strategy for making predictions on new test data that contains missing values. If we just delete missing data, then either we can't base predictions a feature that contains missing data (which is highly undesirable) or we have to skip test cases where data is missing (which will hurt performance badly).\n",
    "<br>(4) From a practical perspective, dropping cases with missing data may be expensive if we're spending resources to collect data. \n",
    "</p><p>\n",
    "In the titanic dataset, we have so many cases of missing cabin data that to limit ourselves to a complete case analysis would reduces the size of our training set dramatically. We also have good reason to believe that features like Age and Deck (a transform from Cabin) are associated with survival (see Chapter 1) and so we definitely want to include them in the model. For the reasons above, we will avoid removing missing data. \n",
    "</p>\n",
    "\n",
    "\n",
    "### 2.1.3. What denotes a missing value - NaN vs. Numbers?\n",
    "<p>\n",
    "In the code that summarises missing data above, we're assuming that missing values are coded as NaNs, but that might not always be the case. Sometimes  data acqusition systems will return values out of range or zeros. Numeric coding can be a major issue when those responsible for the data collection use zeros or other values, as it distorts the distribution of data while simultaneously masking missing data. It's therefore always worth looking out impossible numbers or inflated counts at specific numbers.  \n",
    "</p><p>\n",
    "In the titanic dataset, we have already identified the zero fares as one example of this probelm (Chapter 1.2.4). We also noted that within several string variables (e.g. Name and Ticket) we can extract information for some passengers, but that is missing for others. In these cases, missing information may be encoded as an empty string ('') rather than NaNs.\n",
    "</p>\n",
    "</span>"
   ]
  },
  {
   "attachments": {},
   "cell_type": "markdown",
   "metadata": {},
   "source": [
    "## 2.2. Why is data missing?\n",
    "<span style=\"font-size:14px;font-family: Arial;line-height:1.5\">\n",
    "<p>\n",
    "Data may be missing for a specific reason, sometimes called the \"missingness mechanism\". For example if Age and Cabin data was collected from survivors. Those that perished would not have been available to provide the information. We call such data missing not at random (MNAR) and it can be substantially  <b>biased</b>. \n",
    "</p><p>\n",
    "If data is MNAR, then the fact that a datapoint is missing can be informative. Below we explore why data is missing from the titanic dataset and consider how that might help us predict survival. To help us, we're going to bring back some of the features we extracted in Chapter 1:\n",
    "</p></span>"
   ]
  },
  {
   "cell_type": "code",
   "execution_count": 3,
   "metadata": {},
   "outputs": [
    {
     "name": "stdout",
     "output_type": "stream",
     "text": [
      "['PassengerId' 'Survived' 'Pclass' 'Name' 'Sex' 'Age' 'SibSp' 'Parch'\n",
      " 'Ticket' 'Fare' 'Cabin' 'Embarked' 'age_measure' 'age_group' 'log_fare'\n",
      " 'people_on_ticket' 'ticket_num' 'ticket_prefix' 'no_ticket_prefix'\n",
      " 'n_rooms' 'Deck' 'Surname' 'Title' 'professional_title' 'nob_title'\n",
      " 'family_size']\n"
     ]
    }
   ],
   "source": [
    "data_dir = Path.cwd().parent / 'data/chapter_1'        \n",
    "\n",
    "train = pd.read_csv(data_dir / 'train_Ch01.csv')\n",
    "test = pd.read_csv(data_dir / 'test_Ch01.csv')\n",
    "\n",
    "print(train.columns.to_numpy())"
   ]
  },
  {
   "attachments": {},
   "cell_type": "markdown",
   "metadata": {},
   "source": [
    "### 2.2.1. Zero Fares: Passengers as Employees\n",
    "<span style=\"font-size:14px;font-family: Arial;line-height:1.5\">\n",
    "Why would someone pay nothing for a ticket on the most luxurious ship in the world? The obvious first answer is the people who sail the ship, but sailors are not part of the passenger list. Maybe there's something in the data that can shed light on who these passengers might be:\n",
    "</span>"
   ]
  },
  {
   "cell_type": "code",
   "execution_count": 4,
   "metadata": {},
   "outputs": [
    {
     "data": {
      "text/html": [
       "<div>\n",
       "<style scoped>\n",
       "    .dataframe tbody tr th:only-of-type {\n",
       "        vertical-align: middle;\n",
       "    }\n",
       "\n",
       "    .dataframe tbody tr th {\n",
       "        vertical-align: top;\n",
       "    }\n",
       "\n",
       "    .dataframe thead th {\n",
       "        text-align: right;\n",
       "    }\n",
       "</style>\n",
       "<table border=\"1\" class=\"dataframe\">\n",
       "  <thead>\n",
       "    <tr style=\"text-align: right;\">\n",
       "      <th></th>\n",
       "      <th>Name</th>\n",
       "      <th>Age</th>\n",
       "      <th>Sex</th>\n",
       "      <th>Pclass</th>\n",
       "      <th>Ticket</th>\n",
       "      <th>n_rooms</th>\n",
       "    </tr>\n",
       "  </thead>\n",
       "  <tbody>\n",
       "    <tr>\n",
       "      <th>837</th>\n",
       "      <td>Andrews, Mr. Thomas Jr</td>\n",
       "      <td>39.0</td>\n",
       "      <td>male</td>\n",
       "      <td>1</td>\n",
       "      <td>112050</td>\n",
       "      <td>1</td>\n",
       "    </tr>\n",
       "    <tr>\n",
       "      <th>388</th>\n",
       "      <td>Campbell, Mr. William</td>\n",
       "      <td>NaN</td>\n",
       "      <td>male</td>\n",
       "      <td>2</td>\n",
       "      <td>239853</td>\n",
       "      <td>1</td>\n",
       "    </tr>\n",
       "    <tr>\n",
       "      <th>266</th>\n",
       "      <td>Chisholm, Mr. Roderick Robert Crispin</td>\n",
       "      <td>NaN</td>\n",
       "      <td>male</td>\n",
       "      <td>1</td>\n",
       "      <td>112051</td>\n",
       "      <td>1</td>\n",
       "    </tr>\n",
       "    <tr>\n",
       "      <th>387</th>\n",
       "      <td>Cunningham, Mr. Alfred Fleming</td>\n",
       "      <td>NaN</td>\n",
       "      <td>male</td>\n",
       "      <td>2</td>\n",
       "      <td>239853</td>\n",
       "      <td>1</td>\n",
       "    </tr>\n",
       "    <tr>\n",
       "      <th>592</th>\n",
       "      <td>Frost, Mr. Anthony Wood \"Archie\"</td>\n",
       "      <td>NaN</td>\n",
       "      <td>male</td>\n",
       "      <td>2</td>\n",
       "      <td>239854</td>\n",
       "      <td>1</td>\n",
       "    </tr>\n",
       "    <tr>\n",
       "      <th>843</th>\n",
       "      <td>Fry, Mr. Richard</td>\n",
       "      <td>NaN</td>\n",
       "      <td>male</td>\n",
       "      <td>1</td>\n",
       "      <td>112058</td>\n",
       "      <td>1</td>\n",
       "    </tr>\n",
       "    <tr>\n",
       "      <th>366</th>\n",
       "      <td>Harrison, Mr. William</td>\n",
       "      <td>40.0</td>\n",
       "      <td>male</td>\n",
       "      <td>1</td>\n",
       "      <td>112059</td>\n",
       "      <td>1</td>\n",
       "    </tr>\n",
       "    <tr>\n",
       "      <th>372</th>\n",
       "      <td>Ismay, Mr. Joseph Bruce</td>\n",
       "      <td>49.0</td>\n",
       "      <td>male</td>\n",
       "      <td>1</td>\n",
       "      <td>112058</td>\n",
       "      <td>3</td>\n",
       "    </tr>\n",
       "    <tr>\n",
       "      <th>269</th>\n",
       "      <td>Johnson, Mr. Alfred</td>\n",
       "      <td>49.0</td>\n",
       "      <td>male</td>\n",
       "      <td>3</td>\n",
       "      <td>LINE</td>\n",
       "      <td>1</td>\n",
       "    </tr>\n",
       "    <tr>\n",
       "      <th>268</th>\n",
       "      <td>Johnson, Mr. William Cahoone Jr</td>\n",
       "      <td>19.0</td>\n",
       "      <td>male</td>\n",
       "      <td>3</td>\n",
       "      <td>LINE</td>\n",
       "      <td>1</td>\n",
       "    </tr>\n",
       "    <tr>\n",
       "      <th>786</th>\n",
       "      <td>Knight, Mr. Robert J</td>\n",
       "      <td>NaN</td>\n",
       "      <td>male</td>\n",
       "      <td>2</td>\n",
       "      <td>239855</td>\n",
       "      <td>1</td>\n",
       "    </tr>\n",
       "    <tr>\n",
       "      <th>266</th>\n",
       "      <td>Leonard, Mr. Lionel</td>\n",
       "      <td>36.0</td>\n",
       "      <td>male</td>\n",
       "      <td>3</td>\n",
       "      <td>LINE</td>\n",
       "      <td>1</td>\n",
       "    </tr>\n",
       "    <tr>\n",
       "      <th>386</th>\n",
       "      <td>Parkes, Mr. Francis \"Frank\"</td>\n",
       "      <td>NaN</td>\n",
       "      <td>male</td>\n",
       "      <td>2</td>\n",
       "      <td>239853</td>\n",
       "      <td>1</td>\n",
       "    </tr>\n",
       "    <tr>\n",
       "      <th>715</th>\n",
       "      <td>Parr, Mr. William Henry Marsh</td>\n",
       "      <td>NaN</td>\n",
       "      <td>male</td>\n",
       "      <td>1</td>\n",
       "      <td>112052</td>\n",
       "      <td>1</td>\n",
       "    </tr>\n",
       "    <tr>\n",
       "      <th>849</th>\n",
       "      <td>Reuchlin, Jonkheer. John George</td>\n",
       "      <td>38.0</td>\n",
       "      <td>male</td>\n",
       "      <td>1</td>\n",
       "      <td>19972</td>\n",
       "      <td>1</td>\n",
       "    </tr>\n",
       "    <tr>\n",
       "      <th>152</th>\n",
       "      <td>Storey, Mr. Thomas</td>\n",
       "      <td>60.5</td>\n",
       "      <td>male</td>\n",
       "      <td>3</td>\n",
       "      <td>3701</td>\n",
       "      <td>1</td>\n",
       "    </tr>\n",
       "    <tr>\n",
       "      <th>267</th>\n",
       "      <td>Tornquist, Mr. William Henry</td>\n",
       "      <td>25.0</td>\n",
       "      <td>male</td>\n",
       "      <td>3</td>\n",
       "      <td>LINE</td>\n",
       "      <td>1</td>\n",
       "    </tr>\n",
       "    <tr>\n",
       "      <th>743</th>\n",
       "      <td>Watson, Mr. Ennis Hastings</td>\n",
       "      <td>NaN</td>\n",
       "      <td>male</td>\n",
       "      <td>2</td>\n",
       "      <td>239856</td>\n",
       "      <td>1</td>\n",
       "    </tr>\n",
       "  </tbody>\n",
       "</table>\n",
       "</div>"
      ],
      "text/plain": [
       "                                      Name   Age   Sex  Pclass  Ticket  \\\n",
       "837                 Andrews, Mr. Thomas Jr  39.0  male       1  112050   \n",
       "388                  Campbell, Mr. William   NaN  male       2  239853   \n",
       "266  Chisholm, Mr. Roderick Robert Crispin   NaN  male       1  112051   \n",
       "387         Cunningham, Mr. Alfred Fleming   NaN  male       2  239853   \n",
       "592       Frost, Mr. Anthony Wood \"Archie\"   NaN  male       2  239854   \n",
       "843                       Fry, Mr. Richard   NaN  male       1  112058   \n",
       "366                  Harrison, Mr. William  40.0  male       1  112059   \n",
       "372                Ismay, Mr. Joseph Bruce  49.0  male       1  112058   \n",
       "269                    Johnson, Mr. Alfred  49.0  male       3    LINE   \n",
       "268        Johnson, Mr. William Cahoone Jr  19.0  male       3    LINE   \n",
       "786                   Knight, Mr. Robert J   NaN  male       2  239855   \n",
       "266                    Leonard, Mr. Lionel  36.0  male       3    LINE   \n",
       "386            Parkes, Mr. Francis \"Frank\"   NaN  male       2  239853   \n",
       "715          Parr, Mr. William Henry Marsh   NaN  male       1  112052   \n",
       "849        Reuchlin, Jonkheer. John George  38.0  male       1   19972   \n",
       "152                     Storey, Mr. Thomas  60.5  male       3    3701   \n",
       "267           Tornquist, Mr. William Henry  25.0  male       3    LINE   \n",
       "743             Watson, Mr. Ennis Hastings   NaN  male       2  239856   \n",
       "\n",
       "     n_rooms  \n",
       "837        1  \n",
       "388        1  \n",
       "266        1  \n",
       "387        1  \n",
       "592        1  \n",
       "843        1  \n",
       "366        1  \n",
       "372        3  \n",
       "269        1  \n",
       "268        1  \n",
       "786        1  \n",
       "266        1  \n",
       "386        1  \n",
       "715        1  \n",
       "849        1  \n",
       "152        1  \n",
       "267        1  \n",
       "743        1  "
      ]
     },
     "execution_count": 4,
     "metadata": {},
     "output_type": "execute_result"
    }
   ],
   "source": [
    "(\n",
    "    pd.concat([\n",
    "        train[train['Fare'] == 0.0],\n",
    "        train[train['Fare'].isna()],\n",
    "        test[test['Fare'] == 0.0],           # test data indicated by Survived=NaN\n",
    "        test[test['Fare'].isna()]\n",
    "    ])\n",
    "    .sort_values(by='Name')\n",
    "    .filter(['Name','Age','Sex','Pclass','Ticket','n_rooms'])\n",
    ")"
   ]
  },
  {
   "attachments": {},
   "cell_type": "markdown",
   "metadata": {},
   "source": [
    "<span style=\"font-size:14px;font-family: Arial;line-height:1.5\">\n",
    "<p>If you have background knowledge about the titanic disater, or you've watched the James Cameron film, then some of those names might pop out at you. In particular, <b>Mr Joseph Ismay</b> - a man who paid nothing but had three cabins - what's going on there? Well, he was the managing director of White Star Lines, the company that owned the ship. It's therefore not surprising that he didn't pay to travel, or that he got several rooms. Also listed is <b>Mr Thomas Andrews</b>, the chief designer of the ship and one of the \"<b>Titanic Guarentee Group</b>\" - a team of 10 engineers sent by the shipbuilders Harland & Wolff to accompany the maiden voyage. Of the 10 in the group, 9 are listed above, while the 10th (Joseph Thompson) disembarked at Southamptom and is not in the dataset.\n",
    "</p><p>\n",
    "What about others - could they also be employees? Every zero-fare individual was male, and given that few women were in the workforce in 1912, it makes it more viable that all these individuals had some relevant profession. Indeed, external research confirms that several men identified above (William Tornquist, William Cahoone Johnson Jr., Alfred Johnson, and Lionel Leonard) were being transported by their employer (<b>American Line</b>). It therefore seems reasonable to summerise that people on zero fares represent a specialty group.\n",
    "</p><p>\n",
    "The zero values used to mark these passengers may distort the relationship between Fare and Surival, or other variables by reducing the average fare of those who did not survive. We should therefore mask these zero values with nans so that we can then impute appropriate missing values in Section 2.3.\n",
    "</p><p>\n",
    "<i>Notes:\n",
    "    <li>Here we are introducing more missing values than we had originally, but now the fare data makes more sense.</li>\n",
    "    <li>In the log-transformed fare (log_fare) created in Chapter 1.2.4, we already removed zero values as a pre-requisite for the log transform</li>\n",
    "    <li>Flagging zero-fares as missing will allow us to use graphical methods later on in (CHAPTER?) to ask \"what would these passengers pay if they had to buy their own tickets\"\n",
    "</i>\n",
    "</p></span>"
   ]
  },
  {
   "cell_type": "code",
   "execution_count": 5,
   "metadata": {},
   "outputs": [],
   "source": [
    "train['Fare'] = train['Fare'].mask(train['Fare'] == 0)\n",
    "test['Fare'] = test['Fare'].mask(test['Fare'] == 0)"
   ]
  },
  {
   "attachments": {},
   "cell_type": "markdown",
   "metadata": {},
   "source": [
    "<span style=\"font-size:14px;font-family: Arial;line-height:1.5\">\n",
    "\n",
    "Passengers who paid nothing had a very low survival rate (1/15) in the training data. This suggest that anyone in the category was very likely to go down with the ship. A column indicating the special status of zero fare passengers is thus likely to be useful in predicting surival in the test set.\n",
    "</span>\n"
   ]
  },
  {
   "cell_type": "code",
   "execution_count": 6,
   "metadata": {},
   "outputs": [],
   "source": [
    "train['zero_fare'] = train['Fare'].isna()\n",
    "test['zero_fare'] = test['Fare'].isna()"
   ]
  },
  {
   "attachments": {},
   "cell_type": "markdown",
   "metadata": {},
   "source": [
    "### 2.2.2. Who is Mrs Stone? The case of missing embarcation\n",
    "<span style=\"font-size:14px;font-family: Arial;line-height:1.5\">\n",
    "In the training data, there are two cases of missing embracation information. There is no embarcation data missing in the test data. Who are these passengers and is there any reason their point of embarcation is unknown?\n",
    "</span>"
   ]
  },
  {
   "cell_type": "code",
   "execution_count": 7,
   "metadata": {},
   "outputs": [
    {
     "data": {
      "text/html": [
       "<div>\n",
       "<style scoped>\n",
       "    .dataframe tbody tr th:only-of-type {\n",
       "        vertical-align: middle;\n",
       "    }\n",
       "\n",
       "    .dataframe tbody tr th {\n",
       "        vertical-align: top;\n",
       "    }\n",
       "\n",
       "    .dataframe thead th {\n",
       "        text-align: right;\n",
       "    }\n",
       "</style>\n",
       "<table border=\"1\" class=\"dataframe\">\n",
       "  <thead>\n",
       "    <tr style=\"text-align: right;\">\n",
       "      <th></th>\n",
       "      <th>Name</th>\n",
       "      <th>Age</th>\n",
       "      <th>Sex</th>\n",
       "      <th>Cabin</th>\n",
       "      <th>Pclass</th>\n",
       "      <th>Fare</th>\n",
       "      <th>SibSp</th>\n",
       "      <th>Parch</th>\n",
       "    </tr>\n",
       "  </thead>\n",
       "  <tbody>\n",
       "    <tr>\n",
       "      <th>108</th>\n",
       "      <td>Icard, Miss. Amelie</td>\n",
       "      <td>38.0</td>\n",
       "      <td>female</td>\n",
       "      <td>B28</td>\n",
       "      <td>1</td>\n",
       "      <td>80.0</td>\n",
       "      <td>0</td>\n",
       "      <td>0</td>\n",
       "    </tr>\n",
       "    <tr>\n",
       "      <th>109</th>\n",
       "      <td>Stone, Mrs. George Nelson (Martha Evelyn)</td>\n",
       "      <td>62.0</td>\n",
       "      <td>female</td>\n",
       "      <td>B28</td>\n",
       "      <td>1</td>\n",
       "      <td>80.0</td>\n",
       "      <td>0</td>\n",
       "      <td>0</td>\n",
       "    </tr>\n",
       "  </tbody>\n",
       "</table>\n",
       "</div>"
      ],
      "text/plain": [
       "                                          Name   Age     Sex Cabin  Pclass  \\\n",
       "108                        Icard, Miss. Amelie  38.0  female   B28       1   \n",
       "109  Stone, Mrs. George Nelson (Martha Evelyn)  62.0  female   B28       1   \n",
       "\n",
       "     Fare  SibSp  Parch  \n",
       "108  80.0      0      0  \n",
       "109  80.0      0      0  "
      ]
     },
     "execution_count": 7,
     "metadata": {},
     "output_type": "execute_result"
    }
   ],
   "source": [
    "train.loc[train[train.Embarked.isna()].index, ['Name','Age','Sex','Cabin','Pclass','Fare','SibSp','Parch']]"
   ]
  },
  {
   "attachments": {},
   "cell_type": "markdown",
   "metadata": {},
   "source": [
    "<span style=\"font-size:14px;font-family: Arial;line-height:1.5\">\n",
    "These two women appear to be travelling on the same ticket staying in the same first class cabin, with no direct relatives in either case. Is anyone else travelling on that ticket, or staying in that Cabin?\n",
    "</span>"
   ]
  },
  {
   "cell_type": "code",
   "execution_count": 8,
   "metadata": {},
   "outputs": [
    {
     "data": {
      "text/html": [
       "<div>\n",
       "<style scoped>\n",
       "    .dataframe tbody tr th:only-of-type {\n",
       "        vertical-align: middle;\n",
       "    }\n",
       "\n",
       "    .dataframe tbody tr th {\n",
       "        vertical-align: top;\n",
       "    }\n",
       "\n",
       "    .dataframe thead th {\n",
       "        text-align: right;\n",
       "    }\n",
       "</style>\n",
       "<table border=\"1\" class=\"dataframe\">\n",
       "  <thead>\n",
       "    <tr style=\"text-align: right;\">\n",
       "      <th></th>\n",
       "      <th>Name</th>\n",
       "      <th>Age</th>\n",
       "      <th>Sex</th>\n",
       "      <th>Cabin</th>\n",
       "      <th>Pclass</th>\n",
       "      <th>Fare</th>\n",
       "      <th>SibSp</th>\n",
       "      <th>Parch</th>\n",
       "    </tr>\n",
       "  </thead>\n",
       "  <tbody>\n",
       "    <tr>\n",
       "      <th>108</th>\n",
       "      <td>Icard, Miss. Amelie</td>\n",
       "      <td>38.0</td>\n",
       "      <td>female</td>\n",
       "      <td>B28</td>\n",
       "      <td>1</td>\n",
       "      <td>80.0</td>\n",
       "      <td>0</td>\n",
       "      <td>0</td>\n",
       "    </tr>\n",
       "    <tr>\n",
       "      <th>109</th>\n",
       "      <td>Stone, Mrs. George Nelson (Martha Evelyn)</td>\n",
       "      <td>62.0</td>\n",
       "      <td>female</td>\n",
       "      <td>B28</td>\n",
       "      <td>1</td>\n",
       "      <td>80.0</td>\n",
       "      <td>0</td>\n",
       "      <td>0</td>\n",
       "    </tr>\n",
       "  </tbody>\n",
       "</table>\n",
       "</div>"
      ],
      "text/plain": [
       "                                          Name   Age     Sex Cabin  Pclass  \\\n",
       "108                        Icard, Miss. Amelie  38.0  female   B28       1   \n",
       "109  Stone, Mrs. George Nelson (Martha Evelyn)  62.0  female   B28       1   \n",
       "\n",
       "     Fare  SibSp  Parch  \n",
       "108  80.0      0      0  \n",
       "109  80.0      0      0  "
      ]
     },
     "execution_count": 8,
     "metadata": {},
     "output_type": "execute_result"
    }
   ],
   "source": [
    "ticket_no = \"113572\"\n",
    "cabin_no = \"B28\"\n",
    "\n",
    "idx = train[(train['Ticket'].str.match(ticket_no)) | (train['Cabin'].str.match(cabin_no))].index\n",
    "train.loc[idx, ['Name','Age','Sex','Cabin','Pclass','Fare','SibSp','Parch']]"
   ]
  },
  {
   "attachments": {},
   "cell_type": "markdown",
   "metadata": {},
   "source": [
    "<span style=\"font-size:14px;font-family: Arial;line-height:1.5\">\n",
    "No, doesn't look like it. This is where outside research can help... Looking up the Amelie Icard, we discover that she was a maid for Mrs Stone and that both embarked at Southampton. We will add this data specifically to these records here:\n",
    "</span>"
   ]
  },
  {
   "cell_type": "code",
   "execution_count": 9,
   "metadata": {},
   "outputs": [],
   "source": [
    "train['Embarked'].fillna('S', inplace=True)"
   ]
  },
  {
   "attachments": {},
   "cell_type": "markdown",
   "metadata": {},
   "source": [
    "<span style=\"font-size:14px;font-family: Arial;line-height:1.5\">\n",
    "This outside research allows us to fill in the missing data but it also reveals something important about the dataset: <i>there is information about connections between passengers available in ticket data that aren't represented by family relationships (i.e. surnames, Parch or SibSp)</i>.\n",
    "\n",
    "</span>\n",
    "\n",
    "### 2.2.3. Missing Age Data\n",
    "<span style=\"font-size:14px;font-family: Arial;line-height:1.5\">\n",
    "<p>We noted in Chapter 1.2.1. that age data might be missing because passengers did not surivive. While it is true that the average survival rate is substantially lower in cases where age is missing, there are still 30% of passengers who survive but have no age data. Could these be, for example, children who have lost a parent and don't know their age?\n",
    "</p><p>\n",
    "Let's find out by testing a hypothesis: If children are more likely to be missing Age data, then we might expect there to be more passengers with the title 'Master' missing Age data in the survivors than in those passengers lost. (Note here that I'm using the 'Master' title rather than 'Miss' due to the potential confound of unmaried women that results from naming conventions of the time). To test this hypothesis, we can run a simple Chi-squared test:\n",
    "</p></span>"
   ]
  },
  {
   "cell_type": "code",
   "execution_count": 10,
   "metadata": {},
   "outputs": [],
   "source": [
    "train['age_missing'] = train['Age'].isna()\n",
    "test['age_missing'] = test['Age'].isna()"
   ]
  },
  {
   "cell_type": "code",
   "execution_count": 11,
   "metadata": {},
   "outputs": [
    {
     "name": "stdout",
     "output_type": "stream",
     "text": [
      "Contingency table\n",
      "            PassengerId    \n",
      "                  count    \n",
      "Survived              0   1\n",
      "age_missing                \n",
      "False                15  21\n",
      "True                  2   2\n",
      "Chi-squared test that observations deviate from expectations: 1 d.f. Chi-squared = 0.0, p = 1.0\n"
     ]
    }
   ],
   "source": [
    "from scipy.stats import chi2_contingency\n",
    "\n",
    "chisq_data = (\n",
    "    train\n",
    "    .query(\"Title == 'Master'\")            # Noted Bug: White space in titles\n",
    "    .groupby(['age_missing','Survived'])\n",
    "    .agg({'PassengerId':['count']})\n",
    "    .reset_index()\n",
    "    .pivot(columns='Survived', index='age_missing')\n",
    ")\n",
    "\n",
    "print('Contingency table')\n",
    "print(chisq_data)\n",
    "\n",
    "chi2, p, dof, expected = chi2_contingency(chisq_data.values) \n",
    "print(f\"Chi-squared test that observations deviate from expectations: {dof} d.f. Chi-squared = {chi2}, p = {p}\")"
   ]
  },
  {
   "attachments": {},
   "cell_type": "markdown",
   "metadata": {},
   "source": [
    "<span style=\"font-size:14px;font-family: Arial;line-height:1.5\">\n",
    "These results suggest our hypothesis was wrong - passengers without cabin data aren't any more likely to be missing data when surviving. (The same is true if we look at passengers with 'Miss' as title). For the moment at least, it remains unclear why Age is missing for these passengers (and we must acknowledge that there may not be a reason).\n",
    "</span>"
   ]
  },
  {
   "attachments": {},
   "cell_type": "markdown",
   "metadata": {},
   "source": [
    "### 2.2.4. Cabins\n",
    "<span style=\"font-size:14px;font-family: Arial;line-height:1.5\">\n",
    "<p>The largest amount of missing data comes from the Cabin column, where there are fewer datapoints than there are NaN values. Why is this data absent when presumably everyone had a room? \n",
    "</p><p>\n",
    "In Chapter 1, we discussed how the organization of the ship tells us something about how Cabins were assigned, with first class passengers in Decks A-E, second class passengers in D through F and third class in Decks E to G. There are also differences in Fare between Decks and at least some instances where Cabin information is available for other passengers travelling on the same ticket. All these pieces of information may help us impute the Deck of the ship in which passengers were staying, even if we can't recover the actual room. \n",
    "</p><p>\n",
    "If we look at the outcomes for those with Cabin information present, they are fare more likely to survive. This suggests a sampling bias in which cabin information was recovered predominatly from surivors. It's important to note that this bias isn't a hard rule, as there were some people for whom Cabin data is available and didn't survive, and vice versa.</p></span>"
   ]
  },
  {
   "cell_type": "code",
   "execution_count": 12,
   "metadata": {},
   "outputs": [],
   "source": [
    "train['cabin_missing'] = train['Cabin'].isna()\n",
    "test['cabin_missing'] = test['Cabin'].isna()"
   ]
  },
  {
   "cell_type": "code",
   "execution_count": 13,
   "metadata": {},
   "outputs": [
    {
     "data": {
      "text/html": [
       "<div>\n",
       "<style scoped>\n",
       "    .dataframe tbody tr th:only-of-type {\n",
       "        vertical-align: middle;\n",
       "    }\n",
       "\n",
       "    .dataframe tbody tr th {\n",
       "        vertical-align: top;\n",
       "    }\n",
       "\n",
       "    .dataframe thead tr th {\n",
       "        text-align: left;\n",
       "    }\n",
       "\n",
       "    .dataframe thead tr:last-of-type th {\n",
       "        text-align: right;\n",
       "    }\n",
       "</style>\n",
       "<table border=\"1\" class=\"dataframe\">\n",
       "  <thead>\n",
       "    <tr>\n",
       "      <th></th>\n",
       "      <th colspan=\"3\" halign=\"left\">Survived</th>\n",
       "    </tr>\n",
       "    <tr>\n",
       "      <th></th>\n",
       "      <th>count</th>\n",
       "      <th>sum</th>\n",
       "      <th>mean</th>\n",
       "    </tr>\n",
       "    <tr>\n",
       "      <th>cabin_missing</th>\n",
       "      <th></th>\n",
       "      <th></th>\n",
       "      <th></th>\n",
       "    </tr>\n",
       "  </thead>\n",
       "  <tbody>\n",
       "    <tr>\n",
       "      <th>False</th>\n",
       "      <td>204</td>\n",
       "      <td>136</td>\n",
       "      <td>0.666667</td>\n",
       "    </tr>\n",
       "    <tr>\n",
       "      <th>True</th>\n",
       "      <td>687</td>\n",
       "      <td>206</td>\n",
       "      <td>0.299854</td>\n",
       "    </tr>\n",
       "  </tbody>\n",
       "</table>\n",
       "</div>"
      ],
      "text/plain": [
       "              Survived               \n",
       "                 count  sum      mean\n",
       "cabin_missing                        \n",
       "False              204  136  0.666667\n",
       "True               687  206  0.299854"
      ]
     },
     "execution_count": 13,
     "metadata": {},
     "output_type": "execute_result"
    }
   ],
   "source": [
    "(\n",
    "    train\n",
    "    .groupby('cabin_missing')\n",
    "    .agg({'Survived':['count', 'sum', 'mean'],})\n",
    ")"
   ]
  },
  {
   "cell_type": "code",
   "execution_count": 14,
   "metadata": {},
   "outputs": [],
   "source": [
    "# gender_map = {'male':0,'female':1}\n",
    "# train['gender_numeric'] = train['Sex'].map(gender_map)\n",
    "# test['gender_numeric'] = test['Sex'].map(gender_map)\n",
    "\n",
    "# embark_map = {'C':1,'Q':2,'S':3}\n",
    "# train['embarked_numeric'] = train['Embarked'].map(embark_map)\n",
    "# test['embarked_numeric'] = test['Embarked'].map(embark_map)"
   ]
  },
  {
   "attachments": {},
   "cell_type": "markdown",
   "metadata": {},
   "source": [
    "## 2.3. Single Imputation Methods: \n",
    "\n",
    "### 2.3.1. Mean, median or mode\n",
    "<span style=\"font-size:14px;font-family: Arial;line-height:1.5\">\n",
    " This involves replacing the missing data with the mean or median value of the non-missing data in the same column. \n",
    "\n",
    "<br><b>Advantages</b><br> \n",
    " \n",
    " Useful to generate placeholder values if the missing data is missing at random and if the data is normally distributed.\n",
    "\n",
    "<b>Disadvantages</b><br>\n",
    "\n",
    "Mean imputation leads to the sample variance of the filled-in data underestimating the true variance by a factor proportional to the percentage of missing data. Imputation also distorts the empirical (observed) distribution of the data, which is reflected in metrics such as percentiles. Mean imputation also leads to underestimates in covariance, which can affect our ability to use a variety of modelling approaches that involve covariance matrices (e.g. correlation).\n",
    " \n",
    "If the data is not normally distributed or if the missing data is not missing at random, single imputation may also potentially introduce bias. The same is true if there are group differences in means that are ignored during imputation, such as using the global mean Age when the average age of first class passengers is greater than third class passengers.\n",
    "</span>\n"
   ]
  },
  {
   "cell_type": "code",
   "execution_count": 15,
   "metadata": {},
   "outputs": [],
   "source": [
    "# Replace with mean \n",
    "# train.fillna(train.mean(), inplace=True)\n",
    "# test.fillna(test.mean(), inplace=True)\n",
    "\n",
    "# Replace with median \n",
    "# train.fillna(train.mean(), inplace=True)\n",
    "# test.fillna(test.mean(), inplace=True)"
   ]
  },
  {
   "attachments": {},
   "cell_type": "markdown",
   "metadata": {},
   "source": [
    "### 2.3.2. Conditional Mean Imputation\n",
    "\n",
    "<span style=\"font-size:14px;font-family: Arial;line-height:1.5\">\n",
    "Divide data up into classes within which one can then take the mean and apply it to all missing observations in the same class. For example, we could group passengers by Gender and PClass and impute the mean age for each separately. The code shows one way to do this, though the method still underestimates that sample variance and has many of the same weaknesses as mean imputation discussed above. For that reason, we leave the actual function call commented out.\n",
    "</span>"
   ]
  },
  {
   "cell_type": "code",
   "execution_count": 16,
   "metadata": {},
   "outputs": [],
   "source": [
    "def impute_conditional_mean(df, impute_column, adjustment_columns):\n",
    "    \"\"\" \n",
    "    Args:\n",
    "        df: dataframe containing missing values and grouping variables\n",
    "        impute_column: column containing missing data\n",
    "        adjustment_columns: columns containing classes used to compute means separately \n",
    "\n",
    "    Returns\n",
    "        df: dataframe with missing values impute\n",
    "     \"\"\"\n",
    "\n",
    "    for adjustment_class, class_data in df.groupby(adjustment_columns):\n",
    "        \n",
    "        idx = class_data[class_data[impute_column].isna()].index\n",
    "        df.loc[idx, impute_column] = class_data[impute_column].mean()\n",
    "\n",
    "    return df\n",
    "\n",
    "# train = impute_conditional_mean(train, impute_column='Age', adjustment_columns=['Sex','Pclass'])\n",
    "# test = impute_conditional_mean(test, impute_column='Age', adjustment_columns=['Sex','Pclass'])"
   ]
  },
  {
   "attachments": {},
   "cell_type": "markdown",
   "metadata": {},
   "source": [
    "### 2.3.3. Regression Imputation\n",
    "\n",
    "<span style=\"font-size:14px;font-family: Arial;line-height:1.5\">\n",
    "<p>\n",
    "This involves using a regression model to predict the missing values based on the non-missing values in the same row or other relevant variables. This can be useful if the missing data is not missing at random and if there are strong relationships between the missing and non-missing values. However, it can also introduce bias and error if the regression model is misspecified or features are not correlated.\n",
    "</p><p>\n",
    "Let's first examine the correlations between age and other features. \n",
    "</p><p>\n",
    "<i>Notes : \n",
    "<p style=\"margin-left: 40px\">\n",
    "    - The .corr() function can only work with numeric data and so to examine the role of categorical variables, we replace strings with numbers.<br>\n",
    "    - Converting categorical to numeric data using the map() method with a specified dictionary makes the coding of variables explicit and the numeric values easier to interpret.<br>\n",
    "    - Mapping in this way also ensures consistency between parallel operations on test and train datasets, while also ensuring that any future values of the source feature that aren't in the map do not receive values.<br>\n",
    "    -  Replacement for titles is a bit complicated as we assume people with Master/Miss in their name will probably be younger than those with Mr or Mrs in their name. At the same time, we also might anticipate that those with professional (Dr, Major etc) or noble titles (Sir, Lady etc.) are likely to be older than the average Mr/Mrs.<br>\n",
    "</p>\n",
    "</i></p></span>"
   ]
  },
  {
   "cell_type": "code",
   "execution_count": 17,
   "metadata": {},
   "outputs": [
    {
     "data": {
      "text/plain": [
       "<AxesSubplot: >"
      ]
     },
     "execution_count": 17,
     "metadata": {},
     "output_type": "execute_result"
    },
    {
     "data": {
      "image/png": "[encoded data removed]",
      "text/plain": [
       "<Figure size 900x200 with 1 Axes>"
      ]
     },
     "metadata": {},
     "output_type": "display_data"
    }
   ],
   "source": [
    "# Code titles depending on age (Miss/Master=0, Mr/Mrs=1, Other=2)\n",
    "title_map = {k:(0 if k in ('Miss','Master') else (1 if k in ('Mr','Mrs') else 2)) for k in train['Title'].unique()}\n",
    "\n",
    "(\n",
    "    train\n",
    "    .replace({                                  # Convert categories to numbers\n",
    "        'Sex': {'male':0,'female':1},\n",
    "        'Embarked': {'C':1,'Q':2,'S':3},\n",
    "        'Title': title_map                      # Flag junior titles\n",
    "    })\n",
    "    .corr(numeric_only=True)['Age']             # Compute correlation matrix between features and return correlations with age\n",
    "    .drop(['Age','age_group','age_missing'])    # Ignore autocorrelation and features based on age\n",
    "    .sort_values(ascending=False)                      \n",
    ").plot(\n",
    "    kind='bar',\n",
    "    figsize=(9,2),\n",
    "    rot=60,\n",
    "    grid=True\n",
    "    )"
   ]
  },
  {
   "attachments": {},
   "cell_type": "markdown",
   "metadata": {},
   "source": [
    "<span style=\"font-size:14px;font-family: Arial;line-height:1.5\">\n",
    "<p>\n",
    "As we would expect, the strongest correlation with age is with title, as those passengers with Master and Miss tend to be younger. We can also see a relatively strong negative correlation with class, reflecting the fact that older passengers tend to be more likely to travel in first class. We might also be unsurprised that number of siblings/partners is negatively correlated with age, as one is most likely to travel with siblings when younger. Fortunately, all these features are fully present, making them straightforward to use in a regression model.\n",
    "</p><p>\n",
    "The correlation results suggest we might have a chance of building a regression model for imputation. Let's give it a shot using a numeric version of title, passenger class and number of siblings / partners (SibSp) as predictors. First, we'll select the data used to train the model for which we have complete cases for predictors and the response variable (Age) that we're trying to impute.\n",
    "</p>\n",
    "</span>"
   ]
  },
  {
   "cell_type": "code",
   "execution_count": 18,
   "metadata": {},
   "outputs": [],
   "source": [
    "predictors = ['Title','Pclass','SibSp']\n",
    "response = ['Age']\n",
    "\n",
    "model_data = (\n",
    "    train[predictors + response]\n",
    "    .dropna()\n",
    "    .replace({'Title':title_map})       # Convert title categories to 0 (Master/Miss) or 1 (any other)\n",
    ")"
   ]
  },
  {
   "attachments": {},
   "cell_type": "markdown",
   "metadata": {},
   "source": [
    "<span style=\"font-size:14px;font-family: Arial;line-height:1.5\">\n",
    "<p>\n",
    "Next we'll use statsmodels to fit the linear regression. \n",
    "</p><p><i>\n",
    "Note:\n",
    "<li>Statsmodels has a few more tools for inspecting model fit than sklearn, and I like the R-style formula notation</li>\n",
    "<li>The formula notation would also allow us to include categorical variables like title without formatting if we wanted (just replace 'Title' with 'C(Title)')</li>\n",
    "<li>For simplicity, we'll just fit the main effects for the models below and ignore interactions, though they might be interesting to include</li>\n",
    "</i></p></span>"
   ]
  },
  {
   "cell_type": "code",
   "execution_count": 19,
   "metadata": {},
   "outputs": [
    {
     "name": "stdout",
     "output_type": "stream",
     "text": [
      "                            OLS Regression Results                            \n",
      "==============================================================================\n",
      "Dep. Variable:                    Age   R-squared:                       0.380\n",
      "Model:                            OLS   Adj. R-squared:                  0.377\n",
      "Method:                 Least Squares   F-statistic:                     144.9\n",
      "Date:                Tue, 24 Jan 2023   Prob (F-statistic):           3.01e-73\n",
      "Time:                        17:35:24   Log-Likelihood:                -2752.7\n",
      "No. Observations:                 714   AIC:                             5513.\n",
      "Df Residuals:                     710   BIC:                             5532.\n",
      "Df Model:                           3                                         \n",
      "Covariance Type:            nonrobust                                         \n",
      "==============================================================================\n",
      "                 coef    std err          t      P>|t|      [0.025      0.975]\n",
      "------------------------------------------------------------------------------\n",
      "Intercept     34.5038      1.475     23.385      0.000      31.607      37.401\n",
      "Title         12.4228      0.910     13.649      0.000      10.636      14.210\n",
      "Pclass        -5.7534      0.514    -11.196      0.000      -6.762      -4.745\n",
      "SibSp         -2.9367      0.476     -6.171      0.000      -3.871      -2.002\n",
      "==============================================================================\n",
      "Omnibus:                       44.975   Durbin-Watson:                   1.936\n",
      "Prob(Omnibus):                  0.000   Jarque-Bera (JB):               52.718\n",
      "Skew:                           0.608   Prob(JB):                     3.57e-12\n",
      "Kurtosis:                       3.540   Cond. No.                         10.3\n",
      "==============================================================================\n",
      "\n",
      "Notes:\n",
      "[1] Standard Errors assume that the covariance matrix of the errors is correctly specified.\n"
     ]
    }
   ],
   "source": [
    "import statsmodels.formula.api as smf\n",
    "\n",
    "formula = 'Age ~ Title + Pclass + SibSp'\n",
    "model = smf.ols(formula=formula, data = model_data)\n",
    "res = model.fit()\n",
    "\n",
    "print(res.summary())"
   ]
  },
  {
   "attachments": {},
   "cell_type": "markdown",
   "metadata": {},
   "source": [
    "<span style=\"font-size:14px;font-family: Arial;line-height:1.5\">\n",
    "We won't go through the whole model checking process that is good practice for fitting linear regressions, but the summary shows that each of the variables included in the model is contributing. This is confirmed by the similarity between r-squared and adjusted r-squared. If we assume for the moment that this model is helpful, then we can use it to predict missing age data:\n",
    "</span>"
   ]
  },
  {
   "cell_type": "code",
   "execution_count": 20,
   "metadata": {},
   "outputs": [
    {
     "data": {
      "text/plain": [
       "count    177.000000\n",
       "mean      27.577772\n",
       "std       10.011991\n",
       "min       -6.250276\n",
       "50%       29.666293\n",
       "max       53.595937\n",
       "Name: Age_linear_pred, dtype: float64"
      ]
     },
     "execution_count": 20,
     "metadata": {},
     "output_type": "execute_result"
    }
   ],
   "source": [
    "impute_data = (\n",
    "    train[predictors+response]\n",
    "    .query(f\"{response[0]}.isna()\")   \n",
    "    .replace({'Title':title_map})    \n",
    ")\n",
    "\n",
    "impute_data[response[0]+'_linear_pred'] = res.predict(exog=impute_data[predictors])\n",
    "impute_data.describe(percentiles=[0.5])['Age_linear_pred']          # Show a quick summary'"
   ]
  },
  {
   "attachments": {},
   "cell_type": "markdown",
   "metadata": {},
   "source": [
    "<span style=\"font-size:14px;font-family: Arial;line-height:1.5\">\n",
    "We can see immediately from the summary that there are some problems, as we're predicting negative ages for some subjects. This indicates that the linear regression might not be the best type of model to use. We might therefore do better if we think about Age as count data (i.e. how many years or days has someone been alive) and instead use a poisson regression that provides a more appropriate approach for non-negative data.\n",
    "</span>"
   ]
  },
  {
   "cell_type": "code",
   "execution_count": 21,
   "metadata": {},
   "outputs": [
    {
     "data": {
      "text/html": [
       "<table class=\"simpletable\">\n",
       "<caption>Generalized Linear Model Regression Results</caption>\n",
       "<tr>\n",
       "  <th>Dep. Variable:</th>          <td>Age</td>       <th>  No. Observations:  </th>  <td>   714</td> \n",
       "</tr>\n",
       "<tr>\n",
       "  <th>Model:</th>                  <td>GLM</td>       <th>  Df Residuals:      </th>  <td>   710</td> \n",
       "</tr>\n",
       "<tr>\n",
       "  <th>Model Family:</th>         <td>Poisson</td>     <th>  Df Model:          </th>  <td>     3</td> \n",
       "</tr>\n",
       "<tr>\n",
       "  <th>Link Function:</th>          <td>Log</td>       <th>  Scale:             </th> <td>  1.0000</td>\n",
       "</tr>\n",
       "<tr>\n",
       "  <th>Method:</th>                <td>IRLS</td>       <th>  Log-Likelihood:    </th> <td> -3548.7</td>\n",
       "</tr>\n",
       "<tr>\n",
       "  <th>Date:</th>            <td>Tue, 24 Jan 2023</td> <th>  Deviance:          </th> <td>  3494.6</td>\n",
       "</tr>\n",
       "<tr>\n",
       "  <th>Time:</th>                <td>17:35:25</td>     <th>  Pearson chi2:      </th> <td>3.35e+03</td>\n",
       "</tr>\n",
       "<tr>\n",
       "  <th>No. Iterations:</th>          <td>5</td>        <th>  Pseudo R-squ. (CS):</th>  <td>0.9436</td> \n",
       "</tr>\n",
       "<tr>\n",
       "  <th>Covariance Type:</th>     <td>nonrobust</td>    <th>                     </th>     <td> </td>   \n",
       "</tr>\n",
       "</table>\n",
       "<table class=\"simpletable\">\n",
       "<tr>\n",
       "      <td></td>         <th>coef</th>     <th>std err</th>      <th>z</th>      <th>P>|z|</th>  <th>[0.025</th>    <th>0.975]</th>  \n",
       "</tr>\n",
       "<tr>\n",
       "  <th>Intercept</th> <td>    3.5151</td> <td>    0.024</td> <td>  147.100</td> <td> 0.000</td> <td>    3.468</td> <td>    3.562</td>\n",
       "</tr>\n",
       "<tr>\n",
       "  <th>Title</th>     <td>    0.4311</td> <td>    0.015</td> <td>   28.924</td> <td> 0.000</td> <td>    0.402</td> <td>    0.460</td>\n",
       "</tr>\n",
       "<tr>\n",
       "  <th>Pclass</th>    <td>   -0.1894</td> <td>    0.008</td> <td>  -23.589</td> <td> 0.000</td> <td>   -0.205</td> <td>   -0.174</td>\n",
       "</tr>\n",
       "<tr>\n",
       "  <th>SibSp</th>     <td>   -0.1657</td> <td>    0.010</td> <td>  -16.704</td> <td> 0.000</td> <td>   -0.185</td> <td>   -0.146</td>\n",
       "</tr>\n",
       "</table>"
      ],
      "text/plain": [
       "<class 'statsmodels.iolib.summary.Summary'>\n",
       "\"\"\"\n",
       "                 Generalized Linear Model Regression Results                  \n",
       "==============================================================================\n",
       "Dep. Variable:                    Age   No. Observations:                  714\n",
       "Model:                            GLM   Df Residuals:                      710\n",
       "Model Family:                 Poisson   Df Model:                            3\n",
       "Link Function:                    Log   Scale:                          1.0000\n",
       "Method:                          IRLS   Log-Likelihood:                -3548.7\n",
       "Date:                Tue, 24 Jan 2023   Deviance:                       3494.6\n",
       "Time:                        17:35:25   Pearson chi2:                 3.35e+03\n",
       "No. Iterations:                     5   Pseudo R-squ. (CS):             0.9436\n",
       "Covariance Type:            nonrobust                                         \n",
       "==============================================================================\n",
       "                 coef    std err          z      P>|z|      [0.025      0.975]\n",
       "------------------------------------------------------------------------------\n",
       "Intercept      3.5151      0.024    147.100      0.000       3.468       3.562\n",
       "Title          0.4311      0.015     28.924      0.000       0.402       0.460\n",
       "Pclass        -0.1894      0.008    -23.589      0.000      -0.205      -0.174\n",
       "SibSp         -0.1657      0.010    -16.704      0.000      -0.185      -0.146\n",
       "==============================================================================\n",
       "\"\"\""
      ]
     },
     "execution_count": 21,
     "metadata": {},
     "output_type": "execute_result"
    }
   ],
   "source": [
    "import statsmodels.api as sm\n",
    "\n",
    "poisson_model = smf.glm(formula=formula, data=model_data, family=sm.families.Poisson())\n",
    "poisson_res = poisson_model.fit()\n",
    "\n",
    "poisson_res.summary()"
   ]
  },
  {
   "attachments": {},
   "cell_type": "markdown",
   "metadata": {},
   "source": [
    "<span style=\"font-size:14px;font-family: Arial;line-height:1.5\">\n",
    "A poisson regression is one form of the broader set of generalized linear models that provide useful methods when the linear regression isn't appropriate. This makes them very useful, but the interpretation of model fit and properties are in some cases more complex or less clear cut. We won't go into those issues here, but the output looks sufficiently sensible for us to proceed with imputation...\n",
    "</span>"
   ]
  },
  {
   "cell_type": "code",
   "execution_count": 22,
   "metadata": {},
   "outputs": [
    {
     "data": {
      "text/plain": [
       "count    177.000000\n",
       "mean      28.110973\n",
       "std        9.206413\n",
       "min        5.058009\n",
       "50%       29.314367\n",
       "max       65.885837\n",
       "Name: Age_poisson_pred, dtype: float64"
      ]
     },
     "execution_count": 22,
     "metadata": {},
     "output_type": "execute_result"
    }
   ],
   "source": [
    "impute_data[response[0]+'_poisson_pred'] = poisson_res.predict(exog=impute_data[predictors])\n",
    "impute_data.describe(percentiles=[0.5])['Age_poisson_pred']          # Show a quick summary"
   ]
  },
  {
   "attachments": {},
   "cell_type": "markdown",
   "metadata": {},
   "source": [
    "<span style=\"font-size:14px;font-family: Arial;line-height:1.5\">\n",
    "<p>\n",
    "Now we see that our predictions are making more sense, as we no longer have negative values being imputed. A quick visual comparison shows that the overall outcomes are not that different, and we are tending to predict a lot of similar values near the mean age...\n",
    "</p></span>"
   ]
  },
  {
   "cell_type": "code",
   "execution_count": 23,
   "metadata": {},
   "outputs": [
    {
     "data": {
      "image/png": "[encoded data removed]",
      "text/plain": [
       "<Figure size 800x300 with 1 Axes>"
      ]
     },
     "metadata": {},
     "output_type": "display_data"
    }
   ],
   "source": [
    "import matplotlib.pyplot as plt\n",
    "import seaborn as sns\n",
    "\n",
    "fig, ax = plt.subplots(1,1, **{'figsize':(8,3)})\n",
    "\n",
    "sns.histplot(\n",
    "    data = impute_data[['Age_linear_pred','Age_poisson_pred']].melt(),\n",
    "    x = 'value',\n",
    "    hue='variable',\n",
    "    ax=ax\n",
    ")\n",
    "plt.show()"
   ]
  },
  {
   "attachments": {},
   "cell_type": "markdown",
   "metadata": {},
   "source": [
    "<span style=\"font-size:14px;font-family: Arial;line-height:1.5\">\n",
    "<p>\n",
    "<b>Disadvantages of the regression method</b>\n",
    "</p><p>\n",
    "Although regression approaches are more sophisticated than basic mean or median imputation, it is important to say that regression predictions are still draws from the center of a distribution. This means that we will always predict the same age for a fixed set of predictors (e.g. a third class passenger whose name begins 'Master' and has 4 siblings), when in reality, we know that passengers with the same metadata may vary somewhat. This sampling approach that does not account for this uncertainty will thus continue to systematically underestimate variability. \n",
    "</p><p>\n",
    "As Little and Rubin (2020) state \"single imputation cannot reflect sampling variability under one model for missingness or uncertainty about the correct model for missingness\". This prevents us from assessing how sensitive subsequent analysis is to different theories about why data is missing. \n",
    "</p>\n",
    "\n",
    "\n",
    "### 2.3.4. Stochastic Regression Imputation\n",
    "\n",
    "A random residual is added \n",
    "\n",
    "https://www.kaggle.com/code/shashankasubrahmanya/missing-data-imputation-using-regression/notebook\n",
    "\n",
    "\n",
    "</span>\n"
   ]
  },
  {
   "attachments": {},
   "cell_type": "markdown",
   "metadata": {},
   "source": [
    "## 2.4. \"Hot Deck\" methods: Draws based on implicit models\n",
    "<span style=\"font-size:14px;font-family: Arial;line-height:1.5\">\n",
    "<p>\n",
    "Hot deck imputation is a method for handling missing data in which each missing value is replaced with an observed response from a “similar” unit (<a href=\"http:\\\\www.ncbi.nlm.nih.gov/pmc/articles/PMC3130338\">Andrige & Little, 2011</a>). Hot deck methods thus tend to draw from the same dataset (e.g. other passengers on the titanic), which can be contrasted with 'cold-deck' procedures in which samples are drawn from other data sources (e.g. passengers on other ships, or past sailings - if the titanic hadn't been on it's maiden voyage).\n",
    "</p><p>\n",
    "Here we will primarily consider what are sometimes called <i>random hot deck methods</i>, as they involve randomly selecting a donor value from a set of potential donors. This can be contrasted with <i>deterministic</i> hot deck methods that involve identification of a single donor.\n",
    "</p><p>\n",
    "<b>Advantages</b>\n",
    "</p><p>\n",
    "\"Unlike mean imputation, the distribution of the sampled values of Y is not distorted by the imputations.\" (Little and Rubin, 2019). Sampling <i>with</i> replacement leads to additional sample variance, which can be reduced by sampling <i>without</i> replacement. \n",
    "</p><p>\n",
    "Another advantage is that, unlike regression, you don't need to worry about model specification and draws from the available data will always been in a sensible range (i.e. no negative ages).\n",
    "</p>\n",
    "</span>"
   ]
  },
  {
   "attachments": {},
   "cell_type": "markdown",
   "metadata": {},
   "source": [
    "<span style=\"font-size:14px;font-family: Arial;line-height:1.5\">\n",
    "\n",
    "\n",
    "### 2.4.1. Hot-deck sampling with adjustment cells \n",
    "\n",
    "<span style=\"font-size:14px;font-family: Arial;line-height:1.5\">\n",
    "<p>\n",
    "We might have good reason to believe that a variable with missing data is dependent on other features in the data. For example if female passengers tended to be older than male passengers. It may therefore be useful to resample data specifically from the most relevant data - i.e. if we have a missing age value for a male passenger, we resample from the available ages for only men. This organization of the dataset is sometimes called <i>stratification</i> and the groups of data created by stratifying are sometimes called <i>adjustment cells</i>.\n",
    "</p><p>\n",
    "Unfortunately there aren't many packages in Python for these approaches (to my knowledge); however it is quite straightforward to write our own.\n",
    "</p>\n",
    "</span>"
   ]
  },
  {
   "cell_type": "code",
   "execution_count": 24,
   "metadata": {},
   "outputs": [],
   "source": [
    "from typing import List\n",
    "\n",
    "def impute_with_adjustment_cells(df:pd.DataFrame, colname:str, strata:List[str], n_impute:int=1) -> pd.DataFrame:\n",
    "    \"\"\" \n",
    "    Impute missing data by hot-deck resampling with adjustment cells\n",
    "\n",
    "    Args:\n",
    "        df: dataframe containing complete and missing cases\n",
    "        colname: name of column containing missing data\n",
    "        strata: list of columns used to create adjustment cells\n",
    "        n_impute: how many rounds of imputation we want to perform\n",
    "    \n",
    "    Returns:\n",
    "        Dataframe with input data and additional columns containing the target column after each round of imputation\n",
    "\n",
    "    >>> impute_with_adjustment_cells(df, 'Age', ['Sex','Pclass'], n_impute=8)\n",
    "\n",
    "    TO DO: Modify function to allow resampling without stratification\n",
    "    \"\"\"\n",
    "\n",
    "    # Create the groupby object once to save time\n",
    "    group_obj = df[strata + [colname]].groupby(strata)\n",
    "\n",
    "    # For every round of imputation\n",
    "    for impute_count in range(n_impute):\n",
    "\n",
    "        # Create new column with original data, including missing data\n",
    "        new_name = f\"{colname}_S{impute_count}\"\n",
    "\n",
    "        # For each stratification layer\n",
    "        for strate_vals, strata_df in group_obj:\n",
    "\n",
    "            new_vals = (                    # Resample with replacement from available values\n",
    "                strata_df[colname]\n",
    "                .dropna()\n",
    "                .sample(\n",
    "                    n = strata_df[colname].isna().sum(),\n",
    "                    replace=True\n",
    "                )\n",
    "            )\n",
    "\n",
    "            new_vals.index = strata_df[strata_df[colname].isna()].index\n",
    "\n",
    "            df[new_name] = pd.concat([df[colname].dropna(), new_vals])\n",
    "\n",
    "    return df"
   ]
  },
  {
   "attachments": {},
   "cell_type": "markdown",
   "metadata": {},
   "source": [
    "<span style=\"font-size:14px;font-family: Arial;line-height:1.5\">\n",
    "<p>\n",
    "<b>Considerations</b>\n",
    "</p><p>\n",
    "1. If you want to use continuous variables, you must convert them into categories first (try the cut() function in pandas)\n",
    "</p><p>\n",
    "2. The choice of stratification variables is often motivated by prior knowledge and relies on the correlations between features. If you don't know which features to use, you may want to map correlations as we did ahead of regression in Section 2.3.3. Alternatively, one might build a decision tree for large datasets to identify the important features.\n",
    "</p><p>\n",
    "3. When choosing our variables for creating adjustment cells, we must keep in mind donor sparseness and the possibility that if we have too many cells, there may be no donors meeting the same criteria as the case with missing data.\n",
    "</p><p>\n",
    "4. If we do have few donors per adjustment cell, we may want to limit the number of times a particular donor can be used as a sample.\n",
    "</p><p>\n",
    "Given these considerations, let's see how we do imputing missing Age data with a small set of six adjustment cells defined by Sex (Male/Female) and Class (1st, 2nd or 3rd):\n",
    "</p>\n",
    "</span>"
   ]
  },
  {
   "cell_type": "code",
   "execution_count": 25,
   "metadata": {},
   "outputs": [],
   "source": [
    "resamp_with_adj = impute_with_adjustment_cells(train, colname='Age', strata = ['Sex','Pclass'], n_impute=8) "
   ]
  },
  {
   "attachments": {},
   "cell_type": "markdown",
   "metadata": {},
   "source": [
    "<span style=\"font-size:14px;font-family: Arial;line-height:1.5\">\n",
    "By drawing multiple samples, we have also created our first example of multiple imputation. This opens the door to processing uncertainty in a way that supports more accurate estimates of variability. For now, let's simply draw the distributions that result from each round of imputation:\n",
    "</span>"
   ]
  },
  {
   "cell_type": "code",
   "execution_count": 36,
   "metadata": {},
   "outputs": [
    {
     "data": {
      "image/png": "[encoded data removed]",
      "text/plain": [
       "<Figure size 800x300 with 1 Axes>"
      ]
     },
     "metadata": {},
     "output_type": "display_data"
    }
   ],
   "source": [
    "def plot_resampled_distributions(df, cols, ax):\n",
    "\n",
    "    sns.ecdfplot(\n",
    "        data = (\n",
    "            df\n",
    "            .query('Age.isna()')\n",
    "            .filter(cols + ['PassengerId'])\n",
    "            .melt(id_vars=['PassengerId'], value_name='Imputed_Age', var_name='ImputeIdx')\n",
    "        ),\n",
    "        x = 'Imputed_Age',\n",
    "        hue = 'ImputeIdx',\n",
    "        ax = ax,\n",
    "        legend = False\n",
    "    )\n",
    "\n",
    "fig, axs = plt.subplots(1, 1, **{'figsize':(8,3)})\n",
    "\n",
    "strat_resamp_cols = [c for c in train.columns if 'Age_S' in c]\n",
    "plot_resampled_distributions(resamp_with_adj, strat_resamp_cols, axs)\n",
    "plt.show()"
   ]
  },
  {
   "attachments": {},
   "cell_type": "markdown",
   "metadata": {},
   "source": [
    "### 2.4.2. Selecting donors based on distance\n",
    "<span style=\"font-size:14px;font-family: Arial;line-height:1.5\">\n",
    "Creation of adjustment cells requires that we discretize continuous variables. In some cases this may be undersirable and we may instead want to identify donors based on their proximity to cases with missing data based on some distance in a space defined by features for which we have complete records.\n",
    "\n",
    "In the titanic dataset, this could be for example based on the number of family members and the fare paid (here shown after log transform):\n",
    "</span>"
   ]
  },
  {
   "cell_type": "code",
   "execution_count": 44,
   "metadata": {},
   "outputs": [
    {
     "data": {
      "image/png": "[encoded data removed]",
      "text/plain": [
       "<Figure size 640x480 with 1 Axes>"
      ]
     },
     "metadata": {},
     "output_type": "display_data"
    }
   ],
   "source": [
    "sns.scatterplot(data=train, x='family_size', y='log_fare', hue='age_missing', s=6, alpha=0.5)\n",
    "plt.show()"
   ]
  },
  {
   "attachments": {},
   "cell_type": "markdown",
   "metadata": {},
   "source": [
    "<span style=\"font-size:14px;font-family: Arial;line-height:1.5\">\n",
    "Within this space, we can define some neighbourhood either based on the nearest k-neighbours or some distance threshold.\n",
    "\n",
    "In the plot above, the features happen to scale well relative to each other; however if we were to use the original fare values, distances would be dominated fares. It's therefore important to scale variables approapriately or use corrected distance metrics such as the Mahalanobis rather than Euclidean distance.\n",
    "</span>\n",
    "\n",
    "#### Imputation with weighting\n",
    "\n",
    "In the case of Deck, we know that there are a limited number of decks for a given class (e.g. decks E to G for third class passengers). This means that we can use something about class to infer the deck on which a passenger was. However, passengers may not be equally distributed across decks - for example if deck E and F were shared with second class passengers. If we want to make a guess about which deck a passenger was staying, it would therefore be wise to take into account the relative probabilities of staying on each deck based on class. "
   ]
  },
  {
   "cell_type": "code",
   "execution_count": null,
   "metadata": {},
   "outputs": [],
   "source": []
  },
  {
   "attachments": {},
   "cell_type": "markdown",
   "metadata": {},
   "source": [
    "### 2.6.3. Hot Deck based on a matching metric\n",
    "<span style=\"font-size:14px;font-family: Arial;line-height:1.5\">\n",
    "To impute missing Ages\n",
    "\n",
    "1. Define a space from fully-observed metrics (e.g. a 1D space defined by Fare)\n",
    "2. For each passenger with missing Age data:\n",
    "    <br>i) measure the distance in that space to all other passengers with known Ages\n",
    "    <br>ii) select passengers with known Ages within a specific distance (e.g. fares of ± £5)\n",
    "    <br>iii) randomly sample an Age from within this selected group for use as imputed value\n",
    "\n",
    "An advance on this is *predictive mean modelling* in which distances are based on predictions from a regression model\n",
    "\n",
    "</span>"
   ]
  },
  {
   "attachments": {},
   "cell_type": "markdown",
   "metadata": {},
   "source": [
    "## 2.7. ML approaches\n",
    "### 2.7.1. K-Nearest Neighbors Imputation\n",
    "\n",
    "<span style=\"font-size:14px;font-family: Arial;line-height:1.5\">\n",
    "<p>\n",
    "This involves using the values of the k-nearest neighbors to the missing data point to impute the missing value. This can be useful if the data is missing at random and if the missing data is similar to the values of its neighboring points. However, it can also introduce bias and error if the data is not missing at random or if the nearest neighbors are not representative of the missing data point.\n",
    "</p><p>\n",
    "These are just a few examples of methods for replacing missing data. There are many other methods and techniques that can be used, and the appropriate method to use depends on the specific context and characteristics of the missing data. It is important to carefully evaluate the missing data and consider the potential implications of different methods before deciding on a course of action.\n",
    "</p></span>"
   ]
  },
  {
   "cell_type": "code",
   "execution_count": null,
   "metadata": {},
   "outputs": [],
   "source": [
    "from sklearn.impute import KNNImputer\n",
    "\n",
    "imputer = KNNImputer(n_neighbors = 3)\n",
    "\n",
    "# Select columns to use for impute\n",
    "columns_for_impute = ['Pclass','SibSp', 'Parch', 'Fare', 'gender_numeric', 'embarked_numeric','Age']\n",
    "\n",
    "# Fit the imputer to the data\n",
    "imputer.fit(train[columns_for_impute])\n",
    "\n",
    "# Transform the data\n",
    "imputed_data = imputer.transform(train[columns_for_impute])\n",
    "\n",
    "# Create a new dataframe with the imputed data\n",
    "imputed_df = pd.DataFrame(imputed_data, columns = columns_for_impute)"
   ]
  },
  {
   "cell_type": "markdown",
   "metadata": {},
   "source": [
    "#### 2.3.2.5. Neural Networks\n",
    "\n",
    "<span style=\"font-size:14px;font-family: Arial;line-height:1.5\">\n",
    "Given the hype, it's important to remember that a neural net isn't magic - it can't find relationships if they don't exist. Also, if those relationships are very complex, we may not have enough data to find them.\n",
    "</span>"
   ]
  },
  {
   "cell_type": "code",
   "execution_count": null,
   "metadata": {},
   "outputs": [],
   "source": [
    "from tensorflow import keras\n",
    "\n",
    "# Create a sample dataset with missing values\n",
    "data = np.array([[1, 2, np.nan],\n",
    "                 [3, 4, 5],\n",
    "                 [6, np.nan, 7],\n",
    "                 [np.nan, 8, 9]])\n",
    "\n",
    "# Define the model\n",
    "model = keras.Sequential([\n",
    "    keras.layers.Dense(10, input_shape=(3,)),\n",
    "    keras.layers.Dense(10),\n",
    "    keras.layers.Dense(3)\n",
    "])\n",
    "\n",
    "# Compile the model\n",
    "model.compile(optimizer='adam', loss='mse')\n",
    "\n",
    "# Train the model\n",
    "model.fit(data, data, epochs=100)\n",
    "\n",
    "# Use the trained model to impute missing values\n",
    "imputed_data = model.predict(data)\n",
    "\n",
    "# Print the imputed dataset\n",
    "print(imputed_data)"
   ]
  },
  {
   "attachments": {},
   "cell_type": "markdown",
   "metadata": {},
   "source": [
    "## 2.7 Graph-based methods\n",
    "\n",
    "The methods above assume that the data is missing at random (MAR). Our initial inspection of the data in Section 2.2. indicated that there is some reason to believe this assumption as the obvious causes of missing data (e.g. sampling bias) are not immediately apparent. However if data is MNAR, then we need a method of modelling the missingness mechanism.\n",
    "\n",
    "Graph based methods (reviewed in [Mohan and Pearl, 2021](https://www.tandfonline.com/doi/epdf/10.1080/01621459.2021.1874961?needAccess=true&role=button))\n",
    "\n",
    "## 2.8. Cold Deck methods\n",
    "\n",
    "Sampling from other datasets - e.g. census data, passenger information from other ships\n",
    "\n",
    "## 2.9. Further Considerations\n",
    "\n",
    "### 2.9.1. Documenting Missing Data\n",
    "\n",
    "<span style=\"font-size:14px;font-family: Arial;line-height:1.5\">\n",
    "We began this chapter by discussing how to find missing data and think about the reasons why some datapoints might be absent. While the titanic dataset is useful for illustrating the general flow of data science workflows, it should be noted that it's best practice to document the sources and reasons for missing data at the point of data collection. \n",
    "\n",
    "</span>\n",
    "\n",
    "\n",
    "### 2.9.2. Approaches that are robust to missing data\n",
    "\n",
    "- Generalized linear mixed models\n",
    "- XGBoost (Sparsity Aware Split Finding)\n",
    "\n",
    "### 2.9.3. Preventing Data Leakage: Never merge the train and test data\n",
    "\n",
    "<span style=\"font-size:14px;font-family: Arial;line-height:1.5\">\n",
    "\n",
    "When imputing missing data, one might think that we should combine data from the training and test datasets, so that we can maximise our ability to estimate missing values. However, if we were to merge the two datasets, we would potentially risk **data leakage** that might undermine the model we're training. \n",
    "\n",
    "A simple example using regression imputation shows you why: Here we simulate a simple experiment in which age is correlated with ticket fare, but the correlation coefficients and ranges of fares in test and train data are different:\n",
    "\n",
    "### 2.9.4. Recoverability\n",
    "\n",
    "Although we have spent this chapter thinking about how to recover missing data, one must acknowledge the possibility that no method exists that produces a consistent estimate of the lost data from complete cases. In such situations, one must instead model the process that causes missing data.\n",
    "\n",
    "\"Recoverability is a data-independent task that takes as input a pair, a query and a model, and determines if the value of the query can be estimated as sample size approaches infinity, assuming that only variables assigned R variables can be corrupted by missingness.\" (see Mohan & Pearl 2021 for discussion).\n",
    "\n",
    "In general, we must have some complete cases for all combinations of variables in order for a graph to be recoverable.\n",
    "\n",
    "\n",
    "### 2.9.5. Tension between statistics and machine learning \n",
    "\n",
    "There is much discussion about the conflicting demands between methods in statistics and machine learning (REFERENCE). Imputation is one example where this comes into play, as the goal of the kaggle competition - and machine learning approaches more broadly, is to find the best predictions of the missing values for the survival column.\n",
    "\n",
    "However statisticians are more often interested in making inferences about population quantities such as means, correlations and regression coefficients. In such cases, \"the objective of imputation is not to get the best possible predictions of the missing values, but to replace them by plausible values in order to exploit the information in the recorded variables in the incomplete cases for inference about population parameters\" (Little & Rubin, 2002)\n",
    "\n",
    "It may thus be inappropriate to compare predictive performance of imputation methods from statistics and machine learning, when statistical methods don't attempt to recover missing data at the level of individual units.\n",
    "\n",
    "\n",
    "</span>"
   ]
  },
  {
   "cell_type": "code",
   "execution_count": null,
   "metadata": {},
   "outputs": [],
   "source": [
    "import numpy as np\n",
    "\n",
    "n_passengers, max_age = 200, 80\n",
    "\n",
    "train_age = np.random.rand(n_passengers) * max_age\n",
    "test_age = np.random.rand(n_passengers) * (max_age/2)              # test subjects are half as old \n",
    "\n",
    "train_fare = (train_age * 10) + (25*np.random.rand(n_passengers))   # y = a + bx + noise\n",
    "test_fare = (test_age * 5) + (25*np.random.rand(n_passengers))      \n",
    "\n",
    "# mask a subset of ages (data has no order)\n",
    "proportion_missing = 0.3\n",
    "train_age[:int(n_passengers*proportion_missing)] = np.nan   \n",
    "fares_for_missing_data = train_fare[:int(n_passengers*proportion_missing)]"
   ]
  },
  {
   "cell_type": "code",
   "execution_count": null,
   "metadata": {},
   "outputs": [],
   "source": [
    "# Impute values using linear regression with only training data\n",
    "from sklearn.linear_model import LinearRegression\n",
    "\n",
    "X = train_fare[~np.isnan(train_age)].reshape(-1,1)\n",
    "y = train_age[~np.isnan(train_age)].reshape(-1,1)\n",
    "\n",
    "training_only = LinearRegression().fit(X, y)\n",
    "trained_only_prediction = training_only.predict(fares_for_missing_data.reshape(-1, 1))"
   ]
  },
  {
   "cell_type": "code",
   "execution_count": null,
   "metadata": {},
   "outputs": [],
   "source": [
    "# Now impute values using linear regression on merged test and training data\n",
    "X_merged = np.vstack((X, test_fare.reshape(-1, 1)))\n",
    "y_merged = np.vstack((y, test_age.reshape(-1, 1)))\n",
    "\n",
    "merged_model = LinearRegression().fit(X_merged, y_merged)\n",
    "merged_prediction = merged_model.predict(fares_for_missing_data.reshape(-1,1))"
   ]
  },
  {
   "cell_type": "markdown",
   "metadata": {},
   "source": [
    "<span style=\"font-size:14px;font-family: Arial;line-height:1.5\">\n",
    "When we plot the results in the cell below, we can see that the imputed ages of subjects is very strongly affected by the merging of train and test datasets. If we were then to build our survival model based on the ages imputed after merging, that model would also be influenced by the test data. In deployment, such a model may generalize poorly because it can no longer rely on the leaked information that allowed it to perform well on the test data.\n",
    "</span>"
   ]
  },
  {
   "cell_type": "code",
   "execution_count": null,
   "metadata": {},
   "outputs": [],
   "source": [
    "# Plot the results\n",
    "import matplotlib.pyplot as plt\n",
    "\n",
    "plt.scatter(train_fare, train_age, marker='.', color='c', alpha=0.5, label='Train (Observed)')\n",
    "plt.scatter(test_fare, test_age, marker='.', color='orange', alpha=0.5, label='Test (Observed)')\n",
    "\n",
    "plt.scatter(\n",
    "    train_fare[np.isnan(train_age)], \n",
    "    trained_only_prediction, \n",
    "    marker='x', s=5, color='b', label='Train (Imputed)')\n",
    "\n",
    "plt.scatter(\n",
    "    train_fare[np.isnan(train_age)], \n",
    "    merged_prediction, \n",
    "    marker='x', s=5, color='r', label='Merged (Imputed)')\n",
    "\n",
    "plt.ylabel('Age (Years)')\n",
    "plt.xlabel('Fare (£)')\n",
    "plt.legend()\n",
    "plt.show()"
   ]
  },
  {
   "attachments": {},
   "cell_type": "markdown",
   "metadata": {},
   "source": [
    "\n",
    "\n",
    "### 2.4.2. Multiple Imputation (MI)\n",
    "\n",
    "In the statistics community, it is common practice to perform multiple imputations, generating, for example, *m* separate imputations for a single feature matrix. Each of these *m* imputations is then put through the subsequent analysis pipeline (e.g. feature engineering, clustering, regression, classification). The *m* final analysis results (e.g. held-out validation errors) allow the data scientist to obtain understanding of how analytic results may differ as a consequence of the inherent uncertainty caused by the missing values. \n",
    "\n",
    "One advantage of MI is that it allows us to compare models of missingness and see how sensitive our analysis is to our theories about why data is missing."
   ]
  },
  {
   "attachments": {},
   "cell_type": "markdown",
   "metadata": {},
   "source": [
    "## 2.5. Final steps\n",
    "\n",
    "When identifying and imputing missing data, we modified some columns for which we've already done feature engineering. We must remember to then update these columns in order to pass on the improvements."
   ]
  },
  {
   "cell_type": "code",
   "execution_count": null,
   "metadata": {},
   "outputs": [],
   "source": [
    "\n",
    "# Repeat the log transform from Chapter 1, but now zero values aren't a problem\n",
    "import numpy as np\n",
    "\n",
    "train['log_fare'] = np.log(train['Fare'])\n",
    "test['log_fare'] = np.log(test['Fare'])"
   ]
  },
  {
   "attachments": {},
   "cell_type": "markdown",
   "metadata": {},
   "source": [
    "Check that we're no longer missing any values"
   ]
  },
  {
   "cell_type": "code",
   "execution_count": null,
   "metadata": {},
   "outputs": [],
   "source": [
    "pd.concat([\n",
    "    train.shape[0] - train.describe(include='all').head(1).rename({'count':'train'}),    \n",
    "    test.shape[0] - test.describe(include='all').head(1).rename({'count':'test'})\n",
    "])"
   ]
  },
  {
   "attachments": {},
   "cell_type": "markdown",
   "metadata": {},
   "source": [
    "## Conclusions\n",
    "\n",
    "\n",
    "Need for multivariate imputation to preserve associations between missing variables\n",
    "\n",
    "To map out the missing data, we will first consider the data in it's original form (i.e. before we did some simple feature engineering in Chapter 1).\n",
    "\n",
    "### Python Packages\n",
    "\n",
    "Imputation in python is available through several libraries, however some of these are still in development:\n",
    "\n",
    "* [MIDASpy](https://github.com/MIDASverse/MIDASpy)\n",
    "* [sklearn.impute](https://scikit-learn.org/stable/modules/impute.html) \n",
    "* [impyute](https://impyute.readthedocs.io/en/master/)\n",
    "\n",
    "\n",
    "\n",
    "### R Packages\n",
    "\n",
    "The R ecosystem also has some well developed packages for imputation:\n",
    "* MICE (Multivariate Imputation via Chained Equations) \n",
    "* [rMIDAS](https://github.com/MIDASverse/rMIDAS)\n",
    "* [Amelia](https://cran.r-project.org/web/packages/Amelia/index.html)\n",
    "* missForest\n",
    "* Hmisc\n",
    "* mi\n",
    "\n",
    "\n",
    "### Applications of Imputation beyond the Titanic\n",
    "\n",
    "Recommendation systems\n",
    "\n",
    "Imagine another universe in which the titanic didn't sink, and instead of survival values, we had ratings of how good the journey was. If we had those ratings for all the White Star line ships, then we could build a table of every passenger and every possible journey, with some data filled in for completed journeys and other data missing for possible trips in the future. Using imputation, we could fill in that missing data to predict passenger's ratings for those possible trips and then select those trips that are likely to be well rated. This is a **recommendation system** like those used in a variety of services (Netflix, Spotify etc.) and is based on the solution to an imputation problem of filling in missing data."
   ]
  }
 ],
 "metadata": {
  "kernelspec": {
   "display_name": "Python 3.8.3 ('env': venv)",
   "language": "python",
   "name": "python3"
  },
  "language_info": {
   "codemirror_mode": {
    "name": "ipython",
    "version": 3
   },
   "file_extension": ".py",
   "mimetype": "text/x-python",
   "name": "python",
   "nbconvert_exporter": "python",
   "pygments_lexer": "ipython3",
   "version": "3.8.3"
  },
  "orig_nbformat": 4,
  "vscode": {
   "interpreter": {
    "hash": "9b730ead757b5d9b842526340519d98f65a574c00873e9637238694ddd8f9228"
   }
  }
 },
 "nbformat": 4,
 "nbformat_minor": 2
}
