{
 "cells": [
  {
   "attachments": {},
   "cell_type": "markdown",
   "metadata": {},
   "source": [
    "# Perfect performance?\n",
    "\n",
    "Predicting survival in the titanic dataset is meant as a toy example of machine learning and statistics. Anyone with experience in or around these fields will tell you that perfect prediction should be impossible in a system with uncertainty. To predict every outcome correctly either reflects a very lucky guess that will be unsustainable in future testing. \n",
    "\n",
    "To get perfect performance we need to confront the *ludic fallacy* proposed by Taleb (Black Swan, 2007): this is the idea that statistical models are not applicable to real-life scenarios in which probabilities conform to simple rules. Surviving the titanic disaster wasn't a game to those involved, and we can't reduce the survival of a passenger down to a simple combination of factors. The truth is that the situation was vastly\n",
    "\n",
    "\n",
    "If we want to solve the issue of the t\n",
    "\n",
    "I mean going beyond the limits of the training dataset to find additional sources of information that will help us *determine* rather than *predict* who survived. Prediction is something you need to do when you don't have information, determination is finding out that information, and as Patrick Winston once said, \"the best way to find out is to ask someone who knows\"\n",
    "\n",
    "Plenty of people know who survived the titanic and who didn't. We just need to ask them..."
   ]
  }
 ],
 "metadata": {
  "kernelspec": {
   "display_name": "Python 3.8.3 ('base')",
   "language": "python",
   "name": "python3"
  },
  "language_info": {
   "name": "python",
   "version": "3.8.3 (default, Jul  2 2020, 16:21:59) \n[GCC 7.3.0]"
  },
  "orig_nbformat": 4,
  "vscode": {
   "interpreter": {
    "hash": "735d2560f5c4584cff7d173bd0522e24fb31a457139f28509b78982ec0581f5a"
   }
  }
 },
 "nbformat": 4,
 "nbformat_minor": 2
}
