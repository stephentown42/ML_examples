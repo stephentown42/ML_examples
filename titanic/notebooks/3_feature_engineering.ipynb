{
 "cells": [
  {
   "attachments": {},
   "cell_type": "markdown",
   "metadata": {},
   "source": [
    "# 3. Feature Engineering\n",
    "<span style=\"font-size:14px;line-height:1.5\">\n",
    "<p>\n",
    "Some of the approaches we will cover in this chapter may not be well-suited to the titanic dataset. However, that's a feature rather than a bug in our book design. We specifically on a single dataset is intentional because it allows us to discuss not only the tools that are relevant to a particular problem, but also those tools that are not suitable. This approach mirrors the workflow one might normally encounter in the real-world, where your problem is centered around a dataset that you need to work with, rather than a technique you need to apply.\n",
    "</p><p>\n",
    "\n",
    "## 3.1. A quick recap\n",
    "\n",
    "In Chapter 1 we performed some basic feature engineering to gain insight into the dataset. The table below summarises some of the main insights about the original features and the simple features we also computed:</p>\n",
    "\n",
    "<b>Original Features</b>\n",
    "\n",
    "| Feature  | Notes                 |\n",
    "| -------- | ------------ |\n",
    "| Age      | Contains missing data  |\n",
    "| Sex      |                        |\n",
    "| Class    |                        |\n",
    "| Fare     | Contains zero coded missing data  |\n",
    "| Ticket   |                                        |\n",
    "| Embarked | Contains missing data                  |\n",
    "| Cabin    | Contains inconsistent string formats   |\n",
    "| Name     | Contains inconsistent string formats   |\n",
    "| SibSp     | |\n",
    "| Parch     | |\n",
    "| PassengerId     | |\n",
    "\n",
    "\n",
    "<p><b>Engineered Features</b></ps>\n",
    "\n",
    "| Feature   | Based On | Notes                 |\n",
    "| --------  | -------- | ------------ |\n",
    "| age_measure  | Age  | Indicates confidence in age measurement|\n",
    "| age_group    | Age  | Rounded age group, *don't suggest using in the model |\n",
    "| log_fare     | Fare | Log-transform reveals additional peaks in distribution, could be useful |\n",
    "| people_on_ticket | Ticket | Shows number of people travelling on same ticket as passenger |\n",
    "| ticket_prefix | Ticket | String at start of ticket, common to multiple tickets (possible subsection?) |\n",
    "| ticket_number | Ticket | Numeric part of ticket, shows indications of structure associated with ship |\n",
    "| n_rooms | Cabin | Highlights that some passengers had up to 4 rooms |\n",
    "| section | Cabin | The major division of the ship in which the passenger was staying (also a refinement on Class) |\n",
    "| title | Name | 'Mr','Mrs','Dr','Rev' etc. |\n",
    "| professional_title | Name | Boolean indicating if title indicates a profession (lower survival) |\n",
    "| noble_title | Name | Boolean indicating if title indicates an aristocratic label (higher survival) |\n",
    "| family_size | SibSp + Parch | Total number of relatives |\n",
    "\n",
    "Rather than duplicate the code used to extract these features, we will load in a modified version of the data\n",
    "</span>"
   ]
  },
  {
   "cell_type": "code",
   "execution_count": null,
   "metadata": {},
   "outputs": [],
   "source": []
  },
  {
   "cell_type": "code",
   "execution_count": null,
   "metadata": {},
   "outputs": [],
   "source": [
    "def get_age_measurement_type(x):            # there may be nicer ways of writing this function but it does the job\n",
    "    if np.isnan(x):\n",
    "        return 'missing'\n",
    "    else:\n",
    "        if (x - np.floor(x)) == 0.5:\n",
    "            return 'estimated'        \n",
    "    return 'observed'\n",
    "\n",
    "train['age_measure'] = train['Age'].apply(get_age_measurement_type)"
   ]
  },
  {
   "attachments": {},
   "cell_type": "markdown",
   "metadata": {},
   "source": [
    "### One Hot Encoding\n",
    "\n",
    "#### The Dummy Variable Trap\n",
    "\n",
    "One hot encoding leads to redundancy as, for *N* categories, the final column can be determined from the combination of all other columns in the dummy dataset. \n",
    "\n",
    "It's easy to see this in a column with two categories, which is encoded as two columns using one-hot encoding, yet the values in the two encoded columns are perfectly inversely correlated. This introduces unwanted **Multi-collinearity** that we want to avoid.\n",
    "\n",
    "The solution to the problem is simple: drop one of the columns resulting from one-hot encoding. The presence of that particular category will still be evident within the remaining dataset as encoded columns full of zeros.\n",
    "\n"
   ]
  },
  {
   "attachments": {},
   "cell_type": "markdown",
   "metadata": {},
   "source": [
    "## Social Networks\n",
    "<span style=\"font-size:14px;line-height:1.5\">\n",
    "Passengers can be connected by a variety of social relationships:\n",
    "<ul>\n",
    "    <li>Family (e.g. mother-daughter)</li>\n",
    "    <li>Friendship </li>\n",
    "    <li>Employment\n",
    "        <ul>\n",
    "        <li>Hierachical (e.g. boss-employee)</li>\n",
    "        <li>Equal level (e.g. colleagues)</li>\n",
    "        </ul>\n",
    "    </li>\n",
    "</ul>\n",
    "\n",
    "The titanic dataset contains examples of all these types of relationships, both in terms of families, but also passengers accompanied by staff and groups of employees. \n",
    "\n",
    "</span>\n",
    "\n",
    "### Women-Child Grouping\n",
    "\n",
    "[Chris Deotte](https://www.kaggle.com/code/cdeotte/titanic-using-name-only-0-81818/notebook) makes the case that, if we assume that surname can be used as a proxy for family group (i.e. that there are no two unrelated individuals with the same surname), we can estimate the family survival rate for women and children. This then provides a strong predictor of survival for fellow women and children within the same social group.\n"
   ]
  }
 ],
 "metadata": {
  "kernelspec": {
   "display_name": "base",
   "language": "python",
   "name": "python3"
  },
  "language_info": {
   "name": "python",
   "version": "3.8.3 (default, Jul  2 2020, 16:21:59) \n[GCC 7.3.0]"
  },
  "orig_nbformat": 4,
  "vscode": {
   "interpreter": {
    "hash": "735d2560f5c4584cff7d173bd0522e24fb31a457139f28509b78982ec0581f5a"
   }
  }
 },
 "nbformat": 4,
 "nbformat_minor": 2
}
