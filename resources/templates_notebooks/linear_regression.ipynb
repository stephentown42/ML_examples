{
 "cells": [
  {
   "attachments": {},
   "cell_type": "markdown",
   "metadata": {},
   "source": [
    "# Linear Regression \n",
    "\n",
    "Use the iris dataset (from seaborn) to measure association between continuous variables"
   ]
  },
  {
   "cell_type": "code",
   "execution_count": 2,
   "metadata": {},
   "outputs": [
    {
     "data": {
      "text/html": [
       "<div>\n",
       "<style scoped>\n",
       "    .dataframe tbody tr th:only-of-type {\n",
       "        vertical-align: middle;\n",
       "    }\n",
       "\n",
       "    .dataframe tbody tr th {\n",
       "        vertical-align: top;\n",
       "    }\n",
       "\n",
       "    .dataframe thead th {\n",
       "        text-align: right;\n",
       "    }\n",
       "</style>\n",
       "<table border=\"1\" class=\"dataframe\">\n",
       "  <thead>\n",
       "    <tr style=\"text-align: right;\">\n",
       "      <th></th>\n",
       "      <th>sepal_length</th>\n",
       "      <th>sepal_width</th>\n",
       "      <th>petal_length</th>\n",
       "      <th>petal_width</th>\n",
       "      <th>species</th>\n",
       "    </tr>\n",
       "  </thead>\n",
       "  <tbody>\n",
       "    <tr>\n",
       "      <th>0</th>\n",
       "      <td>5.1</td>\n",
       "      <td>3.5</td>\n",
       "      <td>1.4</td>\n",
       "      <td>0.2</td>\n",
       "      <td>setosa</td>\n",
       "    </tr>\n",
       "    <tr>\n",
       "      <th>1</th>\n",
       "      <td>4.9</td>\n",
       "      <td>3.0</td>\n",
       "      <td>1.4</td>\n",
       "      <td>0.2</td>\n",
       "      <td>setosa</td>\n",
       "    </tr>\n",
       "    <tr>\n",
       "      <th>2</th>\n",
       "      <td>4.7</td>\n",
       "      <td>3.2</td>\n",
       "      <td>1.3</td>\n",
       "      <td>0.2</td>\n",
       "      <td>setosa</td>\n",
       "    </tr>\n",
       "  </tbody>\n",
       "</table>\n",
       "</div>"
      ],
      "text/plain": [
       "   sepal_length  sepal_width  petal_length  petal_width species\n",
       "0           5.1          3.5           1.4          0.2  setosa\n",
       "1           4.9          3.0           1.4          0.2  setosa\n",
       "2           4.7          3.2           1.3          0.2  setosa"
      ]
     },
     "execution_count": 2,
     "metadata": {},
     "output_type": "execute_result"
    }
   ],
   "source": [
    "import seaborn as sns\n",
    "\n",
    "iris = sns.load_dataset('iris')\n",
    "iris.head(3)"
   ]
  },
  {
   "attachments": {},
   "cell_type": "markdown",
   "metadata": {},
   "source": [
    "## 1. Statsmodels\n",
    "\n",
    "### 1.1. Formula API"
   ]
  },
  {
   "cell_type": "code",
   "execution_count": 15,
   "metadata": {},
   "outputs": [
    {
     "name": "stdout",
     "output_type": "stream",
     "text": [
      "                            OLS Regression Results                            \n",
      "==============================================================================\n",
      "Dep. Variable:           sepal_length   R-squared:                       0.860\n",
      "Model:                            OLS   Adj. R-squared:                  0.856\n",
      "Method:                 Least Squares   F-statistic:                     222.0\n",
      "Date:                Tue, 02 May 2023   Prob (F-statistic):           9.58e-61\n",
      "Time:                        19:21:14   Log-Likelihood:                -36.785\n",
      "No. Observations:                 150   AIC:                             83.57\n",
      "Df Residuals:                     145   BIC:                             98.62\n",
      "Df Model:                           4                                         \n",
      "Covariance Type:            nonrobust                                         \n",
      "===========================================================================================\n",
      "                              coef    std err          t      P>|t|      [0.025      0.975]\n",
      "-------------------------------------------------------------------------------------------\n",
      "Intercept                   1.5118      0.420      3.598      0.000       0.681       2.342\n",
      "petal_length                0.7094      0.057     12.508      0.000       0.597       0.821\n",
      "sepal_width                 0.7533      0.120      6.252      0.000       0.515       0.991\n",
      "petal_width                -0.2222      0.352     -0.632      0.528      -0.917       0.473\n",
      "sepal_width:petal_width    -0.1046      0.102     -1.021      0.309      -0.307       0.098\n",
      "==============================================================================\n",
      "Omnibus:                        0.319   Durbin-Watson:                   2.080\n",
      "Prob(Omnibus):                  0.853   Jarque-Bera (JB):                0.481\n",
      "Skew:                          -0.035   Prob(JB):                        0.786\n",
      "Kurtosis:                       2.732   Cond. No.                         137.\n",
      "==============================================================================\n",
      "\n",
      "Notes:\n",
      "[1] Standard Errors assume that the covariance matrix of the errors is correctly specified.\n"
     ]
    }
   ],
   "source": [
    "import statsmodels.formula.api as smf\n",
    "\n",
    "mod = smf.ols(formula='sepal_length ~ petal_length + sepal_width*petal_width', data=iris)\n",
    "\n",
    "res = mod.fit()\n",
    "\n",
    "print(res.summary())"
   ]
  },
  {
   "attachments": {},
   "cell_type": "markdown",
   "metadata": {},
   "source": [
    "## Sklearn\n",
    "\n",
    "For this example, we'll split the data into test and train sets in order to predict values on held out data."
   ]
  },
  {
   "cell_type": "code",
   "execution_count": 10,
   "metadata": {},
   "outputs": [
    {
     "name": "stdout",
     "output_type": "stream",
     "text": [
      "coeficients: [ 0.          0.70669925  0.63118587 -0.56821882]\n",
      "Prediction for held out data: R² = 0.7923918759481171\n",
      "0.8583556494018153\n"
     ]
    }
   ],
   "source": [
    "# Create vectors for data\n",
    "import numpy as np\n",
    "\n",
    "y = iris['sepal_length'].to_numpy()\n",
    "X = iris[['petal_length','sepal_width','petal_width']].to_numpy()\n",
    "X = np.hstack((np.ones((iris.shape[0], 1)), X))\n",
    "\n",
    "# Split the data into train and test sets\n",
    "from sklearn.model_selection import train_test_split\n",
    "\n",
    "X_train, X_test, y_train, y_test = train_test_split(X, y,\n",
    "    random_state=13, \n",
    "    test_size=0.2, \n",
    "    shuffle=True)\n",
    "\n",
    "# Fit a linear regression model\n",
    "from sklearn.linear_model import LinearRegression\n",
    "\n",
    "mdl = LinearRegression()\n",
    "mdl.fit(X_train, y_train)\n",
    "print(f\"coeficients: {mdl.coef_}\")\n",
    "\n",
    "# Predict held out values and assess performance using R-squared\n",
    "from sklearn.metrics import r2_score\n",
    "\n",
    "y_pred = mdl.predict(X_test)\n",
    "mdl_r2 = r2_score(y_test, y_pred)\n",
    "\n",
    "print(f\"Prediction for held out data: R\\N{SUPERSCRIPT TWO} = {mdl_r2}\")\n"
   ]
  },
  {
   "cell_type": "code",
   "execution_count": 5,
   "metadata": {},
   "outputs": [
    {
     "name": "stdout",
     "output_type": "stream",
     "text": [
      "Return the coefficient of determination of the prediction.\n",
      "\n",
      "        The coefficient of determination :math:`R^2` is defined as\n",
      "        :math:`(1 - \\frac{u}{v})`, where :math:`u` is the residual\n",
      "        sum of squares ``((y_true - y_pred)** 2).sum()`` and :math:`v`\n",
      "        is the total sum of squares ``((y_true - y_true.mean()) ** 2).sum()``.\n",
      "        The best possible score is 1.0 and it can be negative (because the\n",
      "        model can be arbitrarily worse). A constant model that always predicts\n",
      "        the expected value of `y`, disregarding the input features, would get\n",
      "        a :math:`R^2` score of 0.0.\n",
      "\n",
      "        Parameters\n",
      "        ----------\n",
      "        X : array-like of shape (n_samples, n_features)\n",
      "            Test samples. For some estimators this may be a precomputed\n",
      "            kernel matrix or a list of generic objects instead with shape\n",
      "            ``(n_samples, n_samples_fitted)``, where ``n_samples_fitted``\n",
      "            is the number of samples used in the fitting for the estimator.\n",
      "\n",
      "        y : array-like of shape (n_samples,) or (n_samples, n_outputs)\n",
      "            True values for `X`.\n",
      "\n",
      "        sample_weight : array-like of shape (n_samples,), default=None\n",
      "            Sample weights.\n",
      "\n",
      "        Returns\n",
      "        -------\n",
      "        score : float\n",
      "            :math:`R^2` of ``self.predict(X)`` wrt. `y`.\n",
      "\n",
      "        Notes\n",
      "        -----\n",
      "        The :math:`R^2` score used when calling ``score`` on a regressor uses\n",
      "        ``multioutput='uniform_average'`` from version 0.23 to keep consistent\n",
      "        with default value of :func:`~sklearn.metrics.r2_score`.\n",
      "        This influences the ``score`` method of all the multioutput\n",
      "        regressors (except for\n",
      "        :class:`~sklearn.multioutput.MultiOutputRegressor`).\n",
      "        \n"
     ]
    }
   ],
   "source": [
    "print(mdl.score.__doc__)"
   ]
  },
  {
   "attachments": {},
   "cell_type": "markdown",
   "metadata": {},
   "source": [
    "## Keras"
   ]
  },
  {
   "cell_type": "code",
   "execution_count": 2,
   "metadata": {},
   "outputs": [
    {
     "ename": "NameError",
     "evalue": "name 'iris' is not defined",
     "output_type": "error",
     "traceback": [
      "\u001b[0;31m---------------------------------------------------------------------------\u001b[0m",
      "\u001b[0;31mNameError\u001b[0m                                 Traceback (most recent call last)",
      "Cell \u001b[0;32mIn[2], line 1\u001b[0m\n\u001b[0;32m----> 1\u001b[0m train_dataset \u001b[39m=\u001b[39m iris\u001b[39m.\u001b[39msample(frac\u001b[39m=\u001b[39m\u001b[39m0.8\u001b[39m, random_state\u001b[39m=\u001b[39m\u001b[39m0\u001b[39m)\n\u001b[1;32m      2\u001b[0m test_dataset \u001b[39m=\u001b[39m iris\u001b[39m.\u001b[39mdrop(train_dataset\u001b[39m.\u001b[39mindex)\n",
      "\u001b[0;31mNameError\u001b[0m: name 'iris' is not defined"
     ]
    }
   ],
   "source": [
    "train_dataset = iris.sample(frac=0.8, random_state=0)\n",
    "test_dataset = iris.drop(train_dataset.index)"
   ]
  }
 ],
 "metadata": {
  "kernelspec": {
   "display_name": "env",
   "language": "python",
   "name": "python3"
  },
  "language_info": {
   "codemirror_mode": {
    "name": "ipython",
    "version": 3
   },
   "file_extension": ".py",
   "mimetype": "text/x-python",
   "name": "python",
   "nbconvert_exporter": "python",
   "pygments_lexer": "ipython3",
   "version": "3.8.3"
  },
  "orig_nbformat": 4
 },
 "nbformat": 4,
 "nbformat_minor": 2
}
