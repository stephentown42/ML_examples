{
 "cells": [
  {
   "attachments": {},
   "cell_type": "markdown",
   "metadata": {},
   "source": [
    "# Logistic Regression \n",
    "\n",
    "Predicting the occurence of an event. "
   ]
  },
  {
   "cell_type": "code",
   "execution_count": 10,
   "metadata": {},
   "outputs": [
    {
     "data": {
      "text/plain": [
       "array([[ 0.83035958, -0.33025241, -0.23054277],\n",
       "       [-0.04399859,  0.22065793,  1.60051901],\n",
       "       [ 0.62671752,  2.10042501, -0.96579802]])"
      ]
     },
     "execution_count": 10,
     "metadata": {},
     "output_type": "execute_result"
    }
   ],
   "source": []
  },
  {
   "attachments": {},
   "cell_type": "markdown",
   "metadata": {},
   "source": [
    "## 1. Statsmodels\n",
    "\n",
    "The Spector and Mazzeo dataset consists of 32 observations of the effectiveness of an educational (PSI) program on improving grades:\n",
    "\n",
    "The response (endogenous) variable is a binary variable indicating whether grade improved.\n",
    "The predictor (exogenous) variables are:\n",
    "<li>PSI: a binary value for whether participants used the program</li>\n",
    "<li>GPA: grade point average</li>\n",
    "<li>TUCE: economics test score</li>"
   ]
  },
  {
   "cell_type": "code",
   "execution_count": 1,
   "metadata": {},
   "outputs": [
    {
     "name": "stdout",
     "output_type": "stream",
     "text": [
      "Optimization terminated successfully.\n",
      "         Current function value: 0.402801\n",
      "         Iterations 7\n",
      "                           Logit Regression Results                           \n",
      "==============================================================================\n",
      "Dep. Variable:                  GRADE   No. Observations:                   32\n",
      "Model:                          Logit   Df Residuals:                       28\n",
      "Method:                           MLE   Df Model:                            3\n",
      "Date:                Wed, 03 May 2023   Pseudo R-squ.:                  0.3740\n",
      "Time:                        11:34:34   Log-Likelihood:                -12.890\n",
      "converged:                       True   LL-Null:                       -20.592\n",
      "Covariance Type:            nonrobust   LLR p-value:                  0.001502\n",
      "==============================================================================\n",
      "                 coef    std err          z      P>|z|      [0.025      0.975]\n",
      "------------------------------------------------------------------------------\n",
      "GPA            2.8261      1.263      2.238      0.025       0.351       5.301\n",
      "TUCE           0.0952      0.142      0.672      0.501      -0.182       0.373\n",
      "PSI            2.3787      1.065      2.234      0.025       0.292       4.465\n",
      "const        -13.0213      4.931     -2.641      0.008     -22.687      -3.356\n",
      "==============================================================================\n",
      "GPA       2.826113\n",
      "TUCE      0.095158\n",
      "PSI       2.378688\n",
      "const   -13.021347\n",
      "dtype: float64\n"
     ]
    }
   ],
   "source": [
    "import numpy as np\n",
    "import statsmodels.api as sm\n",
    "\n",
    "spector_data = sm.datasets.spector.load()\n",
    "\n",
    "spector_data.exog = sm.add_constant(spector_data.exog, prepend=False)\n",
    "\n",
    "log_reg = sm.Logit(spector_data.endog, spector_data.exog ).fit()\n",
    "\n",
    "print(log_reg.summary())\n",
    "print(log_reg.params)\n"
   ]
  },
  {
   "attachments": {},
   "cell_type": "markdown",
   "metadata": {},
   "source": [
    "## 2. SciKit-Learn\n",
    "\n",
    "For this example, we'll make an example dataset using sklearn."
   ]
  },
  {
   "cell_type": "code",
   "execution_count": 11,
   "metadata": {},
   "outputs": [
    {
     "name": "stdout",
     "output_type": "stream",
     "text": [
      "Percentage of people carrying the disease: 15.20%\n"
     ]
    }
   ],
   "source": [
    "from sklearn.datasets import make_classification\n",
    "\n",
    "X, y = make_classification(n_samples=1000, weights=[0.85, 0.15], random_state=9)\n",
    "print(f\"Percentage of people carrying the disease: {100*y.mean():.2f}%\")"
   ]
  },
  {
   "cell_type": "code",
   "execution_count": 14,
   "metadata": {},
   "outputs": [],
   "source": [
    "# Split the data into test and train \n",
    "from sklearn.model_selection import train_test_split\n",
    "\n",
    "X_train, X_test, y_train, y_test = train_test_split(X, y,\n",
    "    test_size=0.1, shuffle=True, random_state=10)\n",
    "\n",
    "# Fit logistic regression\n",
    "from sklearn.linear_model import LogisticRegression\n",
    "\n",
    "mdl = LogisticRegression(penalty='l2')          # ridge\n",
    "mdl = mdl.fit(X_train, y_train)"
   ]
  },
  {
   "cell_type": "code",
   "execution_count": 19,
   "metadata": {},
   "outputs": [
    {
     "name": "stdout",
     "output_type": "stream",
     "text": [
      "LR+: 31.500\n"
     ]
    }
   ],
   "source": [
    "from sklearn.metrics import class_likelihood_ratios\n",
    "\n",
    "y_pred = mdl.predict(X_test)\n",
    "pos_LR, neg_LR = class_likelihood_ratios(y_test, y_pred)\n",
    "print(f\"LR+: {pos_LR:.3f}\")"
   ]
  }
 ],
 "metadata": {
  "kernelspec": {
   "display_name": "env",
   "language": "python",
   "name": "python3"
  },
  "language_info": {
   "codemirror_mode": {
    "name": "ipython",
    "version": 3
   },
   "file_extension": ".py",
   "mimetype": "text/x-python",
   "name": "python",
   "nbconvert_exporter": "python",
   "pygments_lexer": "ipython3",
   "version": "3.8.3"
  },
  "orig_nbformat": 4
 },
 "nbformat": 4,
 "nbformat_minor": 2
}
