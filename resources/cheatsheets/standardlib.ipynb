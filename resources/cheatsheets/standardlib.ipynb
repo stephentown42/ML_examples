{
 "cells": [
  {
   "attachments": {},
   "cell_type": "markdown",
   "metadata": {},
   "source": [
    "# Standard Python Library Demo\n",
    "\n",
    "Objective: To show what one can do with the standard features of Python \n",
    "\n",
    "## 1. Helpful built-in functions\n",
    "\n",
    "Below are some of the functions I use most commonly that are part of the python language, but a full list is [here](https://www.w3schools.com/python/python_ref_functions.asp#:~:text=Python%20Built%20in%20Functions%20%20%20%20Function,an%20object.%20...%20%2036%20more%20rows%20)"
   ]
  },
  {
   "cell_type": "code",
   "execution_count": null,
   "metadata": {},
   "outputs": [],
   "source": [
    "len()\n",
    "dir()\n",
    "# del\n",
    "\n",
    "# Types\n",
    "str()\n",
    "int()\n",
    "float()\n",
    "\n",
    "list()\n",
    "dict()\n",
    "tuple()\n",
    "\n",
    "isinstance()\n",
    "type()\n",
    "\n",
    "# Iteration\n",
    "enumerate()\n",
    "iter()\n",
    "next()\n",
    "reversed()\n",
    "zip()\n",
    "\n",
    "# Logic (in addition to ==, !=, not, |)\n",
    "any()\n",
    "all()\n",
    "\n",
    "\n",
    "# Maths (in addition to +,-,/,*,%)\n",
    "abs()\n",
    "divmod()\n",
    "max()\n",
    "min()\n",
    "\n",
    "# File manipulation\n",
    "open()"
   ]
  },
  {
   "cell_type": "code",
   "execution_count": null,
   "metadata": {},
   "outputs": [],
   "source": []
  },
  {
   "attachments": {},
   "cell_type": "markdown",
   "metadata": {},
   "source": [
    "## 2. Sys"
   ]
  },
  {
   "cell_type": "code",
   "execution_count": 1,
   "metadata": {},
   "outputs": [
    {
     "name": "stdout",
     "output_type": "stream",
     "text": [
      "The current version of python is 3.8.3 (default, Jul  2 2020, 16:21:59) \n",
      "[GCC 7.3.0]\n"
     ]
    }
   ],
   "source": [
    "import sys\n",
    "\n",
    "print(f\"The current version of python is {sys.version}\")"
   ]
  },
  {
   "attachments": {},
   "cell_type": "markdown",
   "metadata": {},
   "source": [
    "# 3. Collections"
   ]
  },
  {
   "cell_type": "code",
   "execution_count": null,
   "metadata": {},
   "outputs": [],
   "source": [
    "from collections import Counter\n"
   ]
  },
  {
   "cell_type": "code",
   "execution_count": null,
   "metadata": {},
   "outputs": [],
   "source": [
    "from collections import deque"
   ]
  },
  {
   "cell_type": "code",
   "execution_count": null,
   "metadata": {},
   "outputs": [],
   "source": [
    "from collections import OrderedDict"
   ]
  }
 ],
 "metadata": {
  "kernelspec": {
   "display_name": "env",
   "language": "python",
   "name": "python3"
  },
  "language_info": {
   "codemirror_mode": {
    "name": "ipython",
    "version": 3
   },
   "file_extension": ".py",
   "mimetype": "text/x-python",
   "name": "python",
   "nbconvert_exporter": "python",
   "pygments_lexer": "ipython3",
   "version": "3.8.3"
  },
  "orig_nbformat": 4
 },
 "nbformat": 4,
 "nbformat_minor": 2
}
