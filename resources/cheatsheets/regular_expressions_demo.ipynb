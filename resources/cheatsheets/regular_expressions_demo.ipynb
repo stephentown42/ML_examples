{
 "cells": [
  {
   "attachments": {},
   "cell_type": "markdown",
   "metadata": {},
   "source": [
    "# Regular Expressions Demo\n",
    "\n",
    "A notebook for examples showing how to use regular expressions in python."
   ]
  },
  {
   "cell_type": "code",
   "execution_count": 5,
   "metadata": {},
   "outputs": [],
   "source": [
    "import re\n",
    "\n"
   ]
  },
  {
   "attachments": {},
   "cell_type": "markdown",
   "metadata": {},
   "source": [
    "First show a simple illustration of matching"
   ]
  },
  {
   "cell_type": "code",
   "execution_count": 13,
   "metadata": {},
   "outputs": [
    {
     "name": "stdout",
     "output_type": "stream",
     "text": [
      "When a match is not found, return None\n",
      "When a match is found, a match object (<re.Match object; span=(0, 2), match='hi'>) is returned\n"
     ]
    }
   ],
   "source": [
    "test_num = '03223401'\n",
    "test_str = 'highlight'\n",
    "\n",
    "p = re.compile('[a-z]+')\n",
    "\n",
    "num_match = p.match(test_num)\n",
    "str_match = p.match(test_str)\n",
    "\n",
    "if num_match is None:\n",
    "    print('When a match is not found, return None')\n",
    "\n",
    "if str_match:\n",
    "    print(f\"When a match is found, a match object ({str_match}) is returned\")"
   ]
  },
  {
   "attachments": {},
   "cell_type": "markdown",
   "metadata": {},
   "source": [
    "The example below shows the basic matching principle by which the expression will stop as soon as it fails to meet the criteria. If the initial part of the test string does not meet the requirement, the expression returns empty."
   ]
  },
  {
   "cell_type": "code",
   "execution_count": 23,
   "metadata": {},
   "outputs": [
    {
     "name": "stdout",
     "output_type": "stream",
     "text": [
      "<re.Match object; span=(0, 2), match='hi'>\n",
      "None\n",
      "<re.Match object; span=(0, 1), match='l'>\n"
     ]
    }
   ],
   "source": [
    "q = re.compile('[h-z]+')\n",
    "\n",
    "print( q.match('highland'))         # Stops after second letter as no more characters meet condition\n",
    "print( q.match('grassland'))        # First letter doesn't meet condition, even though later letters do...\n",
    "print( q.match('land'))            "
   ]
  },
  {
   "attachments": {},
   "cell_type": "markdown",
   "metadata": {},
   "source": [
    "The behavior of the **match** function can be contrasted by the **search** function that looks across the string for the expression:"
   ]
  },
  {
   "cell_type": "code",
   "execution_count": 24,
   "metadata": {},
   "outputs": [
    {
     "name": "stdout",
     "output_type": "stream",
     "text": [
      "None\n",
      "<re.Match object; span=(1, 2), match='r'>\n"
     ]
    }
   ],
   "source": [
    "print( q.match('grassland'))        # First letter doesn't meet condition\n",
    "print( q.search('grassland'))        # Fifth letter does meet condition"
   ]
  },
  {
   "attachments": {},
   "cell_type": "markdown",
   "metadata": {},
   "source": [
    "### Making long expressions readable with re.VERBOSE\n",
    "\n",
    "Long expressions can be hard to read and interpret, but the re.VERBOSE flag allows us to write complex expressions in ways that are easy to understand and that can include comments"
   ]
  },
  {
   "cell_type": "code",
   "execution_count": 26,
   "metadata": {},
   "outputs": [],
   "source": [
    "# rather than writing \n",
    "pat = re.compile(r\"\\s*(?P<header>[^:]+)\\s*:(?P<value>.*?)\\s*$\")\n",
    "\n",
    "# we can write\n",
    "pat = re.compile(r\"\"\"\n",
    " \\s*                 # Skip leading whitespace\n",
    " (?P<header>[^:]+)   # Header name\n",
    " \\s* :               # Whitespace, and a colon\n",
    " (?P<value>.*?)      # The header's value -- *? used to\n",
    "                     # lose the following trailing whitespace\n",
    " \\s*$                # Trailing whitespace to end-of-line\n",
    "\"\"\", re.VERBOSE)"
   ]
  },
  {
   "attachments": {},
   "cell_type": "markdown",
   "metadata": {},
   "source": [
    "### Greedy vs. Non-Greedy\n",
    "\n",
    "In the example below, the greedy expression will search for as much text as it can get and thus return the full test string. However this can limit performance and give us something we don't want. To be more specific, we can use **non-greedy** operators."
   ]
  },
  {
   "cell_type": "code",
   "execution_count": 20,
   "metadata": {},
   "outputs": [
    {
     "name": "stdout",
     "output_type": "stream",
     "text": [
      "<re.Match object; span=(0, 32), match='<html><head><title>Title</title>'>\n",
      "<re.Match object; span=(0, 6), match='<html>'>\n"
     ]
    }
   ],
   "source": [
    "test_str = '<html><head><title>Title</title>'\n",
    "\n",
    "greedy_p = re.compile('<.*>')           # .* means any number of characters\n",
    "nongreedy_p = re.compile('<.*?>')       # .*? is the non-greedy version of .*\n",
    "\n",
    "print(greedy_p.match(test_str))\n",
    "print(nongreedy_p.match(test_str))"
   ]
  }
 ],
 "metadata": {
  "kernelspec": {
   "display_name": "env",
   "language": "python",
   "name": "python3"
  },
  "language_info": {
   "codemirror_mode": {
    "name": "ipython",
    "version": 3
   },
   "file_extension": ".py",
   "mimetype": "text/x-python",
   "name": "python",
   "nbconvert_exporter": "python",
   "pygments_lexer": "ipython3",
   "version": "3.8.3"
  },
  "orig_nbformat": 4
 },
 "nbformat": 4,
 "nbformat_minor": 2
}
