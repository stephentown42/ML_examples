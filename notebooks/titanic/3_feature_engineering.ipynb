{
 "cells": [
  {
   "attachments": {},
   "cell_type": "markdown",
   "metadata": {},
   "source": [
    "# 3. Feature Engineering\n",
    "\n",
    "## 3.1. A quick recap\n",
    "\n",
    "<span style=\"font-size:14px;line-height:1.5\">\n",
    "\n",
    "In Chapter 1 we performed some basic feature engineering to gain insight into the dataset. The table below summarises some of the main insights about the original features and the simple features we also computed:\n",
    "\n",
    "<b>Original Features</b>\n",
    "\n",
    "| Feature  | Notes                 |\n",
    "| -------- | ------------ |\n",
    "| Age      | Contains missing data  |\n",
    "| Sex      |                        |\n",
    "| Class    |                        |\n",
    "| Fare     | Contains zero coded missing data  |\n",
    "| Ticket   |                                        |\n",
    "| Embarked | Contains missing data                  |\n",
    "| Cabin    | Contains inconsistent string formats   |\n",
    "| Name     | Contains inconsistent string formats   |\n",
    "| SibSp     | |\n",
    "| Parch     | |\n",
    "| PassengerId     | |\n",
    "\n",
    "\n",
    "<p><b>Engineered Features</b></ps>\n",
    "\n",
    "| Feature   | Based On | Notes                 |\n",
    "| --------  | -------- | ------------ |\n",
    "| age_measure  | Age  | Indicates confidence in age measurement|\n",
    "| age_group    | Age  | Rounded age group, *don't suggest using in the model |\n",
    "| log_fare     | Fare | Log-transform reveals additional peaks in distribution, could be useful |\n",
    "| people_on_ticket | Ticket | Shows number of people travelling on same ticket as passenger |\n",
    "| ticket_prefix | Ticket | String at start of ticket number, common to multiple tickets (possible subsection?) |\n",
    "| n_rooms | Cabin | Highlights that some passengers had up to 4 rooms |\n",
    "| section | Cabin | The major division of the ship in which the passenger was staying (also a refinement on Class) |\n",
    "| title | Name | 'Mr','Mrs','Dr','Rev' etc. |\n",
    "| professional_title | Name | Boolean indicating if title indicates a profession (lower survival) |\n",
    "| noble_title | Name | Boolean indicating if title indicates an aristocratic label (higher survival) |\n",
    "| family_size | SibSp + Parch | Total number of relatives |\n",
    "\n",
    "\n",
    "\n",
    "\n",
    "Fare\n",
    "- log transform\n",
    "\n",
    "Age\n",
    "- measurement type (estimated, observed or missing/imputed)\n",
    "- age group\n",
    "\n",
    "Ticket information\n",
    "    - people on ticket\n",
    "\n",
    "- One-hot encoding ticket prefixes\n",
    "- Target encoding ticket prefixes\n",
    "- Ticket embedding \n",
    "\n",
    "</span>"
   ]
  },
  {
   "cell_type": "code",
   "execution_count": null,
   "metadata": {},
   "outputs": [],
   "source": [
    "def get_age_measurement_type(x):            # there may be nicer ways of writing this function but it does the job\n",
    "    if np.isnan(x):\n",
    "        return 'missing'\n",
    "    else:\n",
    "        if (x - np.floor(x)) == 0.5:\n",
    "            return 'estimated'        \n",
    "    return 'observed'\n",
    "\n",
    "train['age_measure'] = train['Age'].apply(get_age_measurement_type)"
   ]
  },
  {
   "attachments": {},
   "cell_type": "markdown",
   "metadata": {},
   "source": [
    "### One Hot Encoding\n",
    "\n",
    "#### The Dummy Variable Trap\n",
    "\n",
    "One hot encoding leads to redundancy as, for *N* categories, the final column can be determined from the combination of all other columns in the dummy dataset. \n",
    "\n",
    "It's easy to see this in a column with two categories, which is encoded as two columns using one-hot encoding, yet the values in the two encoded columns are perfectly inversely correlated. This introduces unwanted **Multi-collinearity** that we want to avoid.\n",
    "\n",
    "The solution to the problem is simple: drop one of the columns resulting from one-hot encoding. The presence of that particular category will still be evident within the remaining dataset as encoded columns full of zeros.\n",
    "\n"
   ]
  }
 ],
 "metadata": {
  "kernelspec": {
   "display_name": "base",
   "language": "python",
   "name": "python3"
  },
  "language_info": {
   "name": "python",
   "version": "3.8.3 (default, Jul  2 2020, 16:21:59) \n[GCC 7.3.0]"
  },
  "orig_nbformat": 4,
  "vscode": {
   "interpreter": {
    "hash": "735d2560f5c4584cff7d173bd0522e24fb31a457139f28509b78982ec0581f5a"
   }
  }
 },
 "nbformat": 4,
 "nbformat_minor": 2
}
