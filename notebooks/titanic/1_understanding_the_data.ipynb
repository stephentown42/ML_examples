{
 "cells": [
  {
   "cell_type": "markdown",
   "metadata": {},
   "source": [
    "# 1. Understanding the data\n",
    "\n",
    "As always, the first step in any data analysis pipeline is to understand what you're looking at.\n",
    "\n",
    "Inspection reveals a few points of interest:\n",
    "1. Age is not an integer value (i.e. we can have a 50.5 year old)\n",
    "2. Age and Cabin contains missing data (Cabin also contains partial data, e.g. C rather than C01)\n",
    "3. Multiple numeric variables are not Guassian (e.g. age and fare)\n",
    "\n",
    "Also, because we have the train and test data, we can also check for drift in the input parameters for any model we might build.\n",
    "\n",
    "## 1.1. General Background\n",
    "\n",
    "It is important to appreciate that this data was obviously not collected in a well-controlled experiment. From a scientific perspective, this is important in shaping how we think about features and interpret missing data (chapter 2).\n"
   ]
  },
  {
   "cell_type": "code",
   "execution_count": 1,
   "metadata": {},
   "outputs": [],
   "source": [
    "%matplotlib inline\n",
    "\n",
    "from pathlib import Path\n",
    "\n",
    "import matplotlib.gridspec as gridspec\n",
    "import matplotlib.pyplot as plt\n",
    "import numpy as np\n",
    "import pandas as pd\n",
    "import seaborn as sns\n",
    "\n",
    "plt.rcParams.update({'font.size': 8})"
   ]
  },
  {
   "cell_type": "code",
   "execution_count": 2,
   "metadata": {},
   "outputs": [],
   "source": [
    "data_dir = Path.cwd().parent.parent / 'data/titanic'\n",
    "\n",
    "train = pd.read_csv(data_dir / 'train.csv')\n",
    "test = pd.read_csv(data_dir / 'test.csv')"
   ]
  },
  {
   "cell_type": "markdown",
   "metadata": {},
   "source": [
    "## 1.2. Thinking about the features\n",
    "\n",
    "### 1.2.1. Age\n",
    "\n",
    "<span style=\"font-size:14px;line-height:1.5\">Notes from the source (Kaggle):</span><br></br>\n",
    "<span style=\"font-size:14px;font-weight:200;line-height:1.5;margin-left:10px\">\"Age is fractional if less than 1. If the age is estimated, is it in the form of xx.5\"</span>\n",
    "\n",
    "<span style=\"font-size:14px;line-height:1.5\">\n",
    "When analysing data like the titanic dataset, we have intuitions about how the data should look. For example, we wouldn't expect negative values for age. For this reason, we might also expect that the distribution of age may not be gaussian. In fact, let's look at that now: </span>"
   ]
  },
  {
   "cell_type": "code",
   "execution_count": null,
   "metadata": {},
   "outputs": [],
   "source": [
    "# Describe as years old\n",
    "train['YrsOld'] = train['Age'].round()\n",
    "test['YrsOld'] = test['Age'].round()\n",
    "\n",
    "# Plot distributions for train and test datasets\n",
    "fig, ax = plt.subplots(1,1)\n",
    "\n",
    "train['YrsOld'].value_counts().sort_index().plot.bar(\n",
    "    ax=ax, **{'color':'g','alpha':0.75, 'width':1,'label':'train','lw':0})\n",
    "\n",
    "test['YrsOld'].value_counts().sort_index().plot.bar(\n",
    "    ax=ax, **{'color':'m','alpha':0.75, 'width':1,'label':'test','lw':0})\n",
    "\n",
    "plt.scatter( x=train['YrsOld'].median(), y=50, color='g')\n",
    "plt.scatter( x=test['YrsOld'].median(), y=45, color='m')\n",
    "\n",
    "plt.xticks(list(range(0,100,10)))\n",
    "plt.legend()\n",
    "plt.show()"
   ]
  },
  {
   "cell_type": "markdown",
   "metadata": {},
   "source": [
    "\n",
    "<span style=\"font-size:14px;line-height:1.5\">\n",
    "We can see that ages in train and test datasets:\n",
    "\n",
    "- are not normally distributed\n",
    "- overlap, but show subtle differences: passengers in the test dataset are generally younger (median = 28 vs 27)\n",
    "\n",
    "We would expect children to be more likely to be saved than adults (as they're prioritised and because you can fit more children than adults in a lifeboat), but is this true?\n",
    "\n",
    "For this analysis, we're going to discover that rounding age to a single year gives noisy data - particularly when some ages have only one or two datapoints. It's therefore useful to round ages into age groups.\n",
    "</span>"
   ]
  },
  {
   "cell_type": "code",
   "execution_count": null,
   "metadata": {},
   "outputs": [],
   "source": [
    "def round_to_agegroup(x, interval=5):\n",
    "    return (np.floor(x / interval) * interval) + (interval/2)\n",
    "\n",
    "train['age_group'] = train['Age'].apply(round_to_agegroup)"
   ]
  },
  {
   "cell_type": "code",
   "execution_count": null,
   "metadata": {},
   "outputs": [],
   "source": [
    "fig, axs = plt.subplots(2,1, sharex=True, **{'figsize':(6,4)})\n",
    "\n",
    "train.groupby('YrsOld')['Survived'].mean().plot(ax=axs[0])\n",
    "train.groupby('age_group')['Survived'].mean().plot(ax=axs[0], **{'marker':'.'})\n",
    "axs[0].set_ylabel('Survived (p)')\n",
    "\n",
    "sns.lineplot(\n",
    "    data = pd.DataFrame(train.groupby(['Sex','age_group'])['class'].count()),\n",
    "    y = 'class',\n",
    "    x = 'age_group',\n",
    "    hue = 'Sex',\n",
    "    palette = 'Set2'\n",
    ")\n",
    "axs[1].set_ylabel('n')\n",
    "\n",
    "plt.show()"
   ]
  },
  {
   "cell_type": "markdown",
   "metadata": {},
   "source": [
    "<span style=\"font-size:14px;line-height:1.5\">\n",
    "The top plot above shows that very young children do indeed have the best survival rates, but this benifit is lost by the time we reach ages 10-15. This highlights how the definition of concepts (e.g. childhood) is culturally and temporally specific.\n",
    "\n",
    "Looking at the age profile for men and women also reveals that children were drawn from equal demographics, whereas from the mid-teens up until the sixties, the skew is for there to be more men. </span>\n",
    "\n",
    "### 1.2.2. Gender\n",
    "\n",
    "We might expect women to survive more often than men. Is this true? Also, this difference between genders is unlikely to be felt for children, and so does any effect of gender vary with age? "
   ]
  },
  {
   "cell_type": "code",
   "execution_count": null,
   "metadata": {},
   "outputs": [],
   "source": [
    "fig, axs = plt.subplots(1,2, **{'figsize':(8,2.5)})\n",
    "\n",
    "train.groupby('Sex')['Survived'].mean().plot.bar(ax=axs[0])\n",
    "\n",
    "sns.lineplot(\n",
    "    data = pd.DataFrame(train.groupby(['Sex','age_group'])['Survived'].mean()),\n",
    "    x = 'age_group',\n",
    "    y = 'Survived',\n",
    "    hue = 'Sex',\n",
    "    ax = axs[1]\n",
    ")\n",
    "\n",
    "plt.legend\n",
    "plt.show()"
   ]
  },
  {
   "cell_type": "markdown",
   "metadata": {},
   "source": [
    "<span style=\"font-size:14px;line-height:1.5\">\n",
    "We can see that gender has a huge effect on survival rates, and so we might do quite well at just guessing based on this (as is specified in the [dummy predictions](./../../data/titanic/gender_submission.csv)). However as we also predicted, there is a clear interaction between age and gender, with the gender of children under 5 less irrelevant and then age becoming more important in lowering the survival rates of men and not women (who's survival actually increases with age).</span>\n",
    "\n",
    "### 1.2.3. Class & Fare\n",
    "\n",
    "<span style=\"font-size:14px;line-height:1.5\">\n",
    "If access to lifeboats was affected by social status, we might also expect survival rates to vary with ticket class. The plots below confirm this, and also show an interaction with gender, where the biggest difference in survival between men and women was in second class.\n",
    "\n",
    "Note that the initial data contains 'Pclass' as a continuous variable, whereas in reality it's a categorical variable. (Someone in third class is not equivalent to three first class passengers). We therefore add a cateogrical variable for our investigation. This will also be important in future if we apply statistical models that need to know whether numeric values follow mathematical rules (which these categories don't).</span>"
   ]
  },
  {
   "cell_type": "code",
   "execution_count": null,
   "metadata": {},
   "outputs": [],
   "source": [
    "train['class'] = train['Pclass'].astype(\"category\")\n",
    "test['class'] = test['Pclass'].astype(\"category\")"
   ]
  },
  {
   "cell_type": "code",
   "execution_count": null,
   "metadata": {},
   "outputs": [],
   "source": [
    "fig, axs = plt.subplots(1,2, **{'figsize':(8,2)})\n",
    "\n",
    "train.groupby(by=['class'])['Survived'].mean().plot.bar(ax=axs[0])\n",
    "\n",
    "survival_by_class_gender = train.groupby(by=['Sex','class'])['Survived'].mean()\n",
    "survival_by_class_gender.plot.bar(color=['gold','silver','k'], ax=axs[1])\n",
    "\n",
    "plt.show()"
   ]
  },
  {
   "cell_type": "markdown",
   "metadata": {},
   "source": [
    "<span style=\"font-size:14px;line-height:1.5\">\n",
    "We might also expect some correlation between class of ticket and fare. We can show this using the correlation matrix between variables. Again to understand about the generality of the test and train datasets, we'll look at both sources that are available.</span>"
   ]
  },
  {
   "cell_type": "code",
   "execution_count": null,
   "metadata": {},
   "outputs": [],
   "source": [
    "fig = plt.figure(constrained_layout=True)\n",
    "gs = fig.add_gridspec(2,2)\n",
    "\n",
    "ax_1 = sns.stripplot(\n",
    "    data=train, \n",
    "    x=\"Fare\", \n",
    "    y=\"class\", \n",
    "    hue=\"Sex\", \n",
    "    jitter = True,\n",
    "    size = 2,\n",
    "    palette = 'Set2',\n",
    "    alpha = 0.5,\n",
    "    dodge=True,\n",
    "    ax = fig.add_subplot(gs[0,:])\n",
    "    )\n",
    "\n",
    "\n",
    "ax_2 = sns.violinplot(\n",
    "    data=train, \n",
    "    x=\"Fare\", \n",
    "    y=\"class\", \n",
    "    hue=\"Sex\", \n",
    "    split = True,\n",
    "    palette = 'Set2',\n",
    "    legend=False,\n",
    "    ax = fig.add_subplot(gs[1,:])\n",
    "    )\n",
    "\n",
    "\n",
    "ax_2.set_xlim(ax_1.get_xlim())\n",
    "\n",
    "plt.show()"
   ]
  },
  {
   "cell_type": "markdown",
   "metadata": {},
   "source": [
    "<span style=\"font-size:14px;line-height:1.5\">\n",
    "So if class improves your chance of survival, presumably a more expensive ticket is associated with survival too? Let's find out. \n",
    "\n",
    "Here, we're going to repeat the grouping approach used for age groups, but here, we're going to use logarithmically spaced bins to account for the price structure being different.</span>"
   ]
  },
  {
   "cell_type": "code",
   "execution_count": null,
   "metadata": {},
   "outputs": [],
   "source": [
    "def get_fare_group(x, log_interval=2):\n",
    "    return log_interval ** np.floor(np.log(x+0.1) / np.log(log_interval))\n",
    "\n",
    "train['fare_group'] = train['Fare'].apply(get_fare_group)"
   ]
  },
  {
   "cell_type": "code",
   "execution_count": null,
   "metadata": {},
   "outputs": [],
   "source": [
    "fare_group_samplesize = train.groupby(['fare_group','Sex'])['Survived'].count()\n",
    "fare_group_survival = train.groupby(['fare_group','Sex'])['Survived'].mean()\n",
    "\n",
    "fig = plt.figure()\n",
    "gs = fig.add_gridspec(2,4)\n",
    "\n",
    "ax_0 = sns.lineplot(\n",
    "    data = pd.DataFrame(fare_group_survival).reset_index(),\n",
    "    x = 'fare_group',\n",
    "    y = 'Survived',\n",
    "    hue = 'Sex',\n",
    "    palette = 'Set2',\n",
    "    ax = fig.add_subplot(gs[0,0:3])\n",
    ")\n",
    "\n",
    "ax_0.set_xscale('log')\n",
    "\n",
    "ax_1 = sns.barplot(\n",
    "    data = pd.DataFrame(fare_group_samplesize).reset_index(),\n",
    "    x = 'fare_group',\n",
    "    y = 'Survived',\n",
    "    hue = 'Sex',\n",
    "    palette = 'Set2',\n",
    "    ax = fig.add_subplot(gs[1,0:3])\n",
    ")\n",
    "\n",
    "ax_1.set_ylabel('Passengers (n)')\n",
    "# ax_1._legend.set_visible(False)\n",
    "\n",
    "# Plot class of passengers by gender\n",
    "count_by_class_gender = (\n",
    "    pd.DataFrame(\n",
    "        train[['class','Sex','Fare']]\n",
    "        .groupby(['Sex','class'])\n",
    "        .count()\n",
    "    )\n",
    "    .reset_index()\n",
    "    .sort_values(by='Sex')\n",
    "    .rename({'Fare':'N'}, axis=1)\n",
    ")\n",
    "\n",
    "ax_2 = sns.barplot(\n",
    "    data = count_by_class_gender,\n",
    "    x = 'class',\n",
    "    y = 'N',\n",
    "    hue = 'Sex',\n",
    "    palette = 'Set2_r',\n",
    "    ax = fig.add_subplot(gs[:,3])\n",
    ")\n",
    "\n",
    "sns.despine(ax=ax_0)\n",
    "sns.despine(ax=ax_1)\n",
    "sns.despine(ax=ax_2)\n",
    "\n",
    "# ax_1.legend().remove()\n",
    "# ax_2.legend().remove()\n",
    "plt.show()"
   ]
  },
  {
   "cell_type": "markdown",
   "metadata": {},
   "source": [
    "<span style=\"font-size:14px;line-height:1.5\">\n",
    "Yes, paying more increases your chances of survival - although only up to a point if you're a man. The demographics of fares also shows an interesting difference - the fare for a woman's ticket is on average more than a man's.  That makes sense if you consider that the gender ratio in first and second class is closer to parity, whereas a larger number of men in 3rd class are the driver for the lower fares. </span>\n",
    "\n",
    "### 1.2.4. Cabin\n",
    "\n",
    "<span style=\"font-size:14px;line-height:1.5\">\n",
    "Cabin is one of those variables that is difficult to manage; one generally expects there to be some relationship between cabin and other variables such as fare, class, or indeed to be indicative of connections between passengers. However the specific cabin arrangement is specific to the ship, and many datapoints are missing. Here's what we can glean from the available data:\n",
    "\n",
    "\n",
    "* 1st class: Sections A-E\n",
    "* 2nd class: Sections D-F\n",
    "* 3rd class: Sections E-G\n",
    "\n",
    "Cabin data is missing primarily for 2nd and 3rd class passengers (92 and 98% respectively, vs. 21% of 1st Class passengers). </span>"
   ]
  },
  {
   "cell_type": "code",
   "execution_count": null,
   "metadata": {},
   "outputs": [],
   "source": [
    "columns = ['Cabin','Fare','class']\n",
    "all_data = pd.concat([train[columns], test[columns]])\n",
    "\n",
    "# for ticket_class, tc_data in all_data.dropna().groupby('class'):\n",
    "#     print(f\"Class = {ticket_class}\")\n",
    "#     print(tc_data.Cabin.sort_values().to_list())\n",
    "\n",
    "print (\n",
    "    all_data.groupby('class')\n",
    "    .count()\n",
    "    .assign(proportion_missing = lambda x: 1 - (x.Cabin / x.Fare))\n",
    ")"
   ]
  },
  {
   "cell_type": "markdown",
   "metadata": {},
   "source": [
    "<span style=\"font-size:14px;line-height:1.5\">\n",
    "It's thus difficult to see where cabin might fit within a statistical model of survival, given the missing data; however that doesn't mean it might not be useful for some ML systems\n",
    "</span>"
   ]
  },
  {
   "cell_type": "markdown",
   "metadata": {},
   "source": [
    "### 1.2.5. Names\n",
    "<span style=\"font-size:14px;line-height:1.5\">\n",
    "Dealing with text data is always a pain in the ass, as the format of the data is so variable. Here are some examples of the formats in the Name column:\n",
    "</span><br></br>\n",
    "\n",
    "| Format | Example |\n",
    "| --- | --- |\n",
    "| Surname, Title. FirstName MiddleName | Backstrom, Mr. Karl Alfred |\n",
    "| Surname, Title. FirstName | Ayoub, Miss. Banoura |\n",
    "| Surname, Title. HusbandsFirstName, HusbandsMiddleName  (FirstName, MiddleName, MaidenName) | Backstrom, Mrs. Karl Alfred (Maria Mathilda Gustafsson) |\n",
    "| Surname, Title. HusbandsFirstName, HusbandsMiddleName  (FirstName, MaidenName) | Baclini, Mrs. Solomon (Latifa Qurban) |\n",
    "| Surname, Title. (FirstName, MaidenName) | Barbara, Mrs. (Catherine David) |\n",
    "\n",
    "There are also inconsistencies in spelling, for example between 'Ms' and 'Miss'\n",
    "\n",
    "\n",
    "\n",
    "#### What useful information can we get from passenger names?\n",
    "<span style=\"font-size:14px;line-height:1.5\">\n",
    "Titles gives some clues as to the ages of passengers that may be helpful in later imputation of missing data. For example:\n",
    "* \"Master\" - a young boy (between ages of 0 and 15 [the oldest case, in the test dataset])\n",
    "* \"Miss\" - a young woman (although Miss may continued to be used throughout life due to its association with marriage, as indicated in the extended age range of 0-63 years)\n",
    "\n",
    "The use of the husbands name for some women also indicates the marriage relationship, which may be of interest if, for example, being married is likely to enhance a woman's chance of survival or decrease a man's chance of survival.\n",
    "</span>"
   ]
  },
  {
   "cell_type": "code",
   "execution_count": 83,
   "metadata": {},
   "outputs": [],
   "source": [
    "# Let's start by extracting the consistent fields - everyone has a surname and title (I think... though there's no type checking)\n",
    "train['Surname'] = train['Name'].str.split(pat='[,.]', n=2, expand=True)[0]\n",
    "train['Title'] = train['Name'].str.split(pat='[,.]', n=2, expand=True)[1]\n",
    "\n",
    "test['Surname'] = test['Name'].str.split(pat='[,.]', n=2, expand=True)[0]\n",
    "test['Title'] = test['Name'].str.split(pat='[,.]', n=2, expand=True)[1]"
   ]
  },
  {
   "cell_type": "code",
   "execution_count": 91,
   "metadata": {},
   "outputs": [],
   "source": [
    "# Now, let's replace the various title spellings an\n",
    "inconsist_titles = {'Ms':'Miss','Mlle':'Miss','Mra':'Mrs','Mme':'Mrs','Don':'Mr','Dona':'Mrs'}\n",
    "\n",
    "def correct_inconsistencies(df, str_map:dict):\n",
    "    for key, value in str_map.items():\n",
    "        df['Title'] = df['Title'].str.replace(key,value)\n",
    "    \n",
    "    return df\n",
    "\n",
    "train = correct_inconsistencies(train, inconsist_titles)\n",
    "test = correct_inconsistencies(test, inconsist_titles)"
   ]
  },
  {
   "cell_type": "code",
   "execution_count": 88,
   "metadata": {},
   "outputs": [
    {
     "data": {
      "text/plain": [
       "professional_title\n",
       "False    0.386025\n",
       "True     0.277778\n",
       "Name: Survived, dtype: float64"
      ]
     },
     "execution_count": 88,
     "metadata": {},
     "output_type": "execute_result"
    }
   ],
   "source": [
    "# There are a few people with professional titles\n",
    "professional_titles = ['Dr','Rev','Major','Col','Capt']\n",
    "\n",
    "train['professional_title'] = train['Title'].str.contains('|'.join(professional_titles))\n",
    "test['professional_title'] = test['Title'].str.contains('|'.join(professional_titles))\n",
    "\n",
    "# Those with professional titles were less likely to survive\n",
    "train.groupby('professional_title')['Survived'].mean()"
   ]
  },
  {
   "cell_type": "code",
   "execution_count": 89,
   "metadata": {},
   "outputs": [
    {
     "data": {
      "text/plain": [
       "nob_title\n",
       "False    0.381757\n",
       "True     1.000000\n",
       "Name: Survived, dtype: float64"
      ]
     },
     "execution_count": 89,
     "metadata": {},
     "output_type": "execute_result"
    }
   ],
   "source": [
    "# There are several people with aristocratic titles\n",
    "nob_title = ['Sir','Countess','Lady', 'Jonhkeer']\n",
    "\n",
    "train['nob_title'] = train['Title'].str.contains('|'.join(nob_title))\n",
    "test['nob_title'] = test['Title'].str.contains('|'.join(nob_title))\n",
    "\n",
    "# They all survived... \n",
    "train.groupby('nob_title')['Survived'].mean()"
   ]
  },
  {
   "cell_type": "code",
   "execution_count": 92,
   "metadata": {},
   "outputs": [
    {
     "data": {
      "text/plain": [
       " Mr        240\n",
       " Miss       79\n",
       " Mrs        73\n",
       " Master     21\n",
       " Col         2\n",
       " Rev         2\n",
       " Dr          1\n",
       "Name: Title, dtype: int64"
      ]
     },
     "execution_count": 92,
     "metadata": {},
     "output_type": "execute_result"
    }
   ],
   "source": [
    "test['Title'].value_counts()"
   ]
  },
  {
   "cell_type": "code",
   "execution_count": 33,
   "metadata": {},
   "outputs": [
    {
     "data": {
      "text/plain": [
       "['Petroff, Mr. Pastcho (\"Pentcho\")',\n",
       " 'Andersson, Mr. August Edvard (\"Wennerstrom\")',\n",
       " 'Navratil, Mr. Michel (\"Louis M Hoffman\")',\n",
       " 'Romaine, Mr. Charles Hallace (\"Mr C Rolmane\")',\n",
       " 'Lovell, Mr. John Hall (\"Henry\")',\n",
       " 'Pickard, Mr. Berk (Berk Trembisky)',\n",
       " 'Bradley, Mr. George (\"George Arthur Brayton\")',\n",
       " 'Leeni, Mr. Fahim (\"Philip Zenni\")',\n",
       " 'Flynn, Mr. John Irwin (\"Irving\")',\n",
       " 'Duff Gordon, Sir. Cosmo Edmund (\"Mr Morgan\")',\n",
       " 'Homer, Mr. Harry (\"Mr E Haven\")',\n",
       " 'Morley, Mr. Henry Samuel (\"Mr Henry Marshall\")',\n",
       " 'Moubarek, Master. Halim Gonios (\"William George\")',\n",
       " 'Harmer, Mr. Abraham (David Lishin)']"
      ]
     },
     "execution_count": 33,
     "metadata": {},
     "output_type": "execute_result"
    }
   ],
   "source": [
    "bracket_idx = train[train.Name.str.contains(r'\\([^)]*\\)')].index\n",
    "bracket_names = train.loc[bracket_idx]\n",
    "\n",
    "male_bracket_idx = bracket_names[bracket_names.Sex == 'male'].index\n",
    "male_bracket_names = bracket_names.loc[male_bracket_idx]\n",
    "\n",
    "male_bracket_names.Name.to_list()\n"
   ]
  },
  {
   "cell_type": "markdown",
   "metadata": {},
   "source": [
    "### 1.2.5. Siblings and Spouses (sibsp)\n",
    "\n",
    "Family relations defined as:\n",
    "* Sibling = brother, sister, stepbrother, stepsister\n",
    "* Spouse = husband, wife (mistresses and fiancés were ignored)\n"
   ]
  },
  {
   "cell_type": "code",
   "execution_count": null,
   "metadata": {},
   "outputs": [],
   "source": []
  },
  {
   "cell_type": "markdown",
   "metadata": {},
   "source": [
    "### 1.2.6. Parents and children (Parch)\n",
    "\n",
    "Family relations defined as:\n",
    "* Parent = mother, father\n",
    "* Child = daughter, son, stepdaughter, stepson\n",
    "\n",
    "Some children travelled only with a nanny, therefore parch=0 for them."
   ]
  }
 ],
 "metadata": {
  "kernelspec": {
   "display_name": "Python 3.8.3 ('env': venv)",
   "language": "python",
   "name": "python3"
  },
  "language_info": {
   "codemirror_mode": {
    "name": "ipython",
    "version": 3
   },
   "file_extension": ".py",
   "mimetype": "text/x-python",
   "name": "python",
   "nbconvert_exporter": "python",
   "pygments_lexer": "ipython3",
   "version": "3.8.3"
  },
  "orig_nbformat": 4,
  "vscode": {
   "interpreter": {
    "hash": "9b730ead757b5d9b842526340519d98f65a574c00873e9637238694ddd8f9228"
   }
  }
 },
 "nbformat": 4,
 "nbformat_minor": 2
}
