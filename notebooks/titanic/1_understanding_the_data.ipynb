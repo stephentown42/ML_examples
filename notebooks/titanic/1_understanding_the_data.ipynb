{
 "cells": [
  {
   "attachments": {},
   "cell_type": "markdown",
   "metadata": {},
   "source": [
    "# 1. Understanding the data\n",
    "\n",
    "<span style=\"font-size:14px;font-family: Arial;line-height:1.5\">\n",
    "As always, the first step in any data analysis pipeline is to understand what you're looking at. The strategy one uses to look at the data can depend on where you're coming from. If you're a domain expert, you may already have some intutitions about what to expect; even the average person will have some expectations about the behavior of different measurements. We should be aware that these expectations will shape how we interpret any data we receive, but also remember that such expectations are built on years of experience that can help us understand what we're looking at in more detail.\n",
    "</p><p>\n",
    "Often through investigation, the stories of the data become clearer. This may be important when designing models, understanding model outputs and communicating with others.\n",
    "\n",
    "</p></span>\n",
    "\n",
    "## 1.1. General Background\n",
    "\n",
    "<span style=\"font-size:14px;font-family: Arial;line-height:1.5\">\n",
    "It is important to appreciate that this data was obviously not collected in a well-controlled experiment. From a scientific perspective, this is important in shaping how we think about features and interpret missing data (chapter 2).\n",
    "\n",
    "Let's start by loading the data and seeing what we've got. We know that each row in the table represents one passenger, but how many passengers are in test and train datasets?\n",
    "</span>"
   ]
  },
  {
   "cell_type": "code",
   "execution_count": 1,
   "metadata": {},
   "outputs": [
    {
     "name": "stdout",
     "output_type": "stream",
     "text": [
      "Training data: 891 passengers\n",
      "Testing data: 418 passengers\n"
     ]
    }
   ],
   "source": [
    "from pathlib import Path\n",
    "import pandas as pd\n",
    "\n",
    "data_dir = Path.cwd().parent.parent / 'data/titanic'\n",
    "\n",
    "train = pd.read_csv(data_dir / 'train.csv')\n",
    "print(f\"Training data: {train.shape[0]} passengers\")       \n",
    "\n",
    "test = pd.read_csv(data_dir / 'test.csv')\n",
    "print(f\"Testing data: {test.shape[0]} passengers\")       "
   ]
  },
  {
   "attachments": {},
   "cell_type": "markdown",
   "metadata": {},
   "source": [
    "<span style=\"font-size:14px;line-height:1.5\">\n",
    "Let's also see what features are available in the data (this can also be found on the Kaggle Website). If we were looking at an undocumented dataset, this step would be important also in confirming if there were features in the training dataset that were not available in the test set. Here, the only difference is the 'Survived' column that contains the target labels for prediction; however in more challenging datasets, we may find features that are absent from the test set. \n",
    "</span>"
   ]
  },
  {
   "cell_type": "code",
   "execution_count": 2,
   "metadata": {},
   "outputs": [
    {
     "data": {
      "text/html": [
       "<div>\n",
       "<style scoped>\n",
       "    .dataframe tbody tr th:only-of-type {\n",
       "        vertical-align: middle;\n",
       "    }\n",
       "\n",
       "    .dataframe tbody tr th {\n",
       "        vertical-align: top;\n",
       "    }\n",
       "\n",
       "    .dataframe thead th {\n",
       "        text-align: right;\n",
       "    }\n",
       "</style>\n",
       "<table border=\"1\" class=\"dataframe\">\n",
       "  <thead>\n",
       "    <tr style=\"text-align: right;\">\n",
       "      <th></th>\n",
       "      <th>PassengerId</th>\n",
       "      <th>Survived</th>\n",
       "      <th>Pclass</th>\n",
       "      <th>Name</th>\n",
       "      <th>Sex</th>\n",
       "      <th>Age</th>\n",
       "      <th>SibSp</th>\n",
       "      <th>Parch</th>\n",
       "      <th>Ticket</th>\n",
       "      <th>Fare</th>\n",
       "      <th>Cabin</th>\n",
       "      <th>Embarked</th>\n",
       "    </tr>\n",
       "  </thead>\n",
       "  <tbody>\n",
       "    <tr>\n",
       "      <th>0</th>\n",
       "      <td>1</td>\n",
       "      <td>0</td>\n",
       "      <td>3</td>\n",
       "      <td>Braund, Mr. Owen Harris</td>\n",
       "      <td>male</td>\n",
       "      <td>22.0</td>\n",
       "      <td>1</td>\n",
       "      <td>0</td>\n",
       "      <td>A/5 21171</td>\n",
       "      <td>7.2500</td>\n",
       "      <td>NaN</td>\n",
       "      <td>S</td>\n",
       "    </tr>\n",
       "    <tr>\n",
       "      <th>1</th>\n",
       "      <td>2</td>\n",
       "      <td>1</td>\n",
       "      <td>1</td>\n",
       "      <td>Cumings, Mrs. John Bradley (Florence Briggs Th...</td>\n",
       "      <td>female</td>\n",
       "      <td>38.0</td>\n",
       "      <td>1</td>\n",
       "      <td>0</td>\n",
       "      <td>PC 17599</td>\n",
       "      <td>71.2833</td>\n",
       "      <td>C85</td>\n",
       "      <td>C</td>\n",
       "    </tr>\n",
       "    <tr>\n",
       "      <th>2</th>\n",
       "      <td>3</td>\n",
       "      <td>1</td>\n",
       "      <td>3</td>\n",
       "      <td>Heikkinen, Miss. Laina</td>\n",
       "      <td>female</td>\n",
       "      <td>26.0</td>\n",
       "      <td>0</td>\n",
       "      <td>0</td>\n",
       "      <td>STON/O2. 3101282</td>\n",
       "      <td>7.9250</td>\n",
       "      <td>NaN</td>\n",
       "      <td>S</td>\n",
       "    </tr>\n",
       "  </tbody>\n",
       "</table>\n",
       "</div>"
      ],
      "text/plain": [
       "   PassengerId  Survived  Pclass  \\\n",
       "0            1         0       3   \n",
       "1            2         1       1   \n",
       "2            3         1       3   \n",
       "\n",
       "                                                Name     Sex   Age  SibSp  \\\n",
       "0                            Braund, Mr. Owen Harris    male  22.0      1   \n",
       "1  Cumings, Mrs. John Bradley (Florence Briggs Th...  female  38.0      1   \n",
       "2                             Heikkinen, Miss. Laina  female  26.0      0   \n",
       "\n",
       "   Parch            Ticket     Fare Cabin Embarked  \n",
       "0      0         A/5 21171   7.2500   NaN        S  \n",
       "1      0          PC 17599  71.2833   C85        C  \n",
       "2      0  STON/O2. 3101282   7.9250   NaN        S  "
      ]
     },
     "execution_count": 2,
     "metadata": {},
     "output_type": "execute_result"
    }
   ],
   "source": [
    "train.head(3)"
   ]
  },
  {
   "cell_type": "code",
   "execution_count": 3,
   "metadata": {},
   "outputs": [
    {
     "name": "stdout",
     "output_type": "stream",
     "text": [
      "Columns in both test and train data: ['PassengerId', 'Pclass', 'Name', 'Sex', 'Age', 'SibSp', 'Parch', 'Ticket', 'Fare', 'Cabin', 'Embarked']\n",
      "Columns in only training data: ['Survived']\n"
     ]
    }
   ],
   "source": [
    "print(f\"Columns in both test and train data: {[x for x in train.columns if x in test.columns]}\")\n",
    "print(f\"Columns in only training data: {[x for x in train.columns if x not in test.columns]}\")"
   ]
  },
  {
   "attachments": {},
   "cell_type": "markdown",
   "metadata": {},
   "source": [
    "<span style=\"font-size:14px;line-height:1.5\">\n",
    "We could use methods such as <b>describe()</b> or the pandas profiling library to generate reports on the statistics of different columns. These are useful tools that we'll take \n",
    "advantage of in later chapters; however we already know that we're going to look through the data in detail (this isn't a 30 minute coding challenge, or 12 minute YouTube video), so we can skip these intermediate steps and get straight into visualizing the data.\n",
    "</span><br></br>\n",
    "\n",
    "\n",
    "## 1.2. Main Effects: Thinking about individual features\n",
    "\n",
    "### 1.2.1. Age\n",
    "\n",
    "\n",
    "<span style=\"font-size:14px;line-height:1.5\">\n",
    "What background information do we have? We know that ages can't be negative and should probably be in the range of 0 to 150, if recorded in years. From Kaggle, we also have a note that:</span>\n",
    "<br></br>\n",
    "<span style=\"font-size:14px;font-weight:200;line-height:1.5;margin-left:10px\">\"Age is fractional if less than 1. If the age is estimated, is it in the form of xx.5\"</span>\n",
    "<br></br>\n",
    "<span style=\"font-size:14px;line-height:1.5\">\n",
    "Let's start by using the <b>describe</b> function to get the basic details about Age:\n",
    "</span>"
   ]
  },
  {
   "cell_type": "code",
   "execution_count": 4,
   "metadata": {},
   "outputs": [
    {
     "data": {
      "text/plain": [
       "count    714.000000\n",
       "mean      29.699118\n",
       "std       14.526497\n",
       "min        0.420000\n",
       "50%       28.000000\n",
       "max       80.000000\n",
       "Name: Age, dtype: float64"
      ]
     },
     "execution_count": 4,
     "metadata": {},
     "output_type": "execute_result"
    }
   ],
   "source": [
    "train['Age'].describe(percentiles=[0.5])"
   ]
  },
  {
   "attachments": {},
   "cell_type": "markdown",
   "metadata": {},
   "source": [
    "<span style=\"font-size:14px;line-height:1.5\">\n",
    "<p>\n",
    "We can see the min (0.42) and max values (80.0) are sensible, but the count (714/891) shows that there are many passengers for which age data is missing. Missing data is important, and Chapter 2 goes into more detail on how we might manage such situations. \n",
    "</p><p>\n",
    "In the case of Age, we can contrast missing data with ages that are observed or estimated (see the note from Kaggle above). The fact that some ages have to be estimated may be important - for example, if the passenger didn't survive and thus couldn't provide the information. The same may be true for missing data and such clues are present throughout the titanic dataset to help us build a more complete picture of the ship and data collection process. \n",
    "</p><p>\n",
    "Let's therefore create a column that indicates whether Age data is 'observed', 'estimated' or 'missing' by using <b>apply()</b> to implement a custom function. We can use the <b>value_counts()</b> method to double check that the results look sensible.</p></span>"
   ]
  },
  {
   "cell_type": "code",
   "execution_count": 5,
   "metadata": {},
   "outputs": [
    {
     "data": {
      "text/plain": [
       "observed     696\n",
       "missing      177\n",
       "estimated     18\n",
       "Name: age_measure, dtype: int64"
      ]
     },
     "execution_count": 5,
     "metadata": {},
     "output_type": "execute_result"
    }
   ],
   "source": [
    "import numpy as np\n",
    "\n",
    "def get_age_measurement_type(x):            # there may be nicer ways of writing this function but it does the job\n",
    "    if np.isnan(x):\n",
    "        return 'missing'\n",
    "    else:\n",
    "        if (x - np.floor(x)) == 0.5:\n",
    "            return 'estimated'        \n",
    "    return 'observed'\n",
    "\n",
    "train['age_measure'] = train['Age'].apply(get_age_measurement_type)\n",
    "test['age_measure'] = test['Age'].apply(get_age_measurement_type)\n",
    "\n",
    "train['age_measure'].value_counts()"
   ]
  },
  {
   "attachments": {},
   "cell_type": "markdown",
   "metadata": {},
   "source": [
    "<span style=\"font-size:14px;font-family: Arial;line-height:1.5\">\n",
    "We can then use the groupby function to ask if survival rates differed for each measurement type:\n",
    "</span>"
   ]
  },
  {
   "cell_type": "code",
   "execution_count": 6,
   "metadata": {},
   "outputs": [
    {
     "data": {
      "text/plain": [
       "age_measure\n",
       "estimated    0.055556\n",
       "missing      0.293785\n",
       "observed     0.415230\n",
       "Name: Survived, dtype: float64"
      ]
     },
     "execution_count": 6,
     "metadata": {},
     "output_type": "execute_result"
    }
   ],
   "source": [
    "train.groupby('age_measure')['Survived'].mean()     # returns proportion survived (0=none, 1=all)"
   ]
  },
  {
   "attachments": {},
   "cell_type": "markdown",
   "metadata": {},
   "source": [
    "<span style=\"font-size:14px;line-height:1.5\">\n",
    "<p>The intuitions we had about estimates being made when passengers perished seems to be accurate, and a similar, although weaker pattern is true for missing data. We might also have expectations about survival depending on age, and particularly that children should have been prioritised in the evacuation of the ship. Is this true?\n",
    "</p><p>\n",
    "To answer this, we're going to collect data into age groups, which are commonly used for such data. This collection, or binning of data isn't always a good idea, because it's removing ifnormation. We use it here to show the trends in the data for us to see as humans, while averaging out some of the noise in age measurements. In later chapters, we will build models using the original input data as ML solutions don't need as much help as we do...\n",
    "</p><span>"
   ]
  },
  {
   "cell_type": "code",
   "execution_count": 7,
   "metadata": {},
   "outputs": [],
   "source": [
    "def round_to_agegroup(x, interval=5):\n",
    "    return (np.floor(x / interval) * interval) + (interval/2)\n",
    "\n",
    "train['age_group'] = train['Age'].apply(round_to_agegroup)\n",
    "test['age_group'] = test['Age'].apply(round_to_agegroup)"
   ]
  },
  {
   "cell_type": "code",
   "execution_count": 8,
   "metadata": {},
   "outputs": [
    {
     "data": {
      "image/png": "[encoded data removed]",
      "text/plain": [
       "<Figure size 600x400 with 2 Axes>"
      ]
     },
     "metadata": {},
     "output_type": "display_data"
    }
   ],
   "source": [
    "%matplotlib inline\n",
    "\n",
    "import matplotlib.pyplot as plt\n",
    "plt.rcParams.update({'font.size': 8})\n",
    "\n",
    "# Plot survival rate and number of passengers for each age group\n",
    "fig, axs = plt.subplots(2,1, **{'figsize':(6,4)})\n",
    "\n",
    "train.groupby('age_group')['Survived'].mean().plot(ax=axs[0], **{'marker':'.'})\n",
    "\n",
    "train['age_group'].value_counts().sort_index().plot.bar(\n",
    "    ax=axs[1], **{'width':1,'label':'train','lw':0})\n",
    "\n",
    "axs[0].set_ylabel('Proportion Survived')\n",
    "axs[1].set_ylabel('Passengers (n)')\n",
    "\n",
    "plt.legend()\n",
    "plt.show()"
   ]
  },
  {
   "attachments": {},
   "cell_type": "markdown",
   "metadata": {},
   "source": [
    "<span style=\"font-size:14px;line-height:1.5\">\n",
    "The top plot above confirms our theory that children younger then 5 tended to be more likely to survive. In the bottom plot, we drew the number of passengers in each group; this indicates that passenger age may not be normally distributed, with a pronounced absence of children between 5 and 15 years old on the ship.\n",
    "<p></p>\n",
    "The probability distribution of a feature is very important as it determines how we model that feature and any tranformations we might use before model fitting. \n",
    "\n",
    "One way to advance our knowledge is to use a statistical measure that asks whether Age data follows a normal distribution. Below we'll use the <b>Kolmogorov-Smirnov test</b> to compare the empirical distribution function of the test data with the cumulative distribution function of a reference distribution - in this case, a normal distribution. The test returns a statistic that tends to zero when the observed distribution matches the reference, or increases towards 1 (not sure if this is the upper bound though) as the distributions differ. One can also use a p-value to decided how likely the two distributions are to match.\n",
    "</span>"
   ]
  },
  {
   "cell_type": "code",
   "execution_count": 9,
   "metadata": {},
   "outputs": [
    {
     "data": {
      "text/plain": [
       "KstestResult(statistic=0.9650366565902186, pvalue=0.0)"
      ]
     },
     "execution_count": 9,
     "metadata": {},
     "output_type": "execute_result"
    }
   ],
   "source": [
    "from scipy.stats import kstest\n",
    "kstest(train['Age'].dropna().to_numpy(), 'norm')"
   ]
  },
  {
   "attachments": {},
   "cell_type": "markdown",
   "metadata": {},
   "source": [
    "<span style=\"font-size:14px;line-height:1.5\">We see that the KS statistic is close to one, and the p-value is close to zero, indicating that Age data is very unlikely to follow a normal (Gaussian) distribution. This shouldn't be surprising as we know that ages below zero are impossible; more generally, we might ask why age should follow a guassian distribution. We won't answer that question here, but it's worth thinking about critically (e.g. patterns of infant mortality, life expectancy, population growth etc.) rather than assuming everything is Gaussian. </span>"
   ]
  },
  {
   "attachments": {},
   "cell_type": "markdown",
   "metadata": {},
   "source": [
    "### 1.2.2. Gender\n",
    "<span style=\"font-size:14px;line-height:1.5\">\n",
    "Let's get a quick breakdown of genders by first printing the number of missing values (shouldn't be any) and then creating a table that shows how many men and women there are, how many survived, and what the survival rates were as proportions\n",
    "</span>"
   ]
  },
  {
   "cell_type": "code",
   "execution_count": 10,
   "metadata": {},
   "outputs": [
    {
     "name": "stdout",
     "output_type": "stream",
     "text": [
      "There are 0 missing values\n"
     ]
    },
    {
     "data": {
      "text/html": [
       "<div>\n",
       "<style scoped>\n",
       "    .dataframe tbody tr th:only-of-type {\n",
       "        vertical-align: middle;\n",
       "    }\n",
       "\n",
       "    .dataframe tbody tr th {\n",
       "        vertical-align: top;\n",
       "    }\n",
       "\n",
       "    .dataframe thead tr th {\n",
       "        text-align: left;\n",
       "    }\n",
       "\n",
       "    .dataframe thead tr:last-of-type th {\n",
       "        text-align: right;\n",
       "    }\n",
       "</style>\n",
       "<table border=\"1\" class=\"dataframe\">\n",
       "  <thead>\n",
       "    <tr>\n",
       "      <th></th>\n",
       "      <th colspan=\"3\" halign=\"left\">Survived</th>\n",
       "    </tr>\n",
       "    <tr>\n",
       "      <th></th>\n",
       "      <th>total</th>\n",
       "      <th>n_survived</th>\n",
       "      <th>proportion</th>\n",
       "    </tr>\n",
       "    <tr>\n",
       "      <th>Sex</th>\n",
       "      <th></th>\n",
       "      <th></th>\n",
       "      <th></th>\n",
       "    </tr>\n",
       "  </thead>\n",
       "  <tbody>\n",
       "    <tr>\n",
       "      <th>female</th>\n",
       "      <td>314</td>\n",
       "      <td>233</td>\n",
       "      <td>0.742038</td>\n",
       "    </tr>\n",
       "    <tr>\n",
       "      <th>male</th>\n",
       "      <td>577</td>\n",
       "      <td>109</td>\n",
       "      <td>0.188908</td>\n",
       "    </tr>\n",
       "  </tbody>\n",
       "</table>\n",
       "</div>"
      ],
      "text/plain": [
       "       Survived                      \n",
       "          total n_survived proportion\n",
       "Sex                                  \n",
       "female      314        233   0.742038\n",
       "male        577        109   0.188908"
      ]
     },
     "execution_count": 10,
     "metadata": {},
     "output_type": "execute_result"
    }
   ],
   "source": [
    "print(f\"There are {sum(train['Sex'].isna())} missing values\")\n",
    "(\n",
    "    train.groupby('Sex')\n",
    "    .agg({'Survived':['count', 'sum', 'mean']})\n",
    "    .rename(columns={'count':'total','sum':'n_survived','mean':'proportion'})\n",
    ")"
   ]
  },
  {
   "attachments": {},
   "cell_type": "markdown",
   "metadata": {},
   "source": [
    "<span style=\"font-size:14px;line-height:1.5\">\n",
    "We can see that gender has a huge effect on survival rates, which makes sense given the evacuation procedures in place at the time (women given precedence over men). If we were to just use a single factor for predicting survival, we might do quite well at just guessing based on gender - as is specified in the dummy predictions that Kaggle provides. We will discuss later in Section 1.3. how these effects of gender play interact with other variables, particularly when thinking about gender and age, as well as gender and class.</span>\n",
    "\n",
    "### 1.2.3. Class\n",
    "<span style=\"font-size:14px;line-height:1.5\">\n",
    "The Pclass variable indicates the class of ticket, provided as a numeric value (1 to 3) with no missing data. Sadly, one's ability to pay for a higher class ticket increased the chances of survival.</span>"
   ]
  },
  {
   "cell_type": "code",
   "execution_count": 11,
   "metadata": {},
   "outputs": [
    {
     "name": "stdout",
     "output_type": "stream",
     "text": [
      "There are 0 missing values\n"
     ]
    },
    {
     "data": {
      "text/html": [
       "<div>\n",
       "<style scoped>\n",
       "    .dataframe tbody tr th:only-of-type {\n",
       "        vertical-align: middle;\n",
       "    }\n",
       "\n",
       "    .dataframe tbody tr th {\n",
       "        vertical-align: top;\n",
       "    }\n",
       "\n",
       "    .dataframe thead tr th {\n",
       "        text-align: left;\n",
       "    }\n",
       "\n",
       "    .dataframe thead tr:last-of-type th {\n",
       "        text-align: right;\n",
       "    }\n",
       "</style>\n",
       "<table border=\"1\" class=\"dataframe\">\n",
       "  <thead>\n",
       "    <tr>\n",
       "      <th></th>\n",
       "      <th colspan=\"3\" halign=\"left\">Survived</th>\n",
       "    </tr>\n",
       "    <tr>\n",
       "      <th></th>\n",
       "      <th>total</th>\n",
       "      <th>n_survived</th>\n",
       "      <th>proportion</th>\n",
       "    </tr>\n",
       "    <tr>\n",
       "      <th>Pclass</th>\n",
       "      <th></th>\n",
       "      <th></th>\n",
       "      <th></th>\n",
       "    </tr>\n",
       "  </thead>\n",
       "  <tbody>\n",
       "    <tr>\n",
       "      <th>1</th>\n",
       "      <td>216</td>\n",
       "      <td>136</td>\n",
       "      <td>0.629630</td>\n",
       "    </tr>\n",
       "    <tr>\n",
       "      <th>2</th>\n",
       "      <td>184</td>\n",
       "      <td>87</td>\n",
       "      <td>0.472826</td>\n",
       "    </tr>\n",
       "    <tr>\n",
       "      <th>3</th>\n",
       "      <td>491</td>\n",
       "      <td>119</td>\n",
       "      <td>0.242363</td>\n",
       "    </tr>\n",
       "  </tbody>\n",
       "</table>\n",
       "</div>"
      ],
      "text/plain": [
       "       Survived                      \n",
       "          total n_survived proportion\n",
       "Pclass                               \n",
       "1           216        136   0.629630\n",
       "2           184         87   0.472826\n",
       "3           491        119   0.242363"
      ]
     },
     "execution_count": 11,
     "metadata": {},
     "output_type": "execute_result"
    }
   ],
   "source": [
    "print(f\"There are {sum(train['Pclass'].isna())} missing values\")\n",
    "(\n",
    "    train.groupby('Pclass')\n",
    "    .agg({'Survived':['count', 'sum', 'mean']})\n",
    "    .rename(columns={'count':'total','sum':'n_survived','mean':'proportion'})\n",
    ")"
   ]
  },
  {
   "attachments": {},
   "cell_type": "markdown",
   "metadata": {},
   "source": [
    "### 1.2.4. Fare\n",
    "\n",
    "<span style=\"font-size:14px;line-height:1.5\">\n",
    "<p>\n",
    "On the issue of payment, we might also expect some correlation between class of ticket and fare. We'll get to that in section 1.3. \n",
    "</p><p>\n",
    "For now, let's see how fares are distributed in the dataset:\n",
    "</p></span>"
   ]
  },
  {
   "cell_type": "code",
   "execution_count": 12,
   "metadata": {},
   "outputs": [
    {
     "data": {
      "image/png": "[encoded data removed]",
      "text/plain": [
       "<Figure size 800x300 with 1 Axes>"
      ]
     },
     "metadata": {},
     "output_type": "display_data"
    }
   ],
   "source": [
    "plt.figure(figsize=(8,3))\n",
    "train['Fare'].hist(bins=100)\n",
    "plt.xlabel('Fare (£)')\n",
    "plt.ylabel('Passengers (n)')\n",
    "plt.title(f\"{train['Fare'].dropna().shape[0]} passengers ({sum(train['Fare'].isna())} missing)\")\n",
    "plt.show()"
   ]
  },
  {
   "attachments": {},
   "cell_type": "markdown",
   "metadata": {},
   "source": [
    "We can see that Fares are clearly not Gaussian either, which again is no suprise given that tickets cannot have negative prices. We could try log-transforming the data, but there are several passengers that paid £0 for their tickets (and for which we would get an error transforming). These were generally employees of ship lines that will be discussed in Chapter 2 and marking these data as missing (or at least not applicable) might make sense for several reasons. Here, we'll apply a log-transform after removing zero fares:"
   ]
  },
  {
   "cell_type": "code",
   "execution_count": 13,
   "metadata": {},
   "outputs": [
    {
     "data": {
      "image/png": "[encoded data removed]",
      "text/plain": [
       "<Figure size 800x300 with 1 Axes>"
      ]
     },
     "metadata": {},
     "output_type": "display_data"
    }
   ],
   "source": [
    "train['log_fare'] = np.log(train['Fare'].replace({0.0:np.nan}))\n",
    "\n",
    "plt.figure(figsize=(8,3))\n",
    "train['log_fare'].hist(bins=100)\n",
    "plt.xlabel('Log Fare (£)')\n",
    "plt.ylabel('Passengers (n)')\n",
    "plt.title(f\"{train['log_fare'].dropna().shape[0]} passengers ({sum(train['log_fare'].isna())} missing)\")\n",
    "plt.show()"
   ]
  },
  {
   "attachments": {},
   "cell_type": "markdown",
   "metadata": {},
   "source": [
    "<span style=\"font-size:14px;line-height:1.5\">\n",
    "<p> \n",
    "After the log transform, we can see some separation of the data - potentially into two or three distributions that might correspond to different classes.\n",
    "</p><p> \n",
    "So if class improves your chance of survival, presumably a more expensive ticket is associated with survival too? To see if this is true in the training data, we'll use a reverse correlation approach: that means, rather than ask what the survival rates were for passengers paying different fares, we ask how much did people who survived or perished pay? Seaborn makes this easy to plot:</span>"
   ]
  },
  {
   "cell_type": "code",
   "execution_count": 14,
   "metadata": {},
   "outputs": [
    {
     "data": {
      "image/png": "[encoded data removed]",
      "text/plain": [
       "<Figure size 800x300 with 1 Axes>"
      ]
     },
     "metadata": {},
     "output_type": "display_data"
    }
   ],
   "source": [
    "import seaborn as sns\n",
    "\n",
    "plt.figure(figsize=(8,3))\n",
    "sns.histplot(data=train, x='log_fare', hue='Survived', bins=100, **{'lw':0.1, 'alpha':0.6})\n",
    "plt.xlabel('Log Fare (£)')\n",
    "plt.ylabel('Passengers (n)')\n",
    "plt.show()"
   ]
  },
  {
   "attachments": {},
   "cell_type": "markdown",
   "metadata": {},
   "source": [
    "<span style=\"font-size:14px;line-height:1.5\">\n",
    "<p>\n",
    "As expected, the higher paying passengers were more likely to survive.\n",
    "</p>\n",
    "\n",
    "### 1.2.5. Tickets (and Group Size)\n",
    "<p>\n",
    "When you pay your money, you get a ticket for travel. Is there anything we can learn from the ticket data?\n",
    "</p><p>\n",
    "There aren't any missing tickets, but we do find that multiple passengers are travelling on the same ticket.\n",
    "</p><span>"
   ]
  },
  {
   "cell_type": "code",
   "execution_count": 15,
   "metadata": {},
   "outputs": [
    {
     "name": "stdout",
     "output_type": "stream",
     "text": [
      "There are 0 missing tickets\n",
      "There are 681 unique tickets for 891 passengers\n"
     ]
    }
   ],
   "source": [
    "print(f\"There are {sum(train['Ticket'].isna())} missing tickets\")\n",
    "print(f\"There are {train['Ticket'].nunique()} unique tickets for {train.shape[0]} passengers\")"
   ]
  },
  {
   "attachments": {},
   "cell_type": "markdown",
   "metadata": {},
   "source": [
    "<span style=\"font-size:14px;line-height:1.5\">\n",
    "Travelling on the same ticket_class is likely to indicate some close association between those people travelling. Indeed if we look at the most popular ticket, we see that the passengers appear to be from the Andersson family.\n",
    "</span>"
   ]
  },
  {
   "cell_type": "code",
   "execution_count": 16,
   "metadata": {},
   "outputs": [
    {
     "data": {
      "text/html": [
       "<div>\n",
       "<style scoped>\n",
       "    .dataframe tbody tr th:only-of-type {\n",
       "        vertical-align: middle;\n",
       "    }\n",
       "\n",
       "    .dataframe tbody tr th {\n",
       "        vertical-align: top;\n",
       "    }\n",
       "\n",
       "    .dataframe thead th {\n",
       "        text-align: right;\n",
       "    }\n",
       "</style>\n",
       "<table border=\"1\" class=\"dataframe\">\n",
       "  <thead>\n",
       "    <tr style=\"text-align: right;\">\n",
       "      <th></th>\n",
       "      <th>Ticket</th>\n",
       "      <th>people_on_ticket</th>\n",
       "    </tr>\n",
       "  </thead>\n",
       "  <tbody>\n",
       "    <tr>\n",
       "      <th>0</th>\n",
       "      <td>347082</td>\n",
       "      <td>7</td>\n",
       "    </tr>\n",
       "    <tr>\n",
       "      <th>1</th>\n",
       "      <td>CA. 2343</td>\n",
       "      <td>7</td>\n",
       "    </tr>\n",
       "    <tr>\n",
       "      <th>2</th>\n",
       "      <td>1601</td>\n",
       "      <td>7</td>\n",
       "    </tr>\n",
       "  </tbody>\n",
       "</table>\n",
       "</div>"
      ],
      "text/plain": [
       "     Ticket  people_on_ticket\n",
       "0    347082                 7\n",
       "1  CA. 2343                 7\n",
       "2      1601                 7"
      ]
     },
     "execution_count": 16,
     "metadata": {},
     "output_type": "execute_result"
    }
   ],
   "source": [
    "ticket_info = pd.DataFrame(\n",
    "        train['Ticket'].value_counts()      # Count number of people travelling on the same ticket\n",
    "        .reset_index()\n",
    "        .rename({\n",
    "            'Ticket':'people_on_ticket',        # minor reformatting that makes life easier later\n",
    "            'index':'Ticket'\n",
    "            }, axis=1)\n",
    "    )\n",
    "\n",
    "ticket_info.head(3)"
   ]
  },
  {
   "cell_type": "code",
   "execution_count": 17,
   "metadata": {},
   "outputs": [
    {
     "data": {
      "text/html": [
       "<div>\n",
       "<style scoped>\n",
       "    .dataframe tbody tr th:only-of-type {\n",
       "        vertical-align: middle;\n",
       "    }\n",
       "\n",
       "    .dataframe tbody tr th {\n",
       "        vertical-align: top;\n",
       "    }\n",
       "\n",
       "    .dataframe thead th {\n",
       "        text-align: right;\n",
       "    }\n",
       "</style>\n",
       "<table border=\"1\" class=\"dataframe\">\n",
       "  <thead>\n",
       "    <tr style=\"text-align: right;\">\n",
       "      <th></th>\n",
       "      <th>Ticket</th>\n",
       "      <th>Name</th>\n",
       "      <th>Age</th>\n",
       "      <th>Survived</th>\n",
       "    </tr>\n",
       "  </thead>\n",
       "  <tbody>\n",
       "    <tr>\n",
       "      <th>13</th>\n",
       "      <td>347082</td>\n",
       "      <td>Andersson, Mr. Anders Johan</td>\n",
       "      <td>39.0</td>\n",
       "      <td>0</td>\n",
       "    </tr>\n",
       "    <tr>\n",
       "      <th>119</th>\n",
       "      <td>347082</td>\n",
       "      <td>Andersson, Miss. Ellis Anna Maria</td>\n",
       "      <td>2.0</td>\n",
       "      <td>0</td>\n",
       "    </tr>\n",
       "    <tr>\n",
       "      <th>541</th>\n",
       "      <td>347082</td>\n",
       "      <td>Andersson, Miss. Ingeborg Constanzia</td>\n",
       "      <td>9.0</td>\n",
       "      <td>0</td>\n",
       "    </tr>\n",
       "    <tr>\n",
       "      <th>542</th>\n",
       "      <td>347082</td>\n",
       "      <td>Andersson, Miss. Sigrid Elisabeth</td>\n",
       "      <td>11.0</td>\n",
       "      <td>0</td>\n",
       "    </tr>\n",
       "    <tr>\n",
       "      <th>610</th>\n",
       "      <td>347082</td>\n",
       "      <td>Andersson, Mrs. Anders Johan (Alfrida Konstant...</td>\n",
       "      <td>39.0</td>\n",
       "      <td>0</td>\n",
       "    </tr>\n",
       "    <tr>\n",
       "      <th>813</th>\n",
       "      <td>347082</td>\n",
       "      <td>Andersson, Miss. Ebba Iris Alfrida</td>\n",
       "      <td>6.0</td>\n",
       "      <td>0</td>\n",
       "    </tr>\n",
       "    <tr>\n",
       "      <th>850</th>\n",
       "      <td>347082</td>\n",
       "      <td>Andersson, Master. Sigvard Harald Elias</td>\n",
       "      <td>4.0</td>\n",
       "      <td>0</td>\n",
       "    </tr>\n",
       "  </tbody>\n",
       "</table>\n",
       "</div>"
      ],
      "text/plain": [
       "     Ticket                                               Name   Age  Survived\n",
       "13   347082                        Andersson, Mr. Anders Johan  39.0         0\n",
       "119  347082                  Andersson, Miss. Ellis Anna Maria   2.0         0\n",
       "541  347082               Andersson, Miss. Ingeborg Constanzia   9.0         0\n",
       "542  347082                  Andersson, Miss. Sigrid Elisabeth  11.0         0\n",
       "610  347082  Andersson, Mrs. Anders Johan (Alfrida Konstant...  39.0         0\n",
       "813  347082                 Andersson, Miss. Ebba Iris Alfrida   6.0         0\n",
       "850  347082            Andersson, Master. Sigvard Harald Elias   4.0         0"
      ]
     },
     "execution_count": 17,
     "metadata": {},
     "output_type": "execute_result"
    }
   ],
   "source": [
    "# Show data for the most popular ticket \n",
    "most_popular_tickets = ticket_info.loc[ ticket_info['people_on_ticket'].idxmax(),:]\n",
    "train[train['Ticket'] == most_popular_tickets.Ticket][['Ticket','Name','Age','Survived']]"
   ]
  },
  {
   "attachments": {},
   "cell_type": "markdown",
   "metadata": {},
   "source": [
    "<span style=\"font-size:14px;line-height:1.5\">\n",
    "<p>\n",
    "Sadly none of the family survived. Is it the case that larger groups had lower survival rates? (Note that the test/train split means we're only looking at partial data here and some tickets may be split across the datasets).\n",
    "</p><p>\n",
    "To answer this question, it would be helpful to add a column to the dataset indicating, for each passenger, how many people were travelling on the same ticket:\n",
    "</p></span>"
   ]
  },
  {
   "cell_type": "code",
   "execution_count": 18,
   "metadata": {},
   "outputs": [],
   "source": [
    "# Add group size as an extra column to the training set\n",
    "train = pd.merge(train, ticket_info, left_on='Ticket', right_on='Ticket')"
   ]
  },
  {
   "attachments": {},
   "cell_type": "markdown",
   "metadata": {},
   "source": [
    "<span style=\"font-size:14px;line-height:1.5\">\n",
    "And now if we look at survival rates, we see a <i>non-linear</i> relationship, where chances of survival are best for group sizes of three and decline for both larger and smaller groups:\n",
    "</span>"
   ]
  },
  {
   "cell_type": "code",
   "execution_count": 19,
   "metadata": {},
   "outputs": [
    {
     "data": {
      "text/html": [
       "<div>\n",
       "<style scoped>\n",
       "    .dataframe tbody tr th:only-of-type {\n",
       "        vertical-align: middle;\n",
       "    }\n",
       "\n",
       "    .dataframe tbody tr th {\n",
       "        vertical-align: top;\n",
       "    }\n",
       "\n",
       "    .dataframe thead tr th {\n",
       "        text-align: left;\n",
       "    }\n",
       "\n",
       "    .dataframe thead tr:last-of-type th {\n",
       "        text-align: right;\n",
       "    }\n",
       "</style>\n",
       "<table border=\"1\" class=\"dataframe\">\n",
       "  <thead>\n",
       "    <tr>\n",
       "      <th></th>\n",
       "      <th colspan=\"3\" halign=\"left\">Survived</th>\n",
       "    </tr>\n",
       "    <tr>\n",
       "      <th></th>\n",
       "      <th>total</th>\n",
       "      <th>n_survived</th>\n",
       "      <th>proportion</th>\n",
       "    </tr>\n",
       "    <tr>\n",
       "      <th>people_on_ticket</th>\n",
       "      <th></th>\n",
       "      <th></th>\n",
       "      <th></th>\n",
       "    </tr>\n",
       "  </thead>\n",
       "  <tbody>\n",
       "    <tr>\n",
       "      <th>1</th>\n",
       "      <td>547</td>\n",
       "      <td>163</td>\n",
       "      <td>0.297989</td>\n",
       "    </tr>\n",
       "    <tr>\n",
       "      <th>2</th>\n",
       "      <td>188</td>\n",
       "      <td>108</td>\n",
       "      <td>0.574468</td>\n",
       "    </tr>\n",
       "    <tr>\n",
       "      <th>3</th>\n",
       "      <td>63</td>\n",
       "      <td>44</td>\n",
       "      <td>0.698413</td>\n",
       "    </tr>\n",
       "    <tr>\n",
       "      <th>4</th>\n",
       "      <td>44</td>\n",
       "      <td>22</td>\n",
       "      <td>0.500000</td>\n",
       "    </tr>\n",
       "    <tr>\n",
       "      <th>5</th>\n",
       "      <td>10</td>\n",
       "      <td>0</td>\n",
       "      <td>0.000000</td>\n",
       "    </tr>\n",
       "    <tr>\n",
       "      <th>6</th>\n",
       "      <td>18</td>\n",
       "      <td>0</td>\n",
       "      <td>0.000000</td>\n",
       "    </tr>\n",
       "    <tr>\n",
       "      <th>7</th>\n",
       "      <td>21</td>\n",
       "      <td>5</td>\n",
       "      <td>0.238095</td>\n",
       "    </tr>\n",
       "  </tbody>\n",
       "</table>\n",
       "</div>"
      ],
      "text/plain": [
       "                 Survived                      \n",
       "                    total n_survived proportion\n",
       "people_on_ticket                               \n",
       "1                     547        163   0.297989\n",
       "2                     188        108   0.574468\n",
       "3                      63         44   0.698413\n",
       "4                      44         22   0.500000\n",
       "5                      10          0   0.000000\n",
       "6                      18          0   0.000000\n",
       "7                      21          5   0.238095"
      ]
     },
     "execution_count": 19,
     "metadata": {},
     "output_type": "execute_result"
    }
   ],
   "source": [
    "(\n",
    "    train.groupby('people_on_ticket')\n",
    "    .agg({'Survived':['count', 'sum', 'mean']})\n",
    "    .rename(columns={'count':'total','sum':'n_survived','mean':'proportion'})\n",
    ")"
   ]
  },
  {
   "attachments": {},
   "cell_type": "markdown",
   "metadata": {},
   "source": [
    "<span style=\"font-size:14px;line-height:1.5\">\n",
    "<p>It is important to note the relationship between survival and number of people is non-linear because this affects the kinds of models that we can fit to the data. Generalized linear models would not be able to capture this association well, whereas a random forest or GAM (generalized additive model) might be more appropriate.\n",
    "More generally, this example illustrates how there are hidden nuggets of information throughout the dataset that can be found through some detective work and intuitive feature engineering.</p><p>We need to apply this engineering to the test data at some point; but we have to be careful how this is done to avoid <b>data leakage</b>. For example, we can't include tickets from the test data in our calculation of group size, even though it's likely that some tickets have passengers in each dataset. Why can't we merge test and train data to calculate group size for tickets? Doing so would mean that data from the test set could influence any model that we subsequently fitted and thus give us an unfair advantage. This might be tempting when we have only one test dataset, but in general it's bad practice as it would harm our ability to generalize in the long term.\n",
    "</p><p>\n",
    "Could we use ticket numbers from the train data to calculate group size in the test data? This seems more permissible because we are not fitting any model to the test data, we're just making predictions. Consider for example a case where the test dataset consisted of only a single passenger. In this situation, we wouldn't be able to calculate group size from the test dataset alone. However we could use our past knowledge of the training set to extend what we know about the test passenger.\n",
    "</p></span>"
   ]
  },
  {
   "cell_type": "code",
   "execution_count": 20,
   "metadata": {},
   "outputs": [
    {
     "data": {
      "text/plain": [
       "1.0    266\n",
       "2.0     80\n",
       "3.0     45\n",
       "5.0     11\n",
       "8.0      5\n",
       "4.0      5\n",
       "6.0      3\n",
       "7.0      3\n",
       "Name: people_on_ticket, dtype: int64"
      ]
     },
     "execution_count": 20,
     "metadata": {},
     "output_type": "execute_result"
    }
   ],
   "source": [
    "test = (\n",
    "    pd.merge(test, ticket_info, left_on='Ticket', right_on='Ticket', how='left')    # add group size in train data as column\n",
    "    .fillna(0)\n",
    ")\n",
    "\n",
    "test['people_on_ticket'] += 1     # Include current passenger in group\n",
    "test['people_on_ticket'].value_counts()"
   ]
  },
  {
   "attachments": {},
   "cell_type": "markdown",
   "metadata": {},
   "source": [
    "<span style=\"font-size:14px;line-height:1.5\">\n",
    "<p>Is there anything else we can learn from ticket information? Generally ticket values contain a number, as well as possible location information (e.g. PARIS, SOTON [probably Southampton]) in a prefix. It is interesting that these locations extend beyond ports of embarcation, although the port codes may be useful for interpretting prefixes (C: Cherebourg, Q: Queenstown, S: Southampton).\n",
    "</p><p>\n",
    "There are some unique exceptions such as sailors from other shipping companies travelling on 'LINE' tickets, for which we can add a placeholder ticket value (0) in order to separate the ticket number and prefix.\n",
    "</p></span>"
   ]
  },
  {
   "cell_type": "code",
   "execution_count": 21,
   "metadata": {},
   "outputs": [],
   "source": [
    "def get_ticket_number(df):\n",
    "    return (\n",
    "        df['Ticket']\n",
    "        .str.replace('LINE', 'LINE 0')          # Use 0 to indicate missing number on tickets for LINE passengers\n",
    "        .str.split(' ').str[-1].astype(int)     # Return numbers as integers \n",
    "    )\n",
    "\n",
    "train['ticket_num'] = get_ticket_number(train)\n",
    "test['ticket_num'] = get_ticket_number(test)"
   ]
  },
  {
   "cell_type": "code",
   "execution_count": 22,
   "metadata": {},
   "outputs": [],
   "source": [
    "def get_ticket_prefix(df):\n",
    "    return (\n",
    "        df\n",
    "        .apply(lambda x: x['Ticket'].replace(str(x['ticket_num']), ''), axis=1)      # Remove ticket number\n",
    "        .str.lower()                                                            # Remove differences in case\n",
    "        .str.replace(\"[^a-z0-9]\",\"\", regex=True)                                # Remove special characters from prefix \n",
    "    )\n",
    "\n",
    "train['ticket_prefix'] = get_ticket_prefix(train)\n",
    "test['ticket_prefix'] = get_ticket_prefix(test)\n",
    "\n",
    "# Tickets without prefixes are noted as empty strings, which might be unhelpful and so we add a column to be explicit about the missing data\n",
    "train['no_ticket_prefix'] = train['ticket_prefix'] == ''\n",
    "test['no_ticket_prefix'] = test['ticket_prefix'] == ''"
   ]
  },
  {
   "attachments": {},
   "cell_type": "markdown",
   "metadata": {},
   "source": [
    "<span style=\"font-size:14px;line-height:1.5\">\n",
    "Looking at the survival rates, we can see there are ticket prefixes for which survival is particularly high (e.g. PC) or low (a4/a5). Looking at the classes for each ticket type, we can see that these categories are specifically first or third class and thus prefix might indicate a particular sub-set of ticket holders (e.g. premium first class, or 3rd class shared accomodation for men).\n",
    "</span>"
   ]
  },
  {
   "cell_type": "code",
   "execution_count": 23,
   "metadata": {},
   "outputs": [
    {
     "data": {
      "text/html": [
       "<div>\n",
       "<style scoped>\n",
       "    .dataframe tbody tr th:only-of-type {\n",
       "        vertical-align: middle;\n",
       "    }\n",
       "\n",
       "    .dataframe tbody tr th {\n",
       "        vertical-align: top;\n",
       "    }\n",
       "\n",
       "    .dataframe thead tr th {\n",
       "        text-align: left;\n",
       "    }\n",
       "\n",
       "    .dataframe thead tr:last-of-type th {\n",
       "        text-align: right;\n",
       "    }\n",
       "</style>\n",
       "<table border=\"1\" class=\"dataframe\">\n",
       "  <thead>\n",
       "    <tr>\n",
       "      <th></th>\n",
       "      <th colspan=\"3\" halign=\"left\">Survived</th>\n",
       "      <th>Age</th>\n",
       "      <th>Pclass</th>\n",
       "      <th>Fare</th>\n",
       "      <th>Sex</th>\n",
       "    </tr>\n",
       "    <tr>\n",
       "      <th></th>\n",
       "      <th>total</th>\n",
       "      <th>n_survived</th>\n",
       "      <th>mean</th>\n",
       "      <th>mean</th>\n",
       "      <th>unique</th>\n",
       "      <th>median</th>\n",
       "      <th>mean</th>\n",
       "    </tr>\n",
       "    <tr>\n",
       "      <th>ticket_prefix</th>\n",
       "      <th></th>\n",
       "      <th></th>\n",
       "      <th></th>\n",
       "      <th></th>\n",
       "      <th></th>\n",
       "      <th></th>\n",
       "      <th></th>\n",
       "    </tr>\n",
       "  </thead>\n",
       "  <tbody>\n",
       "    <tr>\n",
       "      <th></th>\n",
       "      <td>661</td>\n",
       "      <td>254</td>\n",
       "      <td>0.384266</td>\n",
       "      <td>29.435067</td>\n",
       "      <td>[1, 3, 2]</td>\n",
       "      <td>13.000</td>\n",
       "      <td>0.361573</td>\n",
       "    </tr>\n",
       "    <tr>\n",
       "      <th>pc</th>\n",
       "      <td>60</td>\n",
       "      <td>39</td>\n",
       "      <td>0.650000</td>\n",
       "      <td>37.120000</td>\n",
       "      <td>[1]</td>\n",
       "      <td>79.200</td>\n",
       "      <td>0.483333</td>\n",
       "    </tr>\n",
       "    <tr>\n",
       "      <th>ca</th>\n",
       "      <td>41</td>\n",
       "      <td>14</td>\n",
       "      <td>0.341463</td>\n",
       "      <td>25.090909</td>\n",
       "      <td>[2, 3]</td>\n",
       "      <td>26.250</td>\n",
       "      <td>0.365854</td>\n",
       "    </tr>\n",
       "    <tr>\n",
       "      <th>a5</th>\n",
       "      <td>21</td>\n",
       "      <td>2</td>\n",
       "      <td>0.095238</td>\n",
       "      <td>30.805556</td>\n",
       "      <td>[3]</td>\n",
       "      <td>8.050</td>\n",
       "      <td>0.095238</td>\n",
       "    </tr>\n",
       "    <tr>\n",
       "      <th>stono2</th>\n",
       "      <td>18</td>\n",
       "      <td>8</td>\n",
       "      <td>0.444444</td>\n",
       "      <td>27.722222</td>\n",
       "      <td>[3]</td>\n",
       "      <td>7.925</td>\n",
       "      <td>0.277778</td>\n",
       "    </tr>\n",
       "  </tbody>\n",
       "</table>\n",
       "</div>"
      ],
      "text/plain": [
       "              Survived                             Age     Pclass    Fare  \\\n",
       "                 total n_survived      mean       mean     unique  median   \n",
       "ticket_prefix                                                               \n",
       "                   661        254  0.384266  29.435067  [1, 3, 2]  13.000   \n",
       "pc                  60         39  0.650000  37.120000        [1]  79.200   \n",
       "ca                  41         14  0.341463  25.090909     [2, 3]  26.250   \n",
       "a5                  21          2  0.095238  30.805556        [3]   8.050   \n",
       "stono2              18          8  0.444444  27.722222        [3]   7.925   \n",
       "\n",
       "                    Sex  \n",
       "                   mean  \n",
       "ticket_prefix            \n",
       "               0.361573  \n",
       "pc             0.483333  \n",
       "ca             0.365854  \n",
       "a5             0.095238  \n",
       "stono2         0.277778  "
      ]
     },
     "execution_count": 23,
     "metadata": {},
     "output_type": "execute_result"
    }
   ],
   "source": [
    "pd.DataFrame(\n",
    "    train\n",
    "    .replace({'Sex':{'male':0, 'female':1}})      # convert category to number for averaging\n",
    "    .groupby('ticket_prefix')\n",
    "    .agg({'Survived':['count', 'sum', 'mean'], 'Age':['mean'], 'Pclass':['unique'], 'Fare':['median'], 'Sex':['mean']})\n",
    "    .rename(columns={'count':'total','sum':'n_survived'})\n",
    "    .sort_values(by=('Survived','total'), ascending=False)\n",
    ").head()"
   ]
  },
  {
   "attachments": {},
   "cell_type": "markdown",
   "metadata": {},
   "source": [
    "<span style=\"font-size:14px;line-height:1.5\">\n",
    "How can we turn this information into a useful feature for predicting test survival? One way would be to treat prefix as a category and then use <b>one-hot encoding</b> to train a model. There are quite a few cases where sample sizes for individual ticket types are small and so we might want to convert these prefix types into one alternative category ('other').</p>\n",
    "<p>Another solution would be to use <b>target encoding</b> in which we replace ticket prefixes with values related to survival and use this as a single feature. Here, the encoding map built from the training data could be applied to the test data without risk of leakage. To minimise noise associated with small sample sizes, we could consider using the same 'other' bin for any prefix that has one or a few passengers, and this bin could also be used to assign ticket prefixes in the test set that are not in our mapping. (Or those prefixes could be discarded)</p>\n",
    "<p>Finally, we could try to learn an <b>embedding</b> in which tickets exist within some space, where tickets with similar prefixes/numbers and passenger survival are close together. We will discuss each of these approaches in Chapter 3.\n",
    "\n",
    "### 1.2.6. Port of Embarcation\n",
    "\n",
    "There are three ports at which passengers (of all classes and genders) boarded the titanic, listed here in order along the journey: Cherbourg (France), Southampton (UK) and Queenstown (Ireland). As one might expect, tickets were more expensive the further one travelled, but there is also evidence of demographic differences, with travellers from Cherbourg being more likely to travel in a higher class, while passengers boarding in Queenstown tended to travel more often in 3rd class (which might also account for at least part of the difference in fare):\n",
    "</span>"
   ]
  },
  {
   "cell_type": "code",
   "execution_count": 24,
   "metadata": {},
   "outputs": [
    {
     "data": {
      "text/html": [
       "<div>\n",
       "<style scoped>\n",
       "    .dataframe tbody tr th:only-of-type {\n",
       "        vertical-align: middle;\n",
       "    }\n",
       "\n",
       "    .dataframe tbody tr th {\n",
       "        vertical-align: top;\n",
       "    }\n",
       "\n",
       "    .dataframe thead tr th {\n",
       "        text-align: left;\n",
       "    }\n",
       "\n",
       "    .dataframe thead tr:last-of-type th {\n",
       "        text-align: right;\n",
       "    }\n",
       "</style>\n",
       "<table border=\"1\" class=\"dataframe\">\n",
       "  <thead>\n",
       "    <tr>\n",
       "      <th></th>\n",
       "      <th colspan=\"3\" halign=\"left\">Survived</th>\n",
       "      <th>Age</th>\n",
       "      <th>Pclass</th>\n",
       "      <th>Fare</th>\n",
       "    </tr>\n",
       "    <tr>\n",
       "      <th></th>\n",
       "      <th>count</th>\n",
       "      <th>sum</th>\n",
       "      <th>mean</th>\n",
       "      <th>mean</th>\n",
       "      <th>mean</th>\n",
       "      <th>median</th>\n",
       "    </tr>\n",
       "    <tr>\n",
       "      <th>Embarked</th>\n",
       "      <th></th>\n",
       "      <th></th>\n",
       "      <th></th>\n",
       "      <th></th>\n",
       "      <th></th>\n",
       "      <th></th>\n",
       "    </tr>\n",
       "  </thead>\n",
       "  <tbody>\n",
       "    <tr>\n",
       "      <th>Cherbourg</th>\n",
       "      <td>168</td>\n",
       "      <td>93</td>\n",
       "      <td>0.553571</td>\n",
       "      <td>30.814769</td>\n",
       "      <td>1.886905</td>\n",
       "      <td>29.70</td>\n",
       "    </tr>\n",
       "    <tr>\n",
       "      <th>Southampton</th>\n",
       "      <td>644</td>\n",
       "      <td>217</td>\n",
       "      <td>0.336957</td>\n",
       "      <td>29.445397</td>\n",
       "      <td>2.350932</td>\n",
       "      <td>13.00</td>\n",
       "    </tr>\n",
       "    <tr>\n",
       "      <th>Queenstown</th>\n",
       "      <td>77</td>\n",
       "      <td>30</td>\n",
       "      <td>0.389610</td>\n",
       "      <td>28.089286</td>\n",
       "      <td>2.909091</td>\n",
       "      <td>7.75</td>\n",
       "    </tr>\n",
       "  </tbody>\n",
       "</table>\n",
       "</div>"
      ],
      "text/plain": [
       "            Survived                       Age    Pclass   Fare\n",
       "               count  sum      mean       mean      mean median\n",
       "Embarked                                                       \n",
       "Cherbourg        168   93  0.553571  30.814769  1.886905  29.70\n",
       "Southampton      644  217  0.336957  29.445397  2.350932  13.00\n",
       "Queenstown        77   30  0.389610  28.089286  2.909091   7.75"
      ]
     },
     "execution_count": 24,
     "metadata": {},
     "output_type": "execute_result"
    }
   ],
   "source": [
    "port_codes = dict(C = 'Cherbourg', Q = 'Queenstown', S = 'Southampton')\n",
    "\n",
    "(train\n",
    "    .replace({'Embarked':port_codes})\n",
    "    .groupby('Embarked')\n",
    "    .agg({'Survived':['count', 'sum', 'mean'], 'Age':['mean'], 'Pclass':['mean'], 'Fare':['median']})\n",
    "    .sort_values(('Fare','median'), ascending=False)\n",
    ")"
   ]
  },
  {
   "cell_type": "code",
   "execution_count": null,
   "metadata": {},
   "outputs": [],
   "source": []
  },
  {
   "attachments": {},
   "cell_type": "markdown",
   "metadata": {},
   "source": [
    "<span style=\"font-size:14px;line-height:1.5\">\n",
    "<p>The location at which passengers joined the ship might tell us something about the travellers. We will come back to this when we look at ticket. For now it's clear that there is some correlation between the port of embarcation and other variables.</p>\n",
    "\n",
    "### 1.2.7. Cabin\n",
    "\n",
    "Cabin information is comprised of a letter and number (e.g. G6), which we will call the \"section\" and \"room number\"; However some passengers have multiple rooms (B96 B98) and some rooms have multiple passengers. There are also a small number of deviations from the standard format, where passengers have a single letter only (e.g. 'T') or a single letter before a cabin number (e.g. 'F G63'). First thing we'll do is harmonise the letter formatting by adding a placeholder value:\n",
    "</span>"
   ]
  },
  {
   "cell_type": "code",
   "execution_count": 25,
   "metadata": {},
   "outputs": [],
   "source": [
    "# Remove single letters from records with other column names (e.g. turn 'F G74' to 'G74')\n",
    "idx = train[train['Cabin'].str.match(r'[A-Z]\\s[A-Z0-9]*').fillna(False)].index\n",
    "train.loc[idx,'Cabin'] = train.loc[idx, 'Cabin'].str.extract(r'([A-Z]\\s)([A-Z0-9]*)')[1]"
   ]
  },
  {
   "attachments": {},
   "cell_type": "markdown",
   "metadata": {},
   "source": [
    "<span style=\"font-size:14px;line-height:1.5\">\n",
    "<p>\n",
    "Next, let's add a column to show the number of cabins someone has. This might be important in future for processing string \n",
    "information in cabin names later on. Where there is no cabin information, we will assume that person had a single room (which may be inferring too much at this point).\n",
    "</span>"
   ]
  },
  {
   "cell_type": "code",
   "execution_count": 26,
   "metadata": {},
   "outputs": [
    {
     "name": "stdout",
     "output_type": "stream",
     "text": [
      "20 / 891 passengers have multiple rooms. Unique room combinations:\n"
     ]
    },
    {
     "data": {
      "text/plain": [
       "array(['C23 C25 C27', 'D10 D12', 'B58 B60', 'B82 B84', 'B51 B53 B55',\n",
       "       'C22 C26', 'B57 B59 B63 B66', 'C62 C64', 'B96 B98'], dtype=object)"
      ]
     },
     "execution_count": 26,
     "metadata": {},
     "output_type": "execute_result"
    }
   ],
   "source": [
    "train['n_rooms'] = 1 + train['Cabin'].str.count(' ').fillna(0).astype(int)\n",
    "\n",
    "print(f\"{sum(train['n_rooms'] > 1)} / {train.shape[0]} passengers have multiple rooms. Unique room combinations:\")\n",
    "\n",
    "train[train['n_rooms'] > 1]['Cabin'].unique()"
   ]
  },
  {
   "attachments": {},
   "cell_type": "markdown",
   "metadata": {},
   "source": [
    "<span style=\"font-size:14px;line-height:1.5\">\n",
    "<p>\n",
    "Passengers with multiple cabins stay within the same section. Each section represents a major division of the ship associated with different classes of accomodation. Let's extract the first letter indicating the section and see what differs between sections:</p></span>"
   ]
  },
  {
   "cell_type": "code",
   "execution_count": 27,
   "metadata": {},
   "outputs": [
    {
     "data": {
      "text/html": [
       "<div>\n",
       "<style scoped>\n",
       "    .dataframe tbody tr th:only-of-type {\n",
       "        vertical-align: middle;\n",
       "    }\n",
       "\n",
       "    .dataframe tbody tr th {\n",
       "        vertical-align: top;\n",
       "    }\n",
       "\n",
       "    .dataframe thead tr th {\n",
       "        text-align: left;\n",
       "    }\n",
       "\n",
       "    .dataframe thead tr:last-of-type th {\n",
       "        text-align: right;\n",
       "    }\n",
       "</style>\n",
       "<table border=\"1\" class=\"dataframe\">\n",
       "  <thead>\n",
       "    <tr>\n",
       "      <th></th>\n",
       "      <th>Fare</th>\n",
       "      <th>Pclass</th>\n",
       "      <th>n_rooms</th>\n",
       "      <th colspan=\"3\" halign=\"left\">Survived</th>\n",
       "    </tr>\n",
       "    <tr>\n",
       "      <th></th>\n",
       "      <th>median</th>\n",
       "      <th>unique</th>\n",
       "      <th>unique</th>\n",
       "      <th>count</th>\n",
       "      <th>sum</th>\n",
       "      <th>mean</th>\n",
       "    </tr>\n",
       "    <tr>\n",
       "      <th>Section</th>\n",
       "      <th></th>\n",
       "      <th></th>\n",
       "      <th></th>\n",
       "      <th></th>\n",
       "      <th></th>\n",
       "      <th></th>\n",
       "    </tr>\n",
       "  </thead>\n",
       "  <tbody>\n",
       "    <tr>\n",
       "      <th>A</th>\n",
       "      <td>35.5000</td>\n",
       "      <td>[1]</td>\n",
       "      <td>[1]</td>\n",
       "      <td>15</td>\n",
       "      <td>7</td>\n",
       "      <td>0.466667</td>\n",
       "    </tr>\n",
       "    <tr>\n",
       "      <th>B</th>\n",
       "      <td>80.0000</td>\n",
       "      <td>[1]</td>\n",
       "      <td>[1, 2, 3, 4]</td>\n",
       "      <td>47</td>\n",
       "      <td>35</td>\n",
       "      <td>0.744681</td>\n",
       "    </tr>\n",
       "    <tr>\n",
       "      <th>C</th>\n",
       "      <td>83.4750</td>\n",
       "      <td>[1]</td>\n",
       "      <td>[1, 3, 2]</td>\n",
       "      <td>59</td>\n",
       "      <td>35</td>\n",
       "      <td>0.593220</td>\n",
       "    </tr>\n",
       "    <tr>\n",
       "      <th>D</th>\n",
       "      <td>53.1000</td>\n",
       "      <td>[2, 1]</td>\n",
       "      <td>[1, 2]</td>\n",
       "      <td>33</td>\n",
       "      <td>25</td>\n",
       "      <td>0.757576</td>\n",
       "    </tr>\n",
       "    <tr>\n",
       "      <th>E</th>\n",
       "      <td>38.5000</td>\n",
       "      <td>[1, 2, 3]</td>\n",
       "      <td>[1]</td>\n",
       "      <td>33</td>\n",
       "      <td>25</td>\n",
       "      <td>0.757576</td>\n",
       "    </tr>\n",
       "    <tr>\n",
       "      <th>F</th>\n",
       "      <td>26.0000</td>\n",
       "      <td>[2, 3]</td>\n",
       "      <td>[1]</td>\n",
       "      <td>9</td>\n",
       "      <td>7</td>\n",
       "      <td>0.777778</td>\n",
       "    </tr>\n",
       "    <tr>\n",
       "      <th>G</th>\n",
       "      <td>10.4625</td>\n",
       "      <td>[3]</td>\n",
       "      <td>[1]</td>\n",
       "      <td>7</td>\n",
       "      <td>2</td>\n",
       "      <td>0.285714</td>\n",
       "    </tr>\n",
       "    <tr>\n",
       "      <th>Missing</th>\n",
       "      <td>10.5000</td>\n",
       "      <td>[3, 2, 1]</td>\n",
       "      <td>[1]</td>\n",
       "      <td>687</td>\n",
       "      <td>206</td>\n",
       "      <td>0.299854</td>\n",
       "    </tr>\n",
       "    <tr>\n",
       "      <th>T</th>\n",
       "      <td>35.5000</td>\n",
       "      <td>[1]</td>\n",
       "      <td>[1]</td>\n",
       "      <td>1</td>\n",
       "      <td>0</td>\n",
       "      <td>0.000000</td>\n",
       "    </tr>\n",
       "  </tbody>\n",
       "</table>\n",
       "</div>"
      ],
      "text/plain": [
       "            Fare     Pclass       n_rooms Survived               \n",
       "          median     unique        unique    count  sum      mean\n",
       "Section                                                          \n",
       "A        35.5000        [1]           [1]       15    7  0.466667\n",
       "B        80.0000        [1]  [1, 2, 3, 4]       47   35  0.744681\n",
       "C        83.4750        [1]     [1, 3, 2]       59   35  0.593220\n",
       "D        53.1000     [2, 1]        [1, 2]       33   25  0.757576\n",
       "E        38.5000  [1, 2, 3]           [1]       33   25  0.757576\n",
       "F        26.0000     [2, 3]           [1]        9    7  0.777778\n",
       "G        10.4625        [3]           [1]        7    2  0.285714\n",
       "Missing  10.5000  [3, 2, 1]           [1]      687  206  0.299854\n",
       "T        35.5000        [1]           [1]        1    0  0.000000"
      ]
     },
     "execution_count": 27,
     "metadata": {},
     "output_type": "execute_result"
    }
   ],
   "source": [
    "train['Section'] = train['Cabin'].str.get(0)\n",
    "(\n",
    "    train\n",
    "    .fillna({'Section':'Missing'})\n",
    "    .groupby('Section')\n",
    "    .agg({\n",
    "        'Fare':['median'],\n",
    "        'Pclass':['unique'], \n",
    "        'n_rooms':['unique'], \n",
    "        'Survived':['count', 'sum', 'mean'],\n",
    "        })\n",
    ")"
   ]
  },
  {
   "attachments": {},
   "cell_type": "markdown",
   "metadata": {},
   "source": [
    "<span style=\"font-size:14px;line-height:1.5\">\n",
    "<p>There's a lot of insight in this table: Section B and C look like the best places to stay, with more expensive fares and more rooms. What is also striking is that survival rates in nearly every group in which we have Cabin information are better than when Cabin information is missing. \n",
    "</p><p>\n",
    "As we will see later, cabin data is missing primarily for 2nd and 3rd class passengers (92 and 98% respectively, vs. 21% of 1st Class passengers). We will also look at the relationship between Cabin and Ticket number - something that might allow us to infer the section in which passengers were staying.\n",
    "</p></span>"
   ]
  },
  {
   "attachments": {},
   "cell_type": "markdown",
   "metadata": {},
   "source": [
    "### 1.2.8. Names\n",
    "<span style=\"font-size:14px;line-height:1.5\">\n",
    "Dealing with text data is always a pain in the ass, as the format of the data is so variable. Here are some examples of the formats in the Name column:\n",
    "</span><br></br>\n",
    "\n",
    "| Format | Example |\n",
    "| --- | --- |\n",
    "| Surname, Title. FirstName MiddleName | Backstrom, Mr. Karl Alfred |\n",
    "| Surname, Title. FirstName | Ayoub, Miss. Banoura |\n",
    "| Surname, Title. HusbandsFirstName, HusbandsMiddleName  (FirstName, MiddleName, MaidenName) | Backstrom, Mrs. Karl Alfred (Maria Mathilda Gustafsson) |\n",
    "| Surname, Title. HusbandsFirstName, HusbandsMiddleName  (FirstName, MaidenName) | Baclini, Mrs. Solomon (Latifa Qurban) |\n",
    "| Surname, Title. (FirstName, MaidenName) | Barbara, Mrs. (Catherine David) |\n",
    "| Surname, Title. FirstName MiddleName (AltSurname) | Andersson, Mr. August Edvard (\"Wennerstrom\") |\n",
    "\n",
    "There are also inconsistencies in spelling, for example between 'Ms' and 'Miss'\n",
    "\n",
    "\n",
    "\n",
    "#### What useful information can we get from passenger names?\n",
    "<span style=\"font-size:14px;line-height:1.5\">\n",
    "Titles gives some clues as to the ages of passengers that may be helpful in later imputation of missing data. For example:\n",
    "<ui>\n",
    "<li> \"Master\" - a young boy (between ages of 0 and 15 [the oldest case, in the test dataset])</li>\n",
    "<li> \"Miss\" - a young woman (although Miss may continued to be used throughout life due to its association with marriage, as indicated in the extended age range of 0-63 years)</li>\n",
    "</ui>\n",
    "The use of the husbands name for some women also indicates the marriage relationship, which may be of interest if, for example, being married is likely to enhance a woman's chance of survival or decrease a man's chance of survival.\n",
    "</span>"
   ]
  },
  {
   "cell_type": "code",
   "execution_count": 28,
   "metadata": {},
   "outputs": [],
   "source": [
    "# Let's start by extracting the consistent fields - everyone has a surname and title (I think... though there's no type checking)\n",
    "train['Surname'] = train['Name'].str.split(pat='[,.]', n=2, expand=True)[0]\n",
    "train['Title'] = train['Name'].str.split(pat='[,.]', n=2, expand=True)[1]\n",
    "\n",
    "test['Surname'] = test['Name'].str.split(pat='[,.]', n=2, expand=True)[0]\n",
    "test['Title'] = test['Name'].str.split(pat='[,.]', n=2, expand=True)[1]"
   ]
  },
  {
   "cell_type": "code",
   "execution_count": 29,
   "metadata": {},
   "outputs": [],
   "source": [
    "# Now, let's replace the various title spellings an\n",
    "inconsist_titles = {'Ms':'Miss','Mlle':'Miss','Mra':'Mrs','Mme':'Mrs','Don':'Mr','Dona':'Mrs'}\n",
    "\n",
    "def correct_inconsistencies(df, str_map:dict):\n",
    "    for key, value in str_map.items():\n",
    "        df['Title'] = df['Title'].str.replace(key,value)\n",
    "    \n",
    "    return df\n",
    "\n",
    "train = correct_inconsistencies(train, inconsist_titles)\n",
    "test = correct_inconsistencies(test, inconsist_titles)"
   ]
  },
  {
   "cell_type": "code",
   "execution_count": 30,
   "metadata": {},
   "outputs": [
    {
     "data": {
      "text/plain": [
       "professional_title\n",
       "False    0.386025\n",
       "True     0.277778\n",
       "Name: Survived, dtype: float64"
      ]
     },
     "execution_count": 30,
     "metadata": {},
     "output_type": "execute_result"
    }
   ],
   "source": [
    "# There are a few people with professional titles\n",
    "professional_titles = ['Dr','Rev','Major','Col','Capt']\n",
    "\n",
    "train['professional_title'] = train['Title'].str.contains('|'.join(professional_titles))\n",
    "test['professional_title'] = test['Title'].str.contains('|'.join(professional_titles))\n",
    "\n",
    "# Those with professional titles were less likely to survive\n",
    "train.groupby('professional_title')['Survived'].mean()"
   ]
  },
  {
   "cell_type": "code",
   "execution_count": 31,
   "metadata": {},
   "outputs": [
    {
     "data": {
      "text/plain": [
       "nob_title\n",
       "False    0.381757\n",
       "True     1.000000\n",
       "Name: Survived, dtype: float64"
      ]
     },
     "execution_count": 31,
     "metadata": {},
     "output_type": "execute_result"
    }
   ],
   "source": [
    "# There are several people with aristocratic titles\n",
    "nob_title = ['Sir','Countess','Lady', 'Jonhkeer']\n",
    "\n",
    "train['nob_title'] = train['Title'].str.contains('|'.join(nob_title))\n",
    "test['nob_title'] = test['Title'].str.contains('|'.join(nob_title))\n",
    "\n",
    "# They all survived... \n",
    "train.groupby('nob_title')['Survived'].mean()"
   ]
  },
  {
   "cell_type": "code",
   "execution_count": 32,
   "metadata": {},
   "outputs": [
    {
     "data": {
      "text/plain": [
       " Mr        240\n",
       " Miss       79\n",
       " Mrs        72\n",
       " Master     21\n",
       " Col         2\n",
       " Rev         2\n",
       " Dr          1\n",
       " Mra         1\n",
       "Name: Title, dtype: int64"
      ]
     },
     "execution_count": 32,
     "metadata": {},
     "output_type": "execute_result"
    }
   ],
   "source": [
    "test['Title'].value_counts()"
   ]
  },
  {
   "cell_type": "code",
   "execution_count": 33,
   "metadata": {},
   "outputs": [
    {
     "data": {
      "text/plain": [
       "['Moubarek, Master. Halim Gonios (\"William George\")',\n",
       " 'Petroff, Mr. Pastcho (\"Pentcho\")',\n",
       " 'Andersson, Mr. August Edvard (\"Wennerstrom\")',\n",
       " 'Navratil, Mr. Michel (\"Louis M Hoffman\")',\n",
       " 'Romaine, Mr. Charles Hallace (\"Mr C Rolmane\")',\n",
       " 'Lovell, Mr. John Hall (\"Henry\")',\n",
       " 'Duff Gordon, Sir. Cosmo Edmund (\"Mr Morgan\")',\n",
       " 'Morley, Mr. Henry Samuel (\"Mr Henry Marshall\")',\n",
       " 'Pickard, Mr. Berk (Berk Trembisky)',\n",
       " 'Bradley, Mr. George (\"George Arthur Brayton\")',\n",
       " 'Leeni, Mr. Fahim (\"Philip Zenni\")',\n",
       " 'Flynn, Mr. John Irwin (\"Irving\")',\n",
       " 'Homer, Mr. Harry (\"Mr E Haven\")',\n",
       " 'Harmer, Mr. Abraham (David Lishin)']"
      ]
     },
     "execution_count": 33,
     "metadata": {},
     "output_type": "execute_result"
    }
   ],
   "source": [
    "bracket_idx = train[train.Name.str.contains(r'\\([^)]*\\)')].index\n",
    "bracket_names = train.loc[bracket_idx]\n",
    "\n",
    "male_bracket_idx = bracket_names[bracket_names.Sex == 'male'].index\n",
    "male_bracket_names = bracket_names.loc[male_bracket_idx]\n",
    "\n",
    "male_bracket_names.Name.to_list()\n"
   ]
  },
  {
   "attachments": {},
   "cell_type": "markdown",
   "metadata": {},
   "source": [
    "### 1.2.9. Social Connections\n",
    "\n",
    "<span style=\"font-size:14px;line-height:1.5\">\n",
    "The columns <b>sibsp</b> (Siblings and Spouses) and <b>Parch</b> (Parents and children) indicate relatedness between passengers. One might expect this to impact survival chances. We can visualize the connections between individuals as follows:\n",
    "\n",
    "![Diagram indicating the intra-generational and inter-generation relationships contained within sibsp and Parch columns](social_relationships.png \"Social relationships\")\n",
    "\n",
    "* Includes step-children; some children travelled only with a nanny (parch=0)\n",
    "\n",
    "Does not include connections between unrelated individuals travelling together (e.g. children with nanny, unmaried couples etc.). The information in these two columns may reveal more about the family situation of individuals that may be related to surival. For example, the sum of relatives can tell us something about family size:\n",
    "\n",
    "</span>"
   ]
  },
  {
   "cell_type": "code",
   "execution_count": 34,
   "metadata": {},
   "outputs": [
    {
     "data": {
      "text/html": [
       "<div>\n",
       "<style scoped>\n",
       "    .dataframe tbody tr th:only-of-type {\n",
       "        vertical-align: middle;\n",
       "    }\n",
       "\n",
       "    .dataframe tbody tr th {\n",
       "        vertical-align: top;\n",
       "    }\n",
       "\n",
       "    .dataframe thead th {\n",
       "        text-align: right;\n",
       "    }\n",
       "</style>\n",
       "<table border=\"1\" class=\"dataframe\">\n",
       "  <thead>\n",
       "    <tr style=\"text-align: right;\">\n",
       "      <th></th>\n",
       "      <th>family_size</th>\n",
       "      <th>0</th>\n",
       "      <th>1</th>\n",
       "      <th>2</th>\n",
       "      <th>3</th>\n",
       "      <th>4</th>\n",
       "      <th>5</th>\n",
       "      <th>6</th>\n",
       "      <th>7</th>\n",
       "      <th>10</th>\n",
       "    </tr>\n",
       "  </thead>\n",
       "  <tbody>\n",
       "    <tr>\n",
       "      <th rowspan=\"3\" valign=\"top\">Survived</th>\n",
       "      <th>count</th>\n",
       "      <td>537.000000</td>\n",
       "      <td>161.000000</td>\n",
       "      <td>102.000000</td>\n",
       "      <td>29.000000</td>\n",
       "      <td>15.0</td>\n",
       "      <td>22.000000</td>\n",
       "      <td>12.000000</td>\n",
       "      <td>6.0</td>\n",
       "      <td>7.0</td>\n",
       "    </tr>\n",
       "    <tr>\n",
       "      <th>sum</th>\n",
       "      <td>163.000000</td>\n",
       "      <td>89.000000</td>\n",
       "      <td>59.000000</td>\n",
       "      <td>21.000000</td>\n",
       "      <td>3.0</td>\n",
       "      <td>3.000000</td>\n",
       "      <td>4.000000</td>\n",
       "      <td>0.0</td>\n",
       "      <td>0.0</td>\n",
       "    </tr>\n",
       "    <tr>\n",
       "      <th>mean</th>\n",
       "      <td>0.303538</td>\n",
       "      <td>0.552795</td>\n",
       "      <td>0.578431</td>\n",
       "      <td>0.724138</td>\n",
       "      <td>0.2</td>\n",
       "      <td>0.136364</td>\n",
       "      <td>0.333333</td>\n",
       "      <td>0.0</td>\n",
       "      <td>0.0</td>\n",
       "    </tr>\n",
       "  </tbody>\n",
       "</table>\n",
       "</div>"
      ],
      "text/plain": [
       "family_size             0           1           2          3     4   \\\n",
       "Survived count  537.000000  161.000000  102.000000  29.000000  15.0   \n",
       "         sum    163.000000   89.000000   59.000000  21.000000   3.0   \n",
       "         mean     0.303538    0.552795    0.578431   0.724138   0.2   \n",
       "\n",
       "family_size            5          6    7    10  \n",
       "Survived count  22.000000  12.000000  6.0  7.0  \n",
       "         sum     3.000000   4.000000  0.0  0.0  \n",
       "         mean    0.136364   0.333333  0.0  0.0  "
      ]
     },
     "execution_count": 34,
     "metadata": {},
     "output_type": "execute_result"
    }
   ],
   "source": [
    "train['family_size'] = train['Parch'] + train['SibSp']\n",
    "(\n",
    "    train.groupby('family_size')\n",
    "    .agg({'Survived':['count', 'sum', 'mean']})\n",
    "    .T\n",
    ")"
   ]
  },
  {
   "attachments": {},
   "cell_type": "markdown",
   "metadata": {},
   "source": [
    "<span style=\"font-size:14px;line-height:1.5\">\n",
    "This non-linear pattern of survivorship mirrors the relationship we saw before with the number of people travelling on the same ticket. These variables are quite strongly correlated (r = 0.74), although not perfectly, which may indicate there is some additional information in ticket group size (e.g. social connections not represented through relatedness)\n",
    "<span>"
   ]
  },
  {
   "cell_type": "code",
   "execution_count": null,
   "metadata": {},
   "outputs": [],
   "source": [
    "train[['family_size','people_on_ticket']].corr()"
   ]
  },
  {
   "attachments": {},
   "cell_type": "markdown",
   "metadata": {},
   "source": [
    "<span style=\"font-size:14px;line-height:1.5\">\n",
    "<p>One could imagine using relatedness to build something more informative like a social graph in which relatives are located more closely to one another than unreleated individuals from the same demographics. It might also be possible to combine social relationships with other variables such as age to build features such as the likelihood of being a parent or child. We will consider these further in Chapter 3 on feature engineering.\n",
    "</p><p>\n",
    "\n",
    "### 1.2.10. PassengerId\n",
    "\n",
    "This should just be a unique index for use as a primary key. Let's check:</span>"
   ]
  },
  {
   "cell_type": "code",
   "execution_count": null,
   "metadata": {},
   "outputs": [],
   "source": [
    "train['PassengerId'].is_unique\n",
    "# test['PassengerId'].is_unique"
   ]
  },
  {
   "attachments": {},
   "cell_type": "markdown",
   "metadata": {},
   "source": [
    "<span style=\"font-size:14px;line-height:1.5\">\n",
    "We don't intend to use passenger Id in our model, but it's useful to just double check that there's no obvious relationship between this key and survival. It's possible in some datasets that the initial data collection is not random, for example if everyone who survived was listed first and thus had higher passenger IDs than those that died. If we only care about predictive performance, then we could exploit such a relationship. There isn't anything obvious in this particular dataset, but you'd be surprised how often primary keys contain information.\n",
    "</span>"
   ]
  },
  {
   "cell_type": "code",
   "execution_count": null,
   "metadata": {},
   "outputs": [],
   "source": [
    "train.plot.scatter(x='PassengerId', y='Survived')\n",
    "# plt.xlim((0, 40))\n",
    "plt.show()"
   ]
  },
  {
   "attachments": {},
   "cell_type": "markdown",
   "metadata": {},
   "source": [
    "---\n",
    "## 1.3. Interactions between features\n",
    "<span style=\"font-size:14px;line-height:1.5\">\n",
    "Within our dataset, we have a number of features that might be correlated, or interact in interesting ways. For example, we might expect children to pay less for tickets than adults, or that the effect of gender on survival is limited to adults. Identifying interactions of interest of important for specifying the design of statistical models, or where we fit full models (models that consider all features and all interactions between features, with appropriate regularization), for assessing the outcome of the fitting procedure. It also helps us think about the kind of higher dimensional spaces that models can explore to fit the data - for example, to find \n",
    "</span>\n",
    "\n",
    "### 1.3.1. Gender & Age\n",
    "\n",
    "<span style=\"font-size:14px;line-height:1.5\">\n",
    "The top plot above shows that very young children do indeed have the best survival rates, but this benifit is lost by the time we reach ages 10-15. This highlights how the definition of concepts (e.g. childhood) is culturally and temporally specific.\n",
    "\n",
    "Looking at the age profile for men and women also reveals that children were drawn from equal demographics, whereas from the mid-teens up until the sixties, the skew is for there to be more men. </span>"
   ]
  },
  {
   "cell_type": "code",
   "execution_count": null,
   "metadata": {},
   "outputs": [],
   "source": [
    "sns.lineplot(\n",
    "    data = pd.DataFrame(train.groupby(['Sex','age_group'])['Survived'].mean()),\n",
    "    x = 'age_group',\n",
    "    y = 'Survived',\n",
    "    hue = 'Sex',\n",
    ")\n",
    "plt.show()"
   ]
  },
  {
   "attachments": {},
   "cell_type": "markdown",
   "metadata": {},
   "source": [
    "However as we also predicted, there is a clear interaction between age and gender, with the gender of children under 5 less irrelevant and then age becoming more important in lowering the survival rates of men and not women (who's survival actually increases with age).\n",
    "\n",
    "### 1.3.2. Gender and Class\n",
    "\n",
    "<span style=\"font-size:14px;line-height:1.5\">\n",
    " <p>\n",
    "Yes, paying more increases your chances of survival - although only up to a point if you're a man. The demographics of fares also shows an interesting difference - the fare for a woman's ticket is on average more than a man's.  That makes sense if you consider that the gender ratio in first and second class is closer to parity, whereas a larger number of men in 3rd class are the driver for the lower fares.\n",
    "</p><p>\n",
    "The plots below confirm this, and also show an interaction with gender, where the biggest difference in survival between men and women was in second class.\n",
    " </p></span>"
   ]
  },
  {
   "cell_type": "code",
   "execution_count": null,
   "metadata": {},
   "outputs": [],
   "source": [
    "\n",
    "survival_by_class_gender = train.groupby(by=['Sex','Pclass'])['Survived'].mean()\n",
    "survival_by_class_gender.plot.bar(color=['gold','silver','k'], ax=axs[1])\n",
    "\n",
    "train.groupby('YrsOld')['Survived'].mean().plot(ax=axs[0])\n",
    "train.groupby('age_group')['Survived'].mean().plot(ax=axs[0], **{'marker':'.'})\n",
    "axs[0].set_ylabel('Survived (p)')\n",
    "\n",
    "sns.lineplot(\n",
    "    data = pd.DataFrame(train.groupby(['Sex','age_group'])['Pclass'].count()),\n",
    "    y = 'class',\n",
    "    x = 'age_group',\n",
    "    hue = 'Sex',\n",
    "    palette = 'Set2'\n",
    ")\n",
    "axs[1].set_ylabel('n')\n",
    "\n",
    "plt.show()"
   ]
  },
  {
   "cell_type": "code",
   "execution_count": null,
   "metadata": {},
   "outputs": [],
   "source": [
    "import matplotlib.gridspec as gridspec\n",
    "\n",
    "fig = plt.figure()\n",
    "gs = fig.add_gridspec(2,4)\n",
    "\n",
    "ax_0 = sns.lineplot(\n",
    "    data = pd.DataFrame(fare_group_survival).reset_index(),\n",
    "    x = 'fare_group',\n",
    "    y = 'Survived',\n",
    "    hue = 'Sex',\n",
    "    palette = 'Set2',\n",
    "    ax = fig.add_subplot(gs[0,0:3])\n",
    ")\n",
    "\n",
    "ax_0.set_xscale('log')\n",
    "\n",
    "ax_1 = sns.barplot(\n",
    "    data = pd.DataFrame(fare_group_samplesize).reset_index(),\n",
    "    x = 'fare_group',\n",
    "    y = 'Survived',\n",
    "    hue = 'Sex',\n",
    "    palette = 'Set2',\n",
    "    ax = fig.add_subplot(gs[1,0:3])\n",
    ")\n",
    "\n",
    "ax_1.set_ylabel('Passengers (n)')\n",
    "# ax_1._legend.set_visible(False)\n",
    "\n",
    "# Plot class of passengers by gender\n",
    "count_by_class_gender = (\n",
    "    pd.DataFrame(\n",
    "        train[['class','Sex','Fare']]\n",
    "        .groupby(['Sex','class'])\n",
    "        .count()\n",
    "    )\n",
    "    .reset_index()\n",
    "    .sort_values(by='Sex')\n",
    "    .rename({'Fare':'N'}, axis=1)\n",
    ")\n",
    "\n",
    "ax_2 = sns.barplot(\n",
    "    data = count_by_class_gender,\n",
    "    x = 'class',\n",
    "    y = 'N',\n",
    "    hue = 'Sex',\n",
    "    palette = 'Set2_r',\n",
    "    ax = fig.add_subplot(gs[:,3])\n",
    ")\n",
    "\n",
    "sns.despine(ax=ax_0)\n",
    "sns.despine(ax=ax_1)\n",
    "sns.despine(ax=ax_2)\n",
    "\n",
    "# ax_1.legend().remove()\n",
    "# ax_2.legend().remove()\n",
    "plt.show()"
   ]
  },
  {
   "cell_type": "code",
   "execution_count": null,
   "metadata": {},
   "outputs": [],
   "source": [
    "fig = plt.figure(constrained_layout=True)\n",
    "gs = fig.add_gridspec(2,2)\n",
    "\n",
    "ax_1 = sns.stripplot(\n",
    "    data=train, \n",
    "    x=\"Fare\", \n",
    "    y=\"class\", \n",
    "    hue=\"Sex\", \n",
    "    jitter = True,\n",
    "    size = 2,\n",
    "    palette = 'Set2',\n",
    "    alpha = 0.5,\n",
    "    dodge=True,\n",
    "    ax = fig.add_subplot(gs[0,:])\n",
    "    )\n",
    "\n",
    "ax_2 = sns.violinplot(\n",
    "    data=train, \n",
    "    x=\"Fare\", \n",
    "    y=\"class\", \n",
    "    hue=\"Sex\", \n",
    "    split = True,\n",
    "    palette = 'Set2',\n",
    "    legend=False,\n",
    "    ax = fig.add_subplot(gs[1,:])\n",
    "    )\n",
    "\n",
    "\n",
    "ax_2.set_xlim(ax_1.get_xlim())\n",
    "\n",
    "plt.show()"
   ]
  },
  {
   "attachments": {},
   "cell_type": "markdown",
   "metadata": {},
   "source": [
    "### 1.3.3. Ticket and Port of Embarcation\n",
    "\n",
    "One might wonder if ticket numbers contained the port of embarcation that might help us parse the other information in the ticket information. While there do seem to be some small details (for example, people boarding in Cherbourg include those with tickets mentioning Paris and Basel), there's no obvious connection."
   ]
  },
  {
   "cell_type": "code",
   "execution_count": null,
   "metadata": {},
   "outputs": [],
   "source": [
    "for port, port_data in train.groupby('Embarked'):\n",
    "    print(f\"Port = {port}, ticket_prefixes = {port_data['ticket_prefix'].sort_values().unique()}\")"
   ]
  },
  {
   "attachments": {},
   "cell_type": "markdown",
   "metadata": {},
   "source": [
    "### 1.3.4. Cabin\n",
    "\n",
    "Since so many cabin numbers are missing, it would be interesting to know if there's anything that predicts where passengers were staying on the ship. Ideally this might help us impute missing cabin (at least section information)\n",
    "\n",
    "#### 1.3.4.1. Ticket\n",
    "Individual sections don't appear to be associated in an obvious way with ticket number ranges:"
   ]
  },
  {
   "cell_type": "code",
   "execution_count": 55,
   "metadata": {},
   "outputs": [
    {
     "data": {
      "image/png": "[encoded data removed]",
      "text/plain": [
       "<Figure size 800x200 with 1 Axes>"
      ]
     },
     "metadata": {},
     "output_type": "display_data"
    }
   ],
   "source": [
    "fig = plt.figure(figsize=(8,2))\n",
    "ax = fig.add_subplot()\n",
    "train[['ticket_num','Section']].dropna().plot.scatter(x='ticket_num', y='Section', ax=ax)\n",
    "plt.show()"
   ]
  },
  {
   "attachments": {},
   "cell_type": "markdown",
   "metadata": {},
   "source": [
    "Unfortunately there's also a lot of missing cabins for passengers with ticket prefixes"
   ]
  },
  {
   "cell_type": "code",
   "execution_count": 64,
   "metadata": {},
   "outputs": [
    {
     "data": {
      "text/html": [
       "<div>\n",
       "<style scoped>\n",
       "    .dataframe tbody tr th:only-of-type {\n",
       "        vertical-align: middle;\n",
       "    }\n",
       "\n",
       "    .dataframe tbody tr th {\n",
       "        vertical-align: top;\n",
       "    }\n",
       "\n",
       "    .dataframe thead th {\n",
       "        text-align: right;\n",
       "    }\n",
       "</style>\n",
       "<table border=\"1\" class=\"dataframe\">\n",
       "  <thead>\n",
       "    <tr style=\"text-align: right;\">\n",
       "      <th></th>\n",
       "      <th>Ticket</th>\n",
       "      <th>ticket_prefix</th>\n",
       "      <th>Cabin</th>\n",
       "      <th>Section</th>\n",
       "    </tr>\n",
       "  </thead>\n",
       "  <tbody>\n",
       "    <tr>\n",
       "      <th>0</th>\n",
       "      <td>A/5 21171</td>\n",
       "      <td>a5</td>\n",
       "      <td>NaN</td>\n",
       "      <td>NaN</td>\n",
       "    </tr>\n",
       "    <tr>\n",
       "      <th>1</th>\n",
       "      <td>PC 17599</td>\n",
       "      <td>pc</td>\n",
       "      <td>C85</td>\n",
       "      <td>C</td>\n",
       "    </tr>\n",
       "    <tr>\n",
       "      <th>2</th>\n",
       "      <td>STON/O2. 3101282</td>\n",
       "      <td>stono2</td>\n",
       "      <td>NaN</td>\n",
       "      <td>NaN</td>\n",
       "    </tr>\n",
       "    <tr>\n",
       "      <th>17</th>\n",
       "      <td>PP 9549</td>\n",
       "      <td>pp</td>\n",
       "      <td>G6</td>\n",
       "      <td>G</td>\n",
       "    </tr>\n",
       "    <tr>\n",
       "      <th>18</th>\n",
       "      <td>PP 9549</td>\n",
       "      <td>pp</td>\n",
       "      <td>G6</td>\n",
       "      <td>G</td>\n",
       "    </tr>\n",
       "    <tr>\n",
       "      <th>...</th>\n",
       "      <td>...</td>\n",
       "      <td>...</td>\n",
       "      <td>...</td>\n",
       "      <td>...</td>\n",
       "    </tr>\n",
       "    <tr>\n",
       "      <th>865</th>\n",
       "      <td>PC 17592</td>\n",
       "      <td>pc</td>\n",
       "      <td>D28</td>\n",
       "      <td>D</td>\n",
       "    </tr>\n",
       "    <tr>\n",
       "      <th>874</th>\n",
       "      <td>SC/PARIS 2149</td>\n",
       "      <td>scparis</td>\n",
       "      <td>NaN</td>\n",
       "      <td>NaN</td>\n",
       "    </tr>\n",
       "    <tr>\n",
       "      <th>875</th>\n",
       "      <td>PC 17590</td>\n",
       "      <td>pc</td>\n",
       "      <td>A24</td>\n",
       "      <td>A</td>\n",
       "    </tr>\n",
       "    <tr>\n",
       "      <th>885</th>\n",
       "      <td>C.A./SOTON 34068</td>\n",
       "      <td>casoton</td>\n",
       "      <td>NaN</td>\n",
       "      <td>NaN</td>\n",
       "    </tr>\n",
       "    <tr>\n",
       "      <th>886</th>\n",
       "      <td>SOTON/OQ 392076</td>\n",
       "      <td>sotonoq</td>\n",
       "      <td>NaN</td>\n",
       "      <td>NaN</td>\n",
       "    </tr>\n",
       "  </tbody>\n",
       "</table>\n",
       "<p>230 rows × 4 columns</p>\n",
       "</div>"
      ],
      "text/plain": [
       "               Ticket ticket_prefix Cabin Section\n",
       "0           A/5 21171            a5   NaN     NaN\n",
       "1            PC 17599            pc   C85       C\n",
       "2    STON/O2. 3101282        stono2   NaN     NaN\n",
       "17            PP 9549            pp    G6       G\n",
       "18            PP 9549            pp    G6       G\n",
       "..                ...           ...   ...     ...\n",
       "865          PC 17592            pc   D28       D\n",
       "874     SC/PARIS 2149       scparis   NaN     NaN\n",
       "875          PC 17590            pc   A24       A\n",
       "885  C.A./SOTON 34068       casoton   NaN     NaN\n",
       "886   SOTON/OQ 392076       sotonoq   NaN     NaN\n",
       "\n",
       "[230 rows x 4 columns]"
      ]
     },
     "execution_count": 64,
     "metadata": {},
     "output_type": "execute_result"
    }
   ],
   "source": [
    "index = train[train['ticket_prefix'] != ''].index\n",
    "\n",
    "train.loc[index, ['Ticket','ticket_prefix','Cabin','Section']]"
   ]
  },
  {
   "cell_type": "code",
   "execution_count": 68,
   "metadata": {},
   "outputs": [
    {
     "data": {
      "text/plain": [
       "(150, 26)"
      ]
     },
     "execution_count": 68,
     "metadata": {},
     "output_type": "execute_result"
    }
   ],
   "source": [
    "train[(train['ticket_prefix'] == '') & (~train['Cabin'].isna())].shape"
   ]
  },
  {
   "attachments": {},
   "cell_type": "markdown",
   "metadata": {},
   "source": [
    "---\n",
    "## 1.4. Conclusions\n",
    "\n",
    "<span style=\"font-size:14px;line-height:1.5\">\n",
    "<p><b>Identifying missing data</b></p><p>\n",
    "In this chapter, we took our first look through the dataset. Initial inspection of the data highlighted that several columns (e.g. Age and Cabin) contain missing data. Most often missing data was encoded as NaNs, but we also found some examples where missing data was a part of a string (e.g. prefixes on ticket numbers) or required us to thing further about the meaning of the data itself (in the case of passengers paying zero Fare). We saw how the absence of this data can itself be informative about survival, if the data are not missing at random, and we created features with the specific intention of encoding whether data was present or absent. In chapter 2, we will explore these issues further and see how we can estimate the values of these missing data using different methods. \n",
    "</p><p>\n",
    "<b>Distributions</b></p><p>\n",
    "When visualizing the distribution of continuous variables in the data such as Fare highlighted that such features are not normally distributed and may require transformation. When it was not clear if a variable such as Age had a normal distribution, we used a statistical test (the Kolmogorov-Smirnov test) to provide an objective decision. The absence of normal distributions is not surprising, given we know that most continuous variables in the dataset are non-negative.\n",
    "</p><p>\n",
    "<b>Intuitive relationships</b></p><p>\n",
    "Within the data, we saw relationships that match our expectations about survival of passengers on a sinking ship in terms of age, class and gender. This gives us confidence that there is information within the features that will allow us to predict survival on the test dataset. Though we might expect to be confident in the case of this specific dataset, it's always important to consider whether data make sense and that there is actually some information to extract.\n",
    "</p><p>\n",
    "<b>Next Steps</b></p><p>\n",
    "Finally, we began to extract more of this information from variables such as Name and Ticket Number, and build features such as the profession of passengers, the number of people they were travelling with etc.  \n",
    "\n",
    "</p><p>\n",
    "In the next chapter, we will take feature engineering further to consider some of the advanced tools for thinking about the problem of predicting survival. Although Chapters 2 and 3 address Imputation and Feature Engineering separately, this order should not be taken to imply that one step should necessarily be done before or after the other. Some might argue that imputation is a form of feature engineering and there are certainly synergies between the two processes; engineering features can improve the quality of imputation, while imputation can open up new opportunities for feature engineering. \n",
    "</p><p>\n",
    "The pipeline for our analysis therefore looks like the diagram below, with multiple pathways and the potential for iterative refinement of the data through multiple steps. If we're fortunate enough to have a full dataset (i.e. no missing data) and we're specifically interested in the primary data, we can go straight to Chapter 4 and the prepration of data for machine learning. This chapter will conclude the first part of the book before we look at the potential options for predicting survival in Part II.\n",
    "</p>\n",
    "\n",
    "\n",
    "![Flow-chart for progress from exploratory data analysis to preparations for machine learning](part_1_layout.png \"Flow chart\")\n",
    "\n",
    "</span>\n",
    "\n"
   ]
  }
 ],
 "metadata": {
  "kernelspec": {
   "display_name": "Python 3.8.3 ('env': venv)",
   "language": "python",
   "name": "python3"
  },
  "language_info": {
   "codemirror_mode": {
    "name": "ipython",
    "version": 3
   },
   "file_extension": ".py",
   "mimetype": "text/x-python",
   "name": "python",
   "nbconvert_exporter": "python",
   "pygments_lexer": "ipython3",
   "version": "3.8.3"
  },
  "orig_nbformat": 4,
  "vscode": {
   "interpreter": {
    "hash": "9b730ead757b5d9b842526340519d98f65a574c00873e9637238694ddd8f9228"
   }
  }
 },
 "nbformat": 4,
 "nbformat_minor": 2
}
