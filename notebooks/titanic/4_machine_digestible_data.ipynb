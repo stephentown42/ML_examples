{
 "cells": [
  {
   "attachments": {},
   "cell_type": "markdown",
   "metadata": {},
   "source": [
    "# 4. Machine digestible data\n",
    "\n",
    "## 4.1. Making data easier to digest\n",
    "\n",
    "Machine learning systems aren't magic - they're just large systems of equations. The goal of machine learning is to extract something useful from a dataset and to acheive this via systems of equations, we generally have to scale our data in certain ways. \n",
    "\n",
    "\n",
    "Data that contains large values or features with very different scales (e.g. Family size of 1-10 and Fares between 10 and 1000) is unsuitable for neural networks as such data can trigger large gradient updates that prevent networks from converging (F.Chollet, Deep Learning with Python, Chapter 6.2.1)\n",
    "\n",
    "\n",
    "## 4.2. Things to be aware of\n",
    "\n",
    "### 4.2.1. Data Leakage and Drift\n",
    "Never use test data in calculation of normalization statistics such as mean or variance, as this allows information from the test data set to leak into the training process. Always keep the test data separate\n",
    "\n",
    "If the normalization process uses scale factors learnt from the training data, be aware of <b>data drift</b> in which the statistics of incoming test data change (also known as <b>non-stationary</b> data). For example, if you train your model of stock prices on data with a mean value of $5, and the average price rises to $1000, the same normalization process will no longer work.\n",
    "\n",
    "\n",
    "## 4.3. When not to rescale\n",
    "\n",
    "There are some important cases when rescaling or normalization is not appropriate. In particular when fitting statistical models in which the coefficients are physically meaningful. For example, if using linear regression to predict calories burned from the number of steps walked, the coefficient representing the slope of the regression line can tell us how many calories per step are consumed. This value will only be meaningful if we avoid scaling the data."
   ]
  }
 ],
 "metadata": {
  "kernelspec": {
   "display_name": "base",
   "language": "python",
   "name": "python3"
  },
  "language_info": {
   "name": "python",
   "version": "3.8.3 (default, Jul  2 2020, 16:21:59) \n[GCC 7.3.0]"
  },
  "orig_nbformat": 4,
  "vscode": {
   "interpreter": {
    "hash": "735d2560f5c4584cff7d173bd0522e24fb31a457139f28509b78982ec0581f5a"
   }
  }
 },
 "nbformat": 4,
 "nbformat_minor": 2
}
