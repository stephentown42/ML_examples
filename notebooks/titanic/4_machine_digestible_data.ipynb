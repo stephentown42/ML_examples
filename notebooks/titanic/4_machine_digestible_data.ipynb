{
 "cells": [
  {
   "attachments": {},
   "cell_type": "markdown",
   "metadata": {},
   "source": [
    "# 4. Machine digestible data\n",
    "\n",
    "## When not to rescale\n",
    "\n",
    "There are some important cases when rescaling or normalization is not appropriate. In particular when fitting statistical models in which the coefficients are physically meaningful. For example, if using linear regression to predict calories burned from the number of steps walked, the coefficient representing the slope of the regression line can tell us how many calories per step are consumed. This value will only be meaningful if we avoid scaling the data."
   ]
  }
 ],
 "metadata": {
  "kernelspec": {
   "display_name": "base",
   "language": "python",
   "name": "python3"
  },
  "language_info": {
   "name": "python",
   "version": "3.8.3 (default, Jul  2 2020, 16:21:59) \n[GCC 7.3.0]"
  },
  "orig_nbformat": 4,
  "vscode": {
   "interpreter": {
    "hash": "735d2560f5c4584cff7d173bd0522e24fb31a457139f28509b78982ec0581f5a"
   }
  }
 },
 "nbformat": 4,
 "nbformat_minor": 2
}
