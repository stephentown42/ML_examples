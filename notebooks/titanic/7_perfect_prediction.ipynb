{
 "cells": [
  {
   "cell_type": "markdown",
   "metadata": {},
   "source": [
    "# Perfect performance?\n",
    "\n",
    "Predicting survival in the titanic dataset is meant as a toy example of machine learning and statistics. Anyone with experience in or around these fields will tell you that perfect prediction should be impossible in a system in which you're working with uncertainty. To predict an outcome perfectly either reflects a very lucky guess that will be unsustainable in future testing or cheating.\n",
    "\n",
    "I share this viewpoint, so let's start cheating.\n",
    "\n",
    "What do I mean by cheating? I mean going beyond the limits of the training dataset to find additional sources of information that will help us *determine* rather than *predict* who survived. Prediction is something you need to do when you don't have information, determination is finding out that information, and as Patrick Winston once said, \"the best way to find out is to ask someone who knows\"\n",
    "\n",
    "Plenty of people know who survived the titanic and who didn't. We just need to ask them..."
   ]
  }
 ],
 "metadata": {
  "kernelspec": {
   "display_name": "Python 3.8.3 ('base')",
   "language": "python",
   "name": "python3"
  },
  "language_info": {
   "name": "python",
   "version": "3.8.3"
  },
  "orig_nbformat": 4,
  "vscode": {
   "interpreter": {
    "hash": "735d2560f5c4584cff7d173bd0522e24fb31a457139f28509b78982ec0581f5a"
   }
  }
 },
 "nbformat": 4,
 "nbformat_minor": 2
}
